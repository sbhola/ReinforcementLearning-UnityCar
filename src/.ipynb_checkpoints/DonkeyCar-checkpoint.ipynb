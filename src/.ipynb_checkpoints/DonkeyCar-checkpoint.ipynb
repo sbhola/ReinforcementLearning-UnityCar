{
 "cells": [
  {
   "cell_type": "code",
   "execution_count": 1,
   "metadata": {},
   "outputs": [
    {
     "name": "stderr",
     "output_type": "stream",
     "text": [
      "C:\\ProgramData\\Anaconda3\\envs\\gym6\\lib\\site-packages\\skimage\\viewer\\utils\\core.py:10: UserWarning: Recommended matplotlib backend is `Agg` for full skimage.viewer functionality.\n",
      "  warn(\"Recommended matplotlib backend is `Agg` for full \"\n",
      "Using TensorFlow backend.\n"
     ]
    }
   ],
   "source": [
    "import sys\n",
    "import gym\n",
    "import random\n",
    "import numpy as np\n",
    "import cv2\n",
    "import skimage as skimage\n",
    "from skimage import transform, color, exposure\n",
    "from skimage.transform import rotate\n",
    "from skimage.viewer import ImageViewer\n",
    "from collections import deque\n",
    "from keras.layers import Dense\n",
    "from keras.optimizers import Adam\n",
    "from keras.models import Sequential\n",
    "from keras.initializers import normal, identity\n",
    "from keras.models import model_from_json\n",
    "from keras.models import Sequential\n",
    "from keras.layers.core import Dense, Dropout, Activation, Flatten\n",
    "from keras.layers.convolutional import Convolution2D, MaxPooling2D\n",
    "import tensorflow as tf\n",
    "from keras import backend as K\n",
    "\n",
    "import donkey_gym\n",
    "import my_cv\n",
    "import h5py"
   ]
  },
  {
   "cell_type": "code",
   "execution_count": 2,
   "metadata": {},
   "outputs": [],
   "source": [
    "\n",
    "EPISODES = 100\n",
    "img_rows , img_cols = 80, 80\n",
    "# Convert image into Black and white\n",
    "img_channels = 4 # We stack 4 frames\n"
   ]
  },
  {
   "cell_type": "code",
   "execution_count": 3,
   "metadata": {},
   "outputs": [],
   "source": [
    "class DQNAgent:\n",
    "\n",
    "    def __init__(self, state_size, action_size):\n",
    "        self.t = 0\n",
    "        self.max_Q = 0\n",
    "        self.train = True\n",
    "        self.lane_detection = False # Set to True to train on images with segmented lane lines\n",
    "\n",
    "        # Get size of state and action\n",
    "        self.state_size = state_size\n",
    "        self.action_size = action_size\n",
    "\n",
    "        # These are hyper parameters for the DQN\n",
    "        self.discount_factor = 0.99\n",
    "        self.learning_rate = 1e-4\n",
    "        if (self.train):\n",
    "            self.epsilon = 1.0\n",
    "            self.initial_epsilon = 1.0\n",
    "        else:\n",
    "            self.epsilon = 1e-6\n",
    "            self.initial_epsilon = 1e-6\n",
    "        self.epsilon_min = 0.02\n",
    "        self.batch_size = 64\n",
    "        self.train_start = 100\n",
    "        self.explore = 10000\n",
    "\n",
    "        # Create replay memory using deque\n",
    "        self.memory = deque(maxlen=10000)\n",
    "\n",
    "        # Create main model and target model\n",
    "        self.model = self.build_model()\n",
    "        self.target_model = self.build_model()\n",
    "\n",
    "        # Copy the model to target model\n",
    "        # --> initialize the target model so that the parameters of model & target model to be same\n",
    "        self.update_target_model()\n",
    "\n",
    "    def build_model(self):\n",
    "        print(\"Now we build the model\")\n",
    "        model = Sequential()\n",
    "        model.add(Convolution2D(32, 8, 8, subsample=(4, 4), border_mode='same',input_shape=(img_rows,img_cols,img_channels)))  #80*80*4\n",
    "        model.add(Activation('relu'))\n",
    "        model.add(Convolution2D(64, 4, 4, subsample=(2, 2), border_mode='same'))\n",
    "        model.add(Activation('relu'))\n",
    "        model.add(Convolution2D(64, 3, 3, subsample=(1, 1), border_mode='same'))\n",
    "        model.add(Activation('relu'))\n",
    "        model.add(Flatten())\n",
    "        model.add(Dense(512))\n",
    "        model.add(Activation('relu'))\n",
    "\n",
    "        # 15 categorical bins for Steering angles\n",
    "        model.add(Dense(15, activation=\"linear\")) \n",
    "\n",
    "        adam = Adam(lr=self.learning_rate)\n",
    "        model.compile(loss='mse',optimizer=adam)\n",
    "        print(\"We finished building the model\")\n",
    "\n",
    "        return model\n",
    "\n",
    "    def process_image(self, obs):\n",
    "\n",
    "        if not agent.lane_detection:\n",
    "            obs = skimage.color.rgb2gray(obs)\n",
    "            obs = skimage.transform.resize(obs, (img_rows, img_cols))\n",
    "            return obs\n",
    "        else:\n",
    "            obs = cv2.cvtColor(obs, cv2.COLOR_BGR2GRAY)\n",
    "            obs = cv2.resize(obs, (img_rows, img_cols))\n",
    "            edges = my_cv.detect_edges(obs, low_threshold=50, high_threshold=150)\n",
    "\n",
    "            rho = 0.8\n",
    "            theta = np.pi/180\n",
    "            threshold = 25\n",
    "            min_line_len = 5\n",
    "            max_line_gap = 10\n",
    "\n",
    "            hough_lines = my_cv.hough_lines(edges, rho, theta, threshold, min_line_len, max_line_gap)\n",
    "\n",
    "            left_lines, right_lines = my_cv.separate_lines(hough_lines)\n",
    "\n",
    "            filtered_right, filtered_left = [],[]\n",
    "            if len(left_lines):\n",
    "                filtered_left = my_cv.reject_outliers(left_lines, cutoff=(-30.0, -0.1), lane='left')\n",
    "            if len(right_lines):\n",
    "                filtered_right = my_cv.reject_outliers(right_lines,  cutoff=(0.1, 30.0), lane='right')\n",
    "\n",
    "            lines = []\n",
    "            if len(filtered_left) and len(filtered_right):\n",
    "                lines = np.expand_dims(np.vstack((np.array(filtered_left),np.array(filtered_right))),axis=0).tolist()\n",
    "            elif len(filtered_left):\n",
    "                lines = np.expand_dims(np.expand_dims(np.array(filtered_left),axis=0),axis=0).tolist()\n",
    "            elif len(filtered_right):\n",
    "                lines = np.expand_dims(np.expand_dims(np.array(filtered_right),axis=0),axis=0).tolist()\n",
    "\n",
    "            ret_img = np.zeros((80,80))\n",
    "\n",
    "            if len(lines):\n",
    "                try:\n",
    "                    my_cv.draw_lines(ret_img, lines, thickness=1)\n",
    "                except:\n",
    "                    pass\n",
    "\n",
    "            return ret_img\n",
    "        \n",
    "\n",
    "    def update_target_model(self):\n",
    "        self.target_model.set_weights(self.model.get_weights())\n",
    "\n",
    "    # Get action from model using epsilon-greedy policy\n",
    "    def get_action(self, s_t):\n",
    "        if np.random.rand() <= self.epsilon:\n",
    "            #print(\"Return Random Value\")\n",
    "            #return random.randrange(self.action_size)\n",
    "            return np.random.uniform(-1,1)\n",
    "        else:\n",
    "            #print(\"Return Max Q Prediction\")\n",
    "            q_value = self.model.predict(s_t)\n",
    "            # Convert q array to steering value\n",
    "            return linear_unbin(q_value[0])\n",
    "\n",
    "    def replay_memory(self, state, action, reward, next_state, done):\n",
    "        self.memory.append((state, action, reward, next_state, done))\n",
    "        if self.epsilon > self.epsilon_min:\n",
    "            #self.epsilon *= self.epsilon_decay\n",
    "            self.epsilon -= (self.initial_epsilon - self.epsilon_min) / self.explore\n",
    "\n",
    "\n",
    "    def train_replay(self):\n",
    "        if len(self.memory) < self.train_start:\n",
    "            return\n",
    "        \n",
    "        batch_size = min(self.batch_size, len(self.memory))\n",
    "        minibatch = random.sample(self.memory, batch_size)\n",
    "\n",
    "        state_t, action_t, reward_t, state_t1, terminal = zip(*minibatch)\n",
    "        state_t = np.concatenate(state_t)\n",
    "        state_t1 = np.concatenate(state_t1)\n",
    "        targets = self.model.predict(state_t)\n",
    "        self.max_Q = np.max(targets[0])\n",
    "        target_val = self.model.predict(state_t1)\n",
    "        target_val_ = self.target_model.predict(state_t1)\n",
    "        for i in range(batch_size):\n",
    "            if terminal[i]:\n",
    "                targets[i][action_t[i]] = reward_t[i]\n",
    "            else:\n",
    "                a = np.argmax(target_val[i])\n",
    "                targets[i][action_t[i]] = reward_t[i] + self.discount_factor * (target_val_[i][a])\n",
    "\n",
    "        self.model.train_on_batch(state_t, targets)\n",
    "\n",
    "    def load_model(self, name):\n",
    "        self.model.load_weights(name)\n",
    "\n",
    "    # Save the model which is under training\n",
    "    def save_model(self, name):\n",
    "        self.model.save_weights(name)\n"
   ]
  },
  {
   "cell_type": "code",
   "execution_count": 4,
   "metadata": {},
   "outputs": [],
   "source": [
    "## Utils Functions ##\n",
    "\n",
    "def linear_bin(a):\n",
    "    \"\"\"\n",
    "    Convert a value to a categorical array.\n",
    "\n",
    "    Parameters\n",
    "    ----------\n",
    "    a : int or float\n",
    "        A value between -1 and 1\n",
    "\n",
    "    Returns\n",
    "    -------\n",
    "    list of int\n",
    "        A list of length 15 with one item set to 1, which represents the linear value, and all other items set to 0.\n",
    "    \"\"\"\n",
    "    a = a + 1\n",
    "    b = round(a / (2 / 14))\n",
    "    arr = np.zeros(15)\n",
    "    arr[int(b)] = 1\n",
    "    return arr\n",
    "\n",
    "\n",
    "def linear_unbin(arr):\n",
    "    \"\"\"\n",
    "    Convert a categorical array to value.\n",
    "\n",
    "    See Also\n",
    "    --------\n",
    "    linear_bin\n",
    "    \"\"\"\n",
    "    if not len(arr) == 15:\n",
    "        raise ValueError('Illegal array length, must be 15')\n",
    "    b = np.argmax(arr)\n",
    "    a = b * (2 / 14) - 1\n",
    "    return a\n"
   ]
  },
  {
   "cell_type": "code",
   "execution_count": 5,
   "metadata": {},
   "outputs": [],
   "source": [
    "## Utils Functions ##\n",
    "\n",
    "def linear_bin(a):\n",
    "    \"\"\"\n",
    "    Convert a value to a categorical array.\n",
    "\n",
    "    Parameters\n",
    "    ----------\n",
    "    a : int or float\n",
    "        A value between -1 and 1\n",
    "\n",
    "    Returns\n",
    "    -------\n",
    "    list of int\n",
    "        A list of length 15 with one item set to 1, which represents the linear value, and all other items set to 0.\n",
    "    \"\"\"\n",
    "    a = a + 1\n",
    "    b = round(a / (2 / 14))\n",
    "    arr = np.zeros(15)\n",
    "    arr[int(b)] = 1\n",
    "    return arr\n",
    "\n",
    "\n",
    "def linear_unbin(arr):\n",
    "    \"\"\"\n",
    "    Convert a categorical array to value.\n",
    "\n",
    "    See Also\n",
    "    --------\n",
    "    linear_bin\n",
    "    \"\"\"\n",
    "    if not len(arr) == 15:\n",
    "        raise ValueError('Illegal array length, must be 15')\n",
    "    b = np.argmax(arr)\n",
    "    a = b * (2 / 14) - 1\n",
    "    return a\n"
   ]
  },
  {
   "cell_type": "code",
   "execution_count": 6,
   "metadata": {},
   "outputs": [
    {
     "name": "stderr",
     "output_type": "stream",
     "text": [
      "(1924) wsgi starting up on http://0.0.0.0:9090\n",
      "C:\\Users\\Siddharth Bhola\\AppData\\Roaming\\Python\\Python36\\site-packages\\ipykernel_launcher.py:41: UserWarning: Update your `Conv2D` call to the Keras 2 API: `Conv2D(32, (8, 8), input_shape=(80, 80, 4..., strides=(4, 4), padding=\"same\")`\n",
      "C:\\Users\\Siddharth Bhola\\AppData\\Roaming\\Python\\Python36\\site-packages\\ipykernel_launcher.py:43: UserWarning: Update your `Conv2D` call to the Keras 2 API: `Conv2D(64, (4, 4), strides=(2, 2), padding=\"same\")`\n",
      "C:\\Users\\Siddharth Bhola\\AppData\\Roaming\\Python\\Python36\\site-packages\\ipykernel_launcher.py:45: UserWarning: Update your `Conv2D` call to the Keras 2 API: `Conv2D(64, (3, 3), strides=(1, 1), padding=\"same\")`\n"
     ]
    },
    {
     "name": "stdout",
     "output_type": "stream",
     "text": [
      "The true file name is donkey\n",
      "[]\n",
      "launch string is Null\n",
      "Now we build the model\n",
      "We finished building the model\n",
      "Now we build the model\n",
      "We finished building the model\n",
      "Episode:  0\n",
      "connect  57e106c7565d49cb83be0744b6e98530\n"
     ]
    },
    {
     "name": "stderr",
     "output_type": "stream",
     "text": [
      "(1924) accepted ('127.0.0.1', 19418)\n"
     ]
    },
    {
     "name": "stdout",
     "output_type": "stream",
     "text": [
      "EPISODE 0 TIMESTEP 30 / ACTION [-0.4725917805592872, 0.3] / REWARD 0.84584714 / EPISODE LENGTH 30 / Q_MAX  0\n",
      "episode: 0   memory length: 42   epsilon: 0.9958839999999982  episode length: 42\n",
      "Episode:  1\n",
      "connect  c5fc87efc8534149835f4943f4754fbe\n",
      "ProtocolVersion  c5fc87efc8534149835f4943f4754fbe\n",
      "Loading generated_road\n"
     ]
    },
    {
     "name": "stderr",
     "output_type": "stream",
     "text": [
      "(1924) accepted ('127.0.0.1', 19419)\n",
      "(1924) accepted ('127.0.0.1', 19420)\n"
     ]
    },
    {
     "name": "stdout",
     "output_type": "stream",
     "text": [
      "connect  6c1f28280f0d437e80082c173645f301\n",
      "EPISODE 1 TIMESTEP 60 / ACTION [-0.5442274326346546, 0.3] / REWARD 0.990105118 / EPISODE LENGTH 18 / Q_MAX  0\n",
      "EPISODE 1 TIMESTEP 90 / ACTION [0.9043854700148102, 0.3] / REWARD 0.7939042000000001 / EPISODE LENGTH 48 / Q_MAX  0\n"
     ]
    },
    {
     "name": "stderr",
     "output_type": "stream",
     "text": [
      "127.0.0.1 - - [13/Jun/2019 00:07:29] \"GET /socket.io/?EIO=4&transport=websocket HTTP/1.1\" 200 0 69.038560\n",
      "127.0.0.1 - - [13/Jun/2019 00:07:33] \"GET /socket.io/?EIO=4&transport=websocket HTTP/1.1\" 200 0 63.500219\n"
     ]
    },
    {
     "name": "stdout",
     "output_type": "stream",
     "text": [
      "episode: 1   memory length: 118   epsilon: 0.988435999999995  episode length: 76\n",
      "Episode:  2\n",
      "connect  2e307afb8a764eb7856aad1527840ccc\n",
      "ProtocolVersion  2e307afb8a764eb7856aad1527840ccc\n",
      "Loading"
     ]
    },
    {
     "name": "stderr",
     "output_type": "stream",
     "text": [
      "(1924) accepted ('127.0.0.1', 19448)\n"
     ]
    },
    {
     "name": "stdout",
     "output_type": "stream",
     "text": [
      " generated_road\n"
     ]
    },
    {
     "name": "stderr",
     "output_type": "stream",
     "text": [
      "(1924) accepted ('127.0.0.1', 19451)\n"
     ]
    },
    {
     "name": "stdout",
     "output_type": "stream",
     "text": [
      "connect  0262b6269da04087854e6f8a61830fa1\n",
      "EPISODE 2 TIMESTEP 120 / ACTION [-0.48738332707393317, 0.3] / REWARD 0.99983205926 / EPISODE LENGTH 2 / Q_MAX  0.94233155\n"
     ]
    },
    {
     "name": "stderr",
     "output_type": "stream",
     "text": [
      "127.0.0.1 - - [13/Jun/2019 00:08:54] \"GET /socket.io/?EIO=4&transport=websocket HTTP/1.1\" 200 0 143.789232\n",
      "127.0.0.1 - - [13/Jun/2019 00:08:54] \"GET /socket.io/?EIO=4&transport=websocket HTTP/1.1\" 200 0 61.104790\n"
     ]
    },
    {
     "name": "stdout",
     "output_type": "stream",
     "text": [
      "EPISODE 2 TIMESTEP 150 / ACTION [-0.249614434676509, 0.3] / REWARD 0.9104124 / EPISODE LENGTH 32 / Q_MAX  1.3167074\n",
      "EPISODE 2 TIMESTEP 180 / ACTION [-0.7947641336464881, 0.3] / REWARD 0.9195218000000001 / EPISODE LENGTH 62 / Q_MAX  1.456331\n",
      "EPISODE 2 TIMESTEP 210 / ACTION [0.12787267630108334, 0.3] / REWARD -1.0 / EPISODE LENGTH 92 / Q_MAX  1.7279538\n",
      "episode: 2   memory length: 210   epsilon: 0.9794199999999911  episode length: 92\n",
      "Episode:  3\n",
      "connect  93b0fbfeee124133a6ec2b9c9b17f453\n",
      "ProtocolVersion  93b0fbfeee124133a6ec2b9c9b17f453\n",
      "Loading generated_road\n"
     ]
    },
    {
     "name": "stderr",
     "output_type": "stream",
     "text": [
      "(1924) accepted ('127.0.0.1', 19481)\n",
      "(1924) accepted ('127.0.0.1', 19482)\n"
     ]
    },
    {
     "name": "stdout",
     "output_type": "stream",
     "text": [
      "connect  0428447b68f74bdd84b42690d7cf727c\n"
     ]
    },
    {
     "name": "stderr",
     "output_type": "stream",
     "text": [
      "127.0.0.1 - - [13/Jun/2019 00:14:20] \"GET /socket.io/?EIO=4&transport=websocket HTTP/1.1\" 200 0 386.003077\n",
      "127.0.0.1 - - [13/Jun/2019 00:14:23] \"GET /socket.io/?EIO=4&transport=websocket HTTP/1.1\" 200 0 60.149508\n"
     ]
    },
    {
     "name": "stdout",
     "output_type": "stream",
     "text": [
      "EPISODE 3 TIMESTEP 240 / ACTION [-0.642818056551355, 0.3] / REWARD 0.99144847 / EPISODE LENGTH 30 / Q_MAX  2.8349905\n",
      "EPISODE 3 TIMESTEP 270 / ACTION [0.5582469556323002, 0.3] / REWARD 0.730545 / EPISODE LENGTH 60 / Q_MAX  2.3192618\n",
      "episode: 3   memory length: 293   epsilon: 0.9712859999999875  episode length: 83\n",
      "Episode:  4\n",
      "connect  b66de90a52b0464484d96cf586c83c09\n",
      "ProtocolVersion  b66de90a52b0464484d96cf586c83c09\n",
      "Loading generated_road\n"
     ]
    },
    {
     "name": "stderr",
     "output_type": "stream",
     "text": [
      "(1924) accepted ('127.0.0.1', 19499)\n",
      "(1924) accepted ('127.0.0.1', 19500)\n"
     ]
    },
    {
     "name": "stdout",
     "output_type": "stream",
     "text": [
      "connect  73608b5f969f4394af4a4c1a3c24e010\n",
      "EPISODE 4 TIMESTEP 300 / ACTION [-0.1551552803697196, 0.3] / REWARD 0.9996287984 / EPISODE LENGTH 7 / Q_MAX  4.16829\n"
     ]
    },
    {
     "name": "stderr",
     "output_type": "stream",
     "text": [
      "127.0.0.1 - - [13/Jun/2019 00:18:41] \"GET /socket.io/?EIO=4&transport=websocket HTTP/1.1\" 200 0 317.769181\n",
      "127.0.0.1 - - [13/Jun/2019 00:18:44] \"GET /socket.io/?EIO=4&transport=websocket HTTP/1.1\" 200 0 62.665955\n"
     ]
    },
    {
     "name": "stdout",
     "output_type": "stream",
     "text": [
      "EPISODE 4 TIMESTEP 330 / ACTION [0.43233118675758364, 0.3] / REWARD 0.9982458428 / EPISODE LENGTH 37 / Q_MAX  3.1083279\n",
      "EPISODE 4 TIMESTEP 360 / ACTION [-0.45475701371091404, 0.3] / REWARD 0.7242988 / EPISODE LENGTH 67 / Q_MAX  3.0883336\n",
      "EPISODE 4 TIMESTEP 390 / ACTION [-0.6903686146204, 0.3] / REWARD 0.41340240000000006 / EPISODE LENGTH 97 / Q_MAX  3.2877314\n",
      "episode: 4   memory length: 396   epsilon: 0.9611919999999832  episode length: 103\n",
      "Episode:  5\n",
      "connect  a6c505ecc45941078b4cb48ec3ab4eff\n",
      "ProtocolVersion  a6c505ecc45941078b4cb48ec3ab4eff\n",
      "Loading generated_road\n"
     ]
    },
    {
     "name": "stderr",
     "output_type": "stream",
     "text": [
      "(1924) accepted ('127.0.0.1', 19513)\n",
      "(1924) accepted ('127.0.0.1', 19514)\n"
     ]
    },
    {
     "name": "stdout",
     "output_type": "stream",
     "text": [
      "connect  698282adaac34fbf99ac014171012542\n"
     ]
    },
    {
     "name": "stderr",
     "output_type": "stream",
     "text": [
      "127.0.0.1 - - [13/Jun/2019 00:23:41] \"GET /socket.io/?EIO=4&transport=websocket HTTP/1.1\" 200 0 358.940767\n",
      "127.0.0.1 - - [13/Jun/2019 00:23:43] \"GET /socket.io/?EIO=4&transport=websocket HTTP/1.1\" 200 0 61.754763\n"
     ]
    },
    {
     "name": "stdout",
     "output_type": "stream",
     "text": [
      "EPISODE 5 TIMESTEP 420 / ACTION [-0.7032794516821375, 0.3] / REWARD 0.995979312 / EPISODE LENGTH 24 / Q_MAX  4.3032703\n",
      "EPISODE 5 TIMESTEP 450 / ACTION [-0.23863691896636263, 0.3] / REWARD 0.95275088 / EPISODE LENGTH 54 / Q_MAX  4.0554523\n",
      "EPISODE 5 TIMESTEP 480 / ACTION [0.785252200337005, 0.3] / REWARD -1.0 / EPISODE LENGTH 84 / Q_MAX  4.0554485\n",
      "episode: 5   memory length: 480   epsilon: 0.9529599999999796  episode length: 84\n",
      "Episode:  6\n",
      "connect  04107bd3e36449c4b4b9ec15dbd4a703\n",
      "ProtocolVersion  04107bd3e36449c4b4b9ec15dbd4a703\n",
      "Loading"
     ]
    },
    {
     "name": "stderr",
     "output_type": "stream",
     "text": [
      "(1924) accepted ('127.0.0.1', 19520)\n"
     ]
    },
    {
     "name": "stdout",
     "output_type": "stream",
     "text": [
      " generated_road\n"
     ]
    },
    {
     "name": "stderr",
     "output_type": "stream",
     "text": [
      "(1924) accepted ('127.0.0.1', 19521)\n"
     ]
    },
    {
     "name": "stdout",
     "output_type": "stream",
     "text": [
      "connect  5000d439e2b94654b288b6636f5a6233\n"
     ]
    },
    {
     "name": "stderr",
     "output_type": "stream",
     "text": [
      "127.0.0.1 - - [13/Jun/2019 00:27:40] \"GET /socket.io/?EIO=4&transport=websocket HTTP/1.1\" 200 0 297.519937\n",
      "127.0.0.1 - - [13/Jun/2019 00:27:42] \"GET /socket.io/?EIO=4&transport=websocket HTTP/1.1\" 200 0 61.921758\n"
     ]
    },
    {
     "name": "stdout",
     "output_type": "stream",
     "text": [
      "EPISODE 6 TIMESTEP 510 / ACTION [-0.5714285714285714, 0.3] / REWARD 0.92125122 / EPISODE LENGTH 30 / Q_MAX  4.666639\n",
      "EPISODE 6 TIMESTEP 540 / ACTION [-0.038644075031559755, 0.3] / REWARD 0.4068862 / EPISODE LENGTH 60 / Q_MAX  4.7592487\n",
      "episode: 6   memory length: 557   epsilon: 0.9454139999999763  episode length: 77\n",
      "Episode:  7\n",
      "connect  fa76db6027144e8fbf74d8c9aeacd218\n",
      "ProtocolVersion  fa76db6027144e8fbf74d8c9aeacd218\n",
      "Loading generated_road\n"
     ]
    },
    {
     "name": "stderr",
     "output_type": "stream",
     "text": [
      "(1924) accepted ('127.0.0.1', 19551)\n",
      "(1924) accepted ('127.0.0.1', 19552)\n"
     ]
    },
    {
     "name": "stdout",
     "output_type": "stream",
     "text": [
      "connect  5bc793e58ba34ca39acc8ab597b784f6\n",
      "EPISODE 7 TIMESTEP 570 / ACTION [0.9527729034993397, 0.3] / REWARD 0.989272182 / EPISODE LENGTH 13 / Q_MAX  4.5625134\n"
     ]
    },
    {
     "name": "stderr",
     "output_type": "stream",
     "text": [
      "127.0.0.1 - - [13/Jun/2019 00:31:22] \"GET /socket.io/?EIO=4&transport=websocket HTTP/1.1\" 200 0 280.813370\n",
      "127.0.0.1 - - [13/Jun/2019 00:31:25] \"GET /socket.io/?EIO=4&transport=websocket HTTP/1.1\" 200 0 62.287016\n"
     ]
    },
    {
     "name": "stdout",
     "output_type": "stream",
     "text": [
      "EPISODE 7 TIMESTEP 600 / ACTION [-0.12932350897495515, 0.3] / REWARD 0.91760708 / EPISODE LENGTH 43 / Q_MAX  5.200217\n",
      "EPISODE 7 TIMESTEP 630 / ACTION [-0.21693325235820748, 0.3] / REWARD 0.3937261999999999 / EPISODE LENGTH 73 / Q_MAX  5.6479793\n",
      "EPISODE 7 TIMESTEP 660 / ACTION [-0.3769181366930692, 0.3] / REWARD 0.9610784 / EPISODE LENGTH 103 / Q_MAX  5.6907473\n",
      "EPISODE 7 TIMESTEP 690 / ACTION [-0.8523630519635716, 0.3] / REWARD -1.0 / EPISODE LENGTH 133 / Q_MAX  5.795868\n",
      "episode: 7   memory length: 690   epsilon: 0.9323799999999707  episode length: 133\n",
      "Episode:  8\n",
      "connect  234ca5d11b024a07ab4354aec1002209\n",
      "ProtocolVersion  234ca5d11b024a07ab4354aec1002209\n",
      "Loading"
     ]
    },
    {
     "name": "stderr",
     "output_type": "stream",
     "text": [
      "(1924) accepted ('127.0.0.1', 19560)\n"
     ]
    },
    {
     "name": "stdout",
     "output_type": "stream",
     "text": [
      " generated_road\n"
     ]
    },
    {
     "name": "stderr",
     "output_type": "stream",
     "text": [
      "(1924) accepted ('127.0.0.1', 19561)\n"
     ]
    },
    {
     "name": "stdout",
     "output_type": "stream",
     "text": [
      "connect  73e0e2b4974445ce91833f1833e3da35\n"
     ]
    },
    {
     "name": "stderr",
     "output_type": "stream",
     "text": [
      "127.0.0.1 - - [13/Jun/2019 00:37:44] \"GET /socket.io/?EIO=4&transport=websocket HTTP/1.1\" 200 0 441.618214\n",
      "127.0.0.1 - - [13/Jun/2019 00:37:47] \"GET /socket.io/?EIO=4&transport=websocket HTTP/1.1\" 200 0 61.097003\n"
     ]
    },
    {
     "name": "stdout",
     "output_type": "stream",
     "text": [
      "EPISODE 8 TIMESTEP 720 / ACTION [-0.48917110921247864, 0.3] / REWARD 0.90102984 / EPISODE LENGTH 30 / Q_MAX  6.1525636\n",
      "EPISODE 8 TIMESTEP 750 / ACTION [-0.3072189592152206, 0.3] / REWARD 0.49782119999999996 / EPISODE LENGTH 60 / Q_MAX  6.5994844\n",
      "episode: 8   memory length: 760   epsilon: 0.9255199999999677  episode length: 70\n",
      "Episode:  9\n",
      "connect  d138116506f44d7cbaea72396e2e5076\n",
      "ProtocolVersion  d138116506f44d7cbaea72396e2e5076\n",
      "Loading generated_road\n"
     ]
    },
    {
     "name": "stderr",
     "output_type": "stream",
     "text": [
      "(1924) accepted ('127.0.0.1', 19568)\n",
      "(1924) accepted ('127.0.0.1', 19569)\n"
     ]
    },
    {
     "name": "stdout",
     "output_type": "stream",
     "text": [
      "connect  f5d33c9394df451a81bad919b4d3af34\n",
      "EPISODE 9 TIMESTEP 780 / ACTION [-0.15104961082351398, 0.3] / REWARD 0.97522898 / EPISODE LENGTH 20 / Q_MAX  7.767921\n"
     ]
    },
    {
     "name": "stderr",
     "output_type": "stream",
     "text": [
      "127.0.0.1 - - [13/Jun/2019 00:41:04] \"GET /socket.io/?EIO=4&transport=websocket HTTP/1.1\" 200 0 257.128803\n",
      "127.0.0.1 - - [13/Jun/2019 00:41:07] \"GET /socket.io/?EIO=4&transport=websocket HTTP/1.1\" 200 0 60.527985\n"
     ]
    },
    {
     "name": "stdout",
     "output_type": "stream",
     "text": [
      "EPISODE 9 TIMESTEP 810 / ACTION [-0.4012312497327011, 0.3] / REWARD 0.93777712 / EPISODE LENGTH 50 / Q_MAX  7.5287867\n",
      "EPISODE 9 TIMESTEP 840 / ACTION [-0.6530815261801504, 0.3] / REWARD 0.6446256 / EPISODE LENGTH 80 / Q_MAX  7.2339067\n",
      "episode: 9   memory length: 869   epsilon: 0.9148379999999631  episode length: 109\n",
      "Episode:  10\n",
      "connect  cac4d650769148f1b7bd25bbc0013f98\n",
      "ProtocolVersion  cac4d650769148f1b7bd25bbc0013f98\n",
      "Loading generated_road\n"
     ]
    },
    {
     "name": "stderr",
     "output_type": "stream",
     "text": [
      "(1924) accepted ('127.0.0.1', 19576)\n",
      "(1924) accepted ('127.0.0.1', 19577)\n"
     ]
    },
    {
     "name": "stdout",
     "output_type": "stream",
     "text": [
      "connect  bdb336261893442495dc219f80770d6f\n",
      "EPISODE 10 TIMESTEP 870 / ACTION [-0.14103593466108122, 0.3] / REWARD 0.99992553392 / EPISODE LENGTH 1 / Q_MAX  7.310037\n"
     ]
    },
    {
     "name": "stderr",
     "output_type": "stream",
     "text": [
      "127.0.0.1 - - [13/Jun/2019 00:46:15] \"GET /socket.io/?EIO=4&transport=websocket HTTP/1.1\" 200 0 368.810153\n",
      "127.0.0.1 - - [13/Jun/2019 00:46:18] \"GET /socket.io/?EIO=4&transport=websocket HTTP/1.1\" 200 0 60.160519\n"
     ]
    },
    {
     "name": "stdout",
     "output_type": "stream",
     "text": [
      "EPISODE 10 TIMESTEP 900 / ACTION [0.07080516025878758, 0.3] / REWARD 0.96667062 / EPISODE LENGTH 31 / Q_MAX  7.408582\n",
      "EPISODE 10 TIMESTEP 930 / ACTION [-0.829121020240791, 0.3] / REWARD 0.7128224 / EPISODE LENGTH 61 / Q_MAX  9.103344\n",
      "EPISODE 10 TIMESTEP 960 / ACTION [-0.4202968353404184, 0.3] / REWARD 0.3581016 / EPISODE LENGTH 91 / Q_MAX  7.226358\n",
      "episode: 10   memory length: 977   epsilon: 0.9042539999999585  episode length: 108\n",
      "Episode:  11\n",
      "connect  aa296a3dd8a54d97aa67c36f99afc705\n",
      "ProtocolVersion  aa296a3dd8a54d97aa67c36f99afc705\n",
      "Loading generated_road\n"
     ]
    },
    {
     "name": "stderr",
     "output_type": "stream",
     "text": [
      "(1924) accepted ('127.0.0.1', 19586)\n",
      "(1924) accepted ('127.0.0.1', 19587)\n"
     ]
    },
    {
     "name": "stdout",
     "output_type": "stream",
     "text": [
      "connect  ec078f967a124499b944f23a809f5392\n",
      "EPISODE 11 TIMESTEP 990 / ACTION [-0.7377851723568936, 0.3] / REWARD 0.9996233416 / EPISODE LENGTH 13 / Q_MAX  9.386307\n"
     ]
    },
    {
     "name": "stderr",
     "output_type": "stream",
     "text": [
      "127.0.0.1 - - [13/Jun/2019 00:51:25] \"GET /socket.io/?EIO=4&transport=websocket HTTP/1.1\" 200 0 366.770882\n",
      "127.0.0.1 - - [13/Jun/2019 00:51:27] \"GET /socket.io/?EIO=4&transport=websocket HTTP/1.1\" 200 0 60.031100\n"
     ]
    },
    {
     "name": "stdout",
     "output_type": "stream",
     "text": [
      "EPISODE 11 TIMESTEP 1020 / ACTION [-0.08932764413796779, 0.3] / REWARD 0.9781578 / EPISODE LENGTH 43 / Q_MAX  9.488754\n",
      "EPISODE 11 TIMESTEP 1050 / ACTION [-0.28326088810653505, 0.3] / REWARD 0.023155200000000042 / EPISODE LENGTH 73 / Q_MAX  8.6238365\n",
      "episode: 11   memory length: 1051   epsilon: 0.8970019999999553  episode length: 74\n",
      "Episode:  12\n",
      "connect  3006eea39a08463a8a7d7c1b0478bbf2\n",
      "ProtocolVersion  3006eea39a08463a8a7d7c1b0478bbf2\n",
      "Loading generated_road\n"
     ]
    },
    {
     "name": "stderr",
     "output_type": "stream",
     "text": [
      "(1924) accepted ('127.0.0.1', 19590)\n",
      "(1924) accepted ('127.0.0.1', 19591)\n"
     ]
    },
    {
     "name": "stdout",
     "output_type": "stream",
     "text": [
      "connect  c548564fc4c9443ba222e121420586fe\n"
     ]
    },
    {
     "name": "stderr",
     "output_type": "stream",
     "text": [
      "127.0.0.1 - - [13/Jun/2019 00:54:54] \"GET /socket.io/?EIO=4&transport=websocket HTTP/1.1\" 200 0 266.412353\n",
      "127.0.0.1 - - [13/Jun/2019 00:54:57] \"GET /socket.io/?EIO=4&transport=websocket HTTP/1.1\" 200 0 61.469098\n"
     ]
    },
    {
     "name": "stdout",
     "output_type": "stream",
     "text": [
      "EPISODE 12 TIMESTEP 1080 / ACTION [0.9110774241256279, 0.3] / REWARD 0.90364338 / EPISODE LENGTH 29 / Q_MAX  10.067337\n",
      "EPISODE 12 TIMESTEP 1110 / ACTION [-0.9320878652907896, 0.3] / REWARD 0.19721379999999988 / EPISODE LENGTH 59 / Q_MAX  9.604702\n",
      "episode: 12   memory length: 1135   epsilon: 0.8887699999999518  episode length: 84\n",
      "Episode:  13\n",
      "connect  f9eff39ae17b421d8c6b9b3968d23ae1\n",
      "ProtocolVersion  f9eff39ae17b421d8c6b9b3968d23ae1\n",
      "Loading generated_road\n"
     ]
    },
    {
     "name": "stderr",
     "output_type": "stream",
     "text": [
      "(1924) accepted ('127.0.0.1', 19639)\n",
      "(1924) accepted ('127.0.0.1', 19640)\n"
     ]
    },
    {
     "name": "stdout",
     "output_type": "stream",
     "text": [
      "connect  e91d838bd3624a638b8986227a192e7d\n",
      "EPISODE 13 TIMESTEP 1140 / ACTION [-0.2116706152744865, 0.3] / REWARD 0.9994329852 / EPISODE LENGTH 5 / Q_MAX  12.802303\n"
     ]
    },
    {
     "name": "stderr",
     "output_type": "stream",
     "text": [
      "127.0.0.1 - - [13/Jun/2019 00:58:56] \"GET /socket.io/?EIO=4&transport=websocket HTTP/1.1\" 200 0 300.087500\n",
      "127.0.0.1 - - [13/Jun/2019 00:58:59] \"GET /socket.io/?EIO=4&transport=websocket HTTP/1.1\" 200 0 61.913768\n"
     ]
    },
    {
     "name": "stdout",
     "output_type": "stream",
     "text": [
      "EPISODE 13 TIMESTEP 1170 / ACTION [0.7916098950329868, 0.3] / REWARD 0.93196946 / EPISODE LENGTH 35 / Q_MAX  11.088971\n",
      "EPISODE 13 TIMESTEP 1200 / ACTION [-0.47797483319418976, 0.3] / REWARD 0.07217400000000007 / EPISODE LENGTH 65 / Q_MAX  10.212268\n",
      "episode: 13   memory length: 1202   epsilon: 0.8822039999999489  episode length: 67\n",
      "Episode:  14\n",
      "connect  153a7d8cb4f742f699a90bd93f7eb572\n",
      "ProtocolVersion  153a7d8cb4f742f699a90bd93f7eb572\n",
      "Loading generated_road\n"
     ]
    },
    {
     "name": "stderr",
     "output_type": "stream",
     "text": [
      "(1924) accepted ('127.0.0.1', 19643)\n",
      "(1924) accepted ('127.0.0.1', 19644)\n"
     ]
    },
    {
     "name": "stdout",
     "output_type": "stream",
     "text": [
      "connect  d1ded21b1b4e4644983b92936e759a68\n"
     ]
    },
    {
     "name": "stderr",
     "output_type": "stream",
     "text": [
      "127.0.0.1 - - [13/Jun/2019 01:02:03] \"GET /socket.io/?EIO=4&transport=websocket HTTP/1.1\" 200 0 246.019372\n",
      "127.0.0.1 - - [13/Jun/2019 01:02:06] \"GET /socket.io/?EIO=4&transport=websocket HTTP/1.1\" 200 0 60.069592\n"
     ]
    },
    {
     "name": "stdout",
     "output_type": "stream",
     "text": [
      "EPISODE 14 TIMESTEP 1230 / ACTION [-0.2030417168734311, 0.3] / REWARD 0.96885172 / EPISODE LENGTH 28 / Q_MAX  12.606652\n",
      "EPISODE 14 TIMESTEP 1260 / ACTION [-0.16727966333639133, 0.3] / REWARD 0.92604548 / EPISODE LENGTH 58 / Q_MAX  10.763028\n",
      "episode: 14   memory length: 1286   epsilon: 0.8739719999999453  episode length: 84\n",
      "Episode:  15\n",
      "connect  b4a039b4cb484ffb9ad0de9ba2ea45c7\n",
      "ProtocolVersion  b4a039b4cb484ffb9ad0de9ba2ea45c7\n",
      "Loading generated_road\n"
     ]
    },
    {
     "name": "stderr",
     "output_type": "stream",
     "text": [
      "(1924) accepted ('127.0.0.1', 19648)\n",
      "(1924) accepted ('127.0.0.1', 19649)\n"
     ]
    },
    {
     "name": "stdout",
     "output_type": "stream",
     "text": [
      "connect  9e545765a6b24f6a9846ef44fd28c1fe\n",
      "EPISODE 15 TIMESTEP 1290 / ACTION [-0.8056458865882965, 0.3] / REWARD 0.99987267074 / EPISODE LENGTH 4 / Q_MAX  13.364651\n"
     ]
    },
    {
     "name": "stderr",
     "output_type": "stream",
     "text": [
      "127.0.0.1 - - [13/Jun/2019 01:06:05] \"GET /socket.io/?EIO=4&transport=websocket HTTP/1.1\" 200 0 298.424379\n",
      "127.0.0.1 - - [13/Jun/2019 01:06:08] \"GET /socket.io/?EIO=4&transport=websocket HTTP/1.1\" 200 0 61.917886\n"
     ]
    },
    {
     "name": "stdout",
     "output_type": "stream",
     "text": [
      "EPISODE 15 TIMESTEP 1320 / ACTION [0.6010548085540675, 0.3] / REWARD 0.97577758 / EPISODE LENGTH 34 / Q_MAX  12.51528\n",
      "EPISODE 15 TIMESTEP 1350 / ACTION [0.7105583790063186, 0.3] / REWARD 0.97966842 / EPISODE LENGTH 64 / Q_MAX  11.3170595\n",
      "EPISODE 15 TIMESTEP 1380 / ACTION [0.7258329463497228, 0.3] / REWARD 0.17939100000000008 / EPISODE LENGTH 94 / Q_MAX  12.6817465\n",
      "episode: 15   memory length: 1383   epsilon: 0.8644659999999412  episode length: 97\n",
      "Episode:  16\n",
      "connect  1dcd6a826e0d48c1b2292c424a592be5\n",
      "ProtocolVersion  1dcd6a826e0d48c1b2292c424a592be5\n",
      "Loading generated_road\n"
     ]
    },
    {
     "name": "stderr",
     "output_type": "stream",
     "text": [
      "(1924) accepted ('127.0.0.1', 19672)\n",
      "(1924) accepted ('127.0.0.1', 19673)\n"
     ]
    },
    {
     "name": "stdout",
     "output_type": "stream",
     "text": [
      "connect  e6269100e3f14e56aed45fe348a2c1eb\n"
     ]
    },
    {
     "name": "stderr",
     "output_type": "stream",
     "text": [
      "127.0.0.1 - - [13/Jun/2019 01:10:38] \"GET /socket.io/?EIO=4&transport=websocket HTTP/1.1\" 200 0 332.196850\n",
      "127.0.0.1 - - [13/Jun/2019 01:10:41] \"GET /socket.io/?EIO=4&transport=websocket HTTP/1.1\" 200 0 60.556554\n"
     ]
    },
    {
     "name": "stdout",
     "output_type": "stream",
     "text": [
      "EPISODE 16 TIMESTEP 1410 / ACTION [0.6157617568698501, 0.3] / REWARD 0.995640196 / EPISODE LENGTH 27 / Q_MAX  11.887986\n",
      "EPISODE 16 TIMESTEP 1440 / ACTION [-0.9296111793268473, 0.3] / REWARD 0.92801244 / EPISODE LENGTH 57 / Q_MAX  13.376405\n",
      "EPISODE 16 TIMESTEP 1470 / ACTION [-0.6079041527023912, 0.3] / REWARD 0.1402346 / EPISODE LENGTH 87 / Q_MAX  11.649067\n",
      "episode: 16   memory length: 1472   epsilon: 0.8557439999999374  episode length: 89\n",
      "Episode:  17\n",
      "connect  dd430d8cc585493593ec54ec81f4307d\n",
      "ProtocolVersion  dd430d8cc585493593ec54ec81f4307d\n",
      "Loading generated_road\n"
     ]
    },
    {
     "name": "stderr",
     "output_type": "stream",
     "text": [
      "(1924) accepted ('127.0.0.1', 19682)\n",
      "(1924) accepted ('127.0.0.1', 19683)\n"
     ]
    },
    {
     "name": "stdout",
     "output_type": "stream",
     "text": [
      "connect  b24d6e72121d4709909f0b6c5b85c386\n"
     ]
    },
    {
     "name": "stderr",
     "output_type": "stream",
     "text": [
      "127.0.0.1 - - [13/Jun/2019 01:14:50] \"GET /socket.io/?EIO=4&transport=websocket HTTP/1.1\" 200 0 308.850935\n",
      "127.0.0.1 - - [13/Jun/2019 01:14:55] \"GET /socket.io/?EIO=4&transport=websocket HTTP/1.1\" 200 0 62.615559\n"
     ]
    },
    {
     "name": "stdout",
     "output_type": "stream",
     "text": [
      "EPISODE 17 TIMESTEP 1500 / ACTION [0.970448517775675, 0.3] / REWARD 0.980009532 / EPISODE LENGTH 28 / Q_MAX  14.685996\n",
      "EPISODE 17 TIMESTEP 1530 / ACTION [0.4285714285714284, 0.3] / REWARD 0.9043436 / EPISODE LENGTH 58 / Q_MAX  13.187555\n",
      "EPISODE 17 TIMESTEP 1560 / ACTION [0.5259167707635697, 0.3] / REWARD 0.3467658 / EPISODE LENGTH 88 / Q_MAX  14.705902\n",
      "episode: 17   memory length: 1567   epsilon: 0.8464339999999334  episode length: 95\n",
      "Episode:  18\n",
      "connect  3ae55fc5866742689d6b08dcecbe2ba6\n",
      "ProtocolVersion  3ae55fc5866742689d6b08dcecbe2ba6\n",
      "Loading generated_road\n"
     ]
    },
    {
     "name": "stderr",
     "output_type": "stream",
     "text": [
      "(1924) accepted ('127.0.0.1', 19692)\n",
      "(1924) accepted ('127.0.0.1', 19693)\n"
     ]
    },
    {
     "name": "stdout",
     "output_type": "stream",
     "text": [
      "connect  bd726a6a41234a6eb90f9ab293b56568\n"
     ]
    },
    {
     "name": "stderr",
     "output_type": "stream",
     "text": [
      "127.0.0.1 - - [13/Jun/2019 01:19:27] \"GET /socket.io/?EIO=4&transport=websocket HTTP/1.1\" 200 0 333.764244\n",
      "127.0.0.1 - - [13/Jun/2019 01:19:27] \"GET /socket.io/?EIO=4&transport=websocket HTTP/1.1\" 200 0 60.027727\n"
     ]
    },
    {
     "name": "stdout",
     "output_type": "stream",
     "text": [
      "EPISODE 18 TIMESTEP 1590 / ACTION [-0.594749502913299, 0.3] / REWARD 0.991131754 / EPISODE LENGTH 23 / Q_MAX  15.472027\n",
      "EPISODE 18 TIMESTEP 1620 / ACTION [0.9024961924998653, 0.3] / REWARD 0.6979105999999999 / EPISODE LENGTH 53 / Q_MAX  16.924862\n",
      "EPISODE 18 TIMESTEP 1650 / ACTION [-0.5251034914077477, 0.3] / REWARD 0.2826906 / EPISODE LENGTH 83 / Q_MAX  15.458805\n",
      "episode: 18   memory length: 1658   epsilon: 0.8375159999999295  episode length: 91\n",
      "Episode:  19\n",
      "connect  93a904a0defb47b786482e132534185b\n",
      "ProtocolVersion  93a904a0defb47b786482e132534185b\n",
      "Loading generated_road\n"
     ]
    },
    {
     "name": "stderr",
     "output_type": "stream",
     "text": [
      "(1924) accepted ('127.0.0.1', 19699)\n",
      "(1924) accepted ('127.0.0.1', 19700)\n"
     ]
    },
    {
     "name": "stdout",
     "output_type": "stream",
     "text": [
      "connect  6995db50528449298adf54af12d69be4\n",
      "EPISODE 19 TIMESTEP 1680 / ACTION [-0.09366850718696673, 0.3] / REWARD 0.994982112 / EPISODE LENGTH 22 / Q_MAX  17.223063\n"
     ]
    },
    {
     "name": "stderr",
     "output_type": "stream",
     "text": [
      "127.0.0.1 - - [13/Jun/2019 01:23:48] \"GET /socket.io/?EIO=4&transport=websocket HTTP/1.1\" 200 0 320.918204\n",
      "127.0.0.1 - - [13/Jun/2019 01:23:48] \"GET /socket.io/?EIO=4&transport=websocket HTTP/1.1\" 200 0 61.534037\n"
     ]
    },
    {
     "name": "stdout",
     "output_type": "stream",
     "text": [
      "EPISODE 19 TIMESTEP 1710 / ACTION [-0.9330126205744853, 0.3] / REWARD 0.8393462 / EPISODE LENGTH 52 / Q_MAX  16.262163\n",
      "EPISODE 19 TIMESTEP 1740 / ACTION [-0.3918687130729237, 0.3] / REWARD 0.16966979999999998 / EPISODE LENGTH 82 / Q_MAX  17.465017\n",
      "episode: 19   memory length: 1746   epsilon: 0.8288919999999258  episode length: 88\n",
      "Episode:  20\n",
      "connect  a1996d19b0954848ac2608ce5b1ce4fd\n",
      "ProtocolVersion  a1996d19b0954848ac2608ce5b1ce4fd\n",
      "Loading generated_road\n"
     ]
    },
    {
     "name": "stderr",
     "output_type": "stream",
     "text": [
      "(1924) accepted ('127.0.0.1', 19705)\n",
      "(1924) accepted ('127.0.0.1', 19706)\n"
     ]
    },
    {
     "name": "stdout",
     "output_type": "stream",
     "text": [
      "connect  6f4cd31007ce413683ce7b06abc4b9d2\n"
     ]
    },
    {
     "name": "stderr",
     "output_type": "stream",
     "text": [
      "127.0.0.1 - - [13/Jun/2019 01:27:54] \"GET /socket.io/?EIO=4&transport=websocket HTTP/1.1\" 200 0 307.073376\n",
      "127.0.0.1 - - [13/Jun/2019 01:27:57] \"GET /socket.io/?EIO=4&transport=websocket HTTP/1.1\" 200 0 60.480836\n"
     ]
    },
    {
     "name": "stdout",
     "output_type": "stream",
     "text": [
      "EPISODE 20 TIMESTEP 1770 / ACTION [0.6481030676068684, 0.3] / REWARD 0.997030172 / EPISODE LENGTH 24 / Q_MAX  18.615046\n",
      "EPISODE 20 TIMESTEP 1800 / ACTION [-0.9633861630020346, 0.3] / REWARD 0.42845199999999994 / EPISODE LENGTH 54 / Q_MAX  15.504367\n",
      "episode: 20   memory length: 1816   epsilon: 0.8220319999999228  episode length: 70\n",
      "Episode:  21\n",
      "connect  9e31d28df11b43f2a9f3fdcc18010a43\n",
      "ProtocolVersion  9e31d28df11b43f2a9f3fdcc18010a43\n",
      "Loading generated_road\n"
     ]
    },
    {
     "name": "stderr",
     "output_type": "stream",
     "text": [
      "(1924) accepted ('127.0.0.1', 19708)\n",
      "(1924) accepted ('127.0.0.1', 19709)\n"
     ]
    },
    {
     "name": "stdout",
     "output_type": "stream",
     "text": [
      "connect  d5dc07904aff409088a19b210152de82\n",
      "EPISODE 21 TIMESTEP 1830 / ACTION [-1.0, 0.3] / REWARD 0.9831274 / EPISODE LENGTH 14 / Q_MAX  15.7089\n"
     ]
    },
    {
     "name": "stderr",
     "output_type": "stream",
     "text": [
      "127.0.0.1 - - [13/Jun/2019 01:31:15] \"GET /socket.io/?EIO=4&transport=websocket HTTP/1.1\" 200 0 258.445830\n",
      "127.0.0.1 - - [13/Jun/2019 01:31:18] \"GET /socket.io/?EIO=4&transport=websocket HTTP/1.1\" 200 0 62.303334\n"
     ]
    },
    {
     "name": "stdout",
     "output_type": "stream",
     "text": [
      "EPISODE 21 TIMESTEP 1860 / ACTION [0.5861662713155029, 0.3] / REWARD 0.81747546 / EPISODE LENGTH 44 / Q_MAX  19.367044\n",
      "EPISODE 21 TIMESTEP 1890 / ACTION [0.15757073633795127, 0.3] / REWARD 0.27155339999999994 / EPISODE LENGTH 74 / Q_MAX  17.069466\n",
      "episode: 21   memory length: 1917   epsilon: 0.8121339999999185  episode length: 101\n",
      "Episode:  22\n",
      "connect  cd6a8662484b4107b2a9378c85e73435\n",
      "ProtocolVersion  cd6a8662484b4107b2a9378c85e73435\n",
      "Loading generated_road\n"
     ]
    },
    {
     "name": "stderr",
     "output_type": "stream",
     "text": [
      "(1924) accepted ('127.0.0.1', 19716)\n",
      "(1924) accepted ('127.0.0.1', 19717)\n"
     ]
    },
    {
     "name": "stdout",
     "output_type": "stream",
     "text": [
      "connect  ca16694e02304be5859c2873156281d8\n",
      "EPISODE 22 TIMESTEP 1920 / ACTION [0.8463790535284559, 0.3] / REWARD 0.99980746324 / EPISODE LENGTH 3 / Q_MAX  16.808527\n"
     ]
    },
    {
     "name": "stderr",
     "output_type": "stream",
     "text": [
      "127.0.0.1 - - [13/Jun/2019 01:36:02] \"GET /socket.io/?EIO=4&transport=websocket HTTP/1.1\" 200 0 346.270287\n",
      "127.0.0.1 - - [13/Jun/2019 01:36:05] \"GET /socket.io/?EIO=4&transport=websocket HTTP/1.1\" 200 0 62.403046\n"
     ]
    },
    {
     "name": "stdout",
     "output_type": "stream",
     "text": [
      "EPISODE 22 TIMESTEP 1950 / ACTION [0.2104128231743465, 0.3] / REWARD 0.9156891 / EPISODE LENGTH 33 / Q_MAX  17.325527\n",
      "EPISODE 22 TIMESTEP 1980 / ACTION [0.33150472448665314, 0.3] / REWARD 0.6096602 / EPISODE LENGTH 63 / Q_MAX  20.932272\n",
      "EPISODE 22 TIMESTEP 2010 / ACTION [-0.04416213513638634, 0.3] / REWARD 0.6747958000000001 / EPISODE LENGTH 93 / Q_MAX  18.567566\n",
      "episode: 22   memory length: 2023   epsilon: 0.801745999999914  episode length: 106\n",
      "Episode:  23\n",
      "connect  cb600474e6784a0b975b2817b75f2901\n",
      "ProtocolVersion  cb600474e6784a0b975b2817b75f2901\n",
      "Loading generated_road\n"
     ]
    },
    {
     "name": "stderr",
     "output_type": "stream",
     "text": [
      "(1924) accepted ('127.0.0.1', 19721)\n",
      "(1924) accepted ('127.0.0.1', 19722)\n"
     ]
    },
    {
     "name": "stdout",
     "output_type": "stream",
     "text": [
      "connect  ef63ca5a16c24fde8dba55dd2cae4934\n",
      "EPISODE 23 TIMESTEP 2040 / ACTION [0.7320720048895089, 0.3] / REWARD 0.987393508 / EPISODE LENGTH 17 / Q_MAX  20.069954\n"
     ]
    },
    {
     "name": "stderr",
     "output_type": "stream",
     "text": [
      "127.0.0.1 - - [13/Jun/2019 01:41:00] \"GET /socket.io/?EIO=4&transport=websocket HTTP/1.1\" 200 0 357.064233\n",
      "127.0.0.1 - - [13/Jun/2019 01:41:03] \"GET /socket.io/?EIO=4&transport=websocket HTTP/1.1\" 200 0 60.842997\n"
     ]
    },
    {
     "name": "stdout",
     "output_type": "stream",
     "text": [
      "EPISODE 23 TIMESTEP 2070 / ACTION [-0.6199085674018991, 0.3] / REWARD 0.5880606 / EPISODE LENGTH 47 / Q_MAX  24.290867\n",
      "episode: 23   memory length: 2085   epsilon: 0.7956699999999114  episode length: 62\n",
      "Episode:  24\n",
      "connect  a0fe83a7452c4fd1974dbd57b7122979\n",
      "ProtocolVersion  a0fe83a7452c4fd1974dbd57b7122979\n",
      "Loading generated_road\n"
     ]
    },
    {
     "name": "stderr",
     "output_type": "stream",
     "text": [
      "(1924) accepted ('127.0.0.1', 19729)\n",
      "(1924) accepted ('127.0.0.1', 19730)\n"
     ]
    },
    {
     "name": "stdout",
     "output_type": "stream",
     "text": [
      "connect  60a4543d1fcb4e25a438ac73e352485b\n",
      "EPISODE 24 TIMESTEP 2100 / ACTION [-0.10806953773584427, 0.3] / REWARD 0.9987431624 / EPISODE LENGTH 15 / Q_MAX  21.754229\n"
     ]
    },
    {
     "name": "stderr",
     "output_type": "stream",
     "text": [
      "127.0.0.1 - - [13/Jun/2019 01:43:57] \"GET /socket.io/?EIO=4&transport=websocket HTTP/1.1\" 200 0 234.509094\n",
      "127.0.0.1 - - [13/Jun/2019 01:44:00] \"GET /socket.io/?EIO=4&transport=websocket HTTP/1.1\" 200 0 62.800956\n"
     ]
    },
    {
     "name": "stdout",
     "output_type": "stream",
     "text": [
      "EPISODE 24 TIMESTEP 2130 / ACTION [-0.54274327229177, 0.3] / REWARD 0.96730418 / EPISODE LENGTH 45 / Q_MAX  22.94668\n",
      "EPISODE 24 TIMESTEP 2160 / ACTION [0.1428571428571428, 0.3] / REWARD 0.5596888 / EPISODE LENGTH 75 / Q_MAX  24.822903\n",
      "episode: 24   memory length: 2176   epsilon: 0.7867519999999075  episode length: 91\n",
      "Episode:  25\n",
      "connect  bb169dfdad414822928a08799cab018d\n",
      "ProtocolVersion  bb169dfdad414822928a08799cab018d\n",
      "Loading generated_road\n"
     ]
    },
    {
     "name": "stderr",
     "output_type": "stream",
     "text": [
      "(1924) accepted ('127.0.0.1', 19732)\n",
      "(1924) accepted ('127.0.0.1', 19733)\n"
     ]
    },
    {
     "name": "stdout",
     "output_type": "stream",
     "text": [
      "connect  457793f6f52f4dbba57636a6223e049b\n",
      "EPISODE 25 TIMESTEP 2190 / ACTION [-0.1541753686624967, 0.3] / REWARD 0.988921582 / EPISODE LENGTH 14 / Q_MAX  24.262123\n"
     ]
    },
    {
     "name": "stderr",
     "output_type": "stream",
     "text": [
      "127.0.0.1 - - [13/Jun/2019 01:48:16] \"GET /socket.io/?EIO=4&transport=websocket HTTP/1.1\" 200 0 318.781987\n",
      "127.0.0.1 - - [13/Jun/2019 01:48:16] \"GET /socket.io/?EIO=4&transport=websocket HTTP/1.1\" 200 0 62.522807\n"
     ]
    },
    {
     "name": "stdout",
     "output_type": "stream",
     "text": [
      "EPISODE 25 TIMESTEP 2220 / ACTION [0.22625669053870778, 0.3] / REWARD 0.95960908 / EPISODE LENGTH 44 / Q_MAX  23.770216\n",
      "EPISODE 25 TIMESTEP 2250 / ACTION [0.10738375070487316, 0.3] / REWARD 0.91156334 / EPISODE LENGTH 74 / Q_MAX  22.995886\n",
      "EPISODE 25 TIMESTEP 2280 / ACTION [0.35839903109765237, 0.3] / REWARD 0.7316796 / EPISODE LENGTH 104 / Q_MAX  26.721903\n",
      "episode: 25   memory length: 2293   epsilon: 0.7752859999999026  episode length: 117\n",
      "Episode:  26\n",
      "connect  d494c4b744e5491f9729e98926505e0f\n",
      "ProtocolVersion  d494c4b744e5491f9729e98926505e0f\n",
      "Loading generated_road\n"
     ]
    },
    {
     "name": "stderr",
     "output_type": "stream",
     "text": [
      "(1924) accepted ('127.0.0.1', 19740)\n",
      "(1924) accepted ('127.0.0.1', 19741)\n"
     ]
    },
    {
     "name": "stdout",
     "output_type": "stream",
     "text": [
      "connect  c3a38ebd73d141b8ae8c023d633a4883\n",
      "EPISODE 26 TIMESTEP 2310 / ACTION [0.7179310829595738, 0.3] / REWARD 0.995092694 / EPISODE LENGTH 17 / Q_MAX  26.401093\n"
     ]
    },
    {
     "name": "stderr",
     "output_type": "stream",
     "text": [
      "127.0.0.1 - - [13/Jun/2019 01:53:51] \"GET /socket.io/?EIO=4&transport=websocket HTTP/1.1\" 200 0 396.949266\n",
      "127.0.0.1 - - [13/Jun/2019 01:53:51] \"GET /socket.io/?EIO=4&transport=websocket HTTP/1.1\" 200 0 61.779001\n"
     ]
    },
    {
     "name": "stdout",
     "output_type": "stream",
     "text": [
      "EPISODE 26 TIMESTEP 2340 / ACTION [0.8669501074605304, 0.3] / REWARD 0.7504594 / EPISODE LENGTH 47 / Q_MAX  23.655737\n",
      "EPISODE 26 TIMESTEP 2370 / ACTION [0.9997624799292886, 0.3] / REWARD 0.7593036 / EPISODE LENGTH 77 / Q_MAX  27.120485\n",
      "episode: 26   memory length: 2389   epsilon: 0.7658779999998985  episode length: 96\n",
      "Episode:  27\n",
      "connect  11ca82285bca490ab29722ddea07f905\n",
      "ProtocolVersion  11ca82285bca490ab29722ddea07f905\n",
      "Loading generated_road\n"
     ]
    },
    {
     "name": "stderr",
     "output_type": "stream",
     "text": [
      "(1924) accepted ('127.0.0.1', 19753)\n",
      "(1924) accepted ('127.0.0.1', 19754)\n"
     ]
    },
    {
     "name": "stdout",
     "output_type": "stream",
     "text": [
      "connect  8826b30238164476a514a3562aed681b\n",
      "EPISODE 27 TIMESTEP 2400 / ACTION [-0.8571428571428572, 0.3] / REWARD 0.998063689 / EPISODE LENGTH 11 / Q_MAX  24.217714\n"
     ]
    },
    {
     "name": "stderr",
     "output_type": "stream",
     "text": [
      "127.0.0.1 - - [13/Jun/2019 01:58:20] \"GET /socket.io/?EIO=4&transport=websocket HTTP/1.1\" 200 0 330.934930\n",
      "127.0.0.1 - - [13/Jun/2019 01:58:23] \"GET /socket.io/?EIO=4&transport=websocket HTTP/1.1\" 200 0 62.087524\n"
     ]
    },
    {
     "name": "stdout",
     "output_type": "stream",
     "text": [
      "EPISODE 27 TIMESTEP 2430 / ACTION [0.857142857142857, 0.3] / REWARD 0.87688548 / EPISODE LENGTH 41 / Q_MAX  28.264755\n",
      "episode: 27   memory length: 2448   epsilon: 0.760095999999896  episode length: 59\n",
      "Episode:  28\n",
      "connect  083e62d978a44a1482b3de862c4b3060\n",
      "ProtocolVersion  083e62d978a44a1482b3de862c4b3060\n",
      "Loading generated_road\n"
     ]
    },
    {
     "name": "stderr",
     "output_type": "stream",
     "text": [
      "(1924) accepted ('127.0.0.1', 19762)\n",
      "(1924) accepted ('127.0.0.1', 19763)\n"
     ]
    },
    {
     "name": "stdout",
     "output_type": "stream",
     "text": [
      "connect  e0e6a268bf5a4dc48b426c262af43578\n",
      "EPISODE 28 TIMESTEP 2460 / ACTION [-0.8922542459826752, 0.3] / REWARD 0.9994394912 / EPISODE LENGTH 12 / Q_MAX  26.686905\n"
     ]
    },
    {
     "name": "stderr",
     "output_type": "stream",
     "text": [
      "127.0.0.1 - - [13/Jun/2019 02:01:06] \"GET /socket.io/?EIO=4&transport=websocket HTTP/1.1\" 200 0 224.321755\n",
      "127.0.0.1 - - [13/Jun/2019 02:01:09] \"GET /socket.io/?EIO=4&transport=websocket HTTP/1.1\" 200 0 61.262795\n"
     ]
    },
    {
     "name": "stdout",
     "output_type": "stream",
     "text": [
      "EPISODE 28 TIMESTEP 2490 / ACTION [0.857142857142857, 0.3] / REWARD 0.94945874 / EPISODE LENGTH 42 / Q_MAX  29.280306\n",
      "EPISODE 28 TIMESTEP 2520 / ACTION [-0.12894719914629693, 0.3] / REWARD 0.8552000200000001 / EPISODE LENGTH 72 / Q_MAX  29.510988\n",
      "episode: 28   memory length: 2546   epsilon: 0.7504919999998918  episode length: 98\n",
      "Episode:  29\n",
      "connect  4e14ccbd8c21434cad2f70ca510c5cd9\n",
      "ProtocolVersion  4e14ccbd8c21434cad2f70ca510c5cd9\n",
      "Loading generated_road\n"
     ]
    },
    {
     "name": "stderr",
     "output_type": "stream",
     "text": [
      "(1924) accepted ('127.0.0.1', 19767)\n",
      "(1924) accepted ('127.0.0.1', 19768)\n"
     ]
    },
    {
     "name": "stdout",
     "output_type": "stream",
     "text": [
      "connect  4c110bb3b0194f5ba409fc64fa289daf\n",
      "EPISODE 29 TIMESTEP 2550 / ACTION [0.331281915022944, 0.3] / REWARD 0.9997742028 / EPISODE LENGTH 4 / Q_MAX  31.924358\n"
     ]
    },
    {
     "name": "stderr",
     "output_type": "stream",
     "text": [
      "127.0.0.1 - - [13/Jun/2019 02:05:42] \"GET /socket.io/?EIO=4&transport=websocket HTTP/1.1\" 200 0 333.785136\n",
      "127.0.0.1 - - [13/Jun/2019 02:05:44] \"GET /socket.io/?EIO=4&transport=websocket HTTP/1.1\" 200 0 61.558092\n"
     ]
    },
    {
     "name": "stdout",
     "output_type": "stream",
     "text": [
      "EPISODE 29 TIMESTEP 2580 / ACTION [0.0, 0.3] / REWARD 0.96828138 / EPISODE LENGTH 34 / Q_MAX  23.109653\n",
      "EPISODE 29 TIMESTEP 2610 / ACTION [-0.1428571428571429, 0.3] / REWARD 0.5628792 / EPISODE LENGTH 64 / Q_MAX  31.43114\n",
      "episode: 29   memory length: 2626   epsilon: 0.7426519999998884  episode length: 80\n",
      "Episode:  30\n",
      "connect  8136d96bdb32469cbba088dfc4570796\n",
      "ProtocolVersion  8136d96bdb32469cbba088dfc4570796\n",
      "Loading generated_road\n"
     ]
    },
    {
     "name": "stderr",
     "output_type": "stream",
     "text": [
      "(1924) accepted ('127.0.0.1', 19771)\n",
      "(1924) accepted ('127.0.0.1', 19772)\n"
     ]
    },
    {
     "name": "stdout",
     "output_type": "stream",
     "text": [
      "connect  fec7f223aef242d4bfc91de2e59dec3c\n",
      "EPISODE 30 TIMESTEP 2640 / ACTION [0.28438860789361264, 0.3] / REWARD 0.9997103126 / EPISODE LENGTH 14 / Q_MAX  25.42326\n"
     ]
    },
    {
     "name": "stderr",
     "output_type": "stream",
     "text": [
      "127.0.0.1 - - [13/Jun/2019 02:09:27] \"GET /socket.io/?EIO=4&transport=websocket HTTP/1.1\" 200 0 283.816749\n",
      "127.0.0.1 - - [13/Jun/2019 02:09:30] \"GET /socket.io/?EIO=4&transport=websocket HTTP/1.1\" 200 0 60.415391\n"
     ]
    },
    {
     "name": "stdout",
     "output_type": "stream",
     "text": [
      "EPISODE 30 TIMESTEP 2670 / ACTION [0.40216557174360457, 0.3] / REWARD 0.97306044 / EPISODE LENGTH 44 / Q_MAX  28.489727\n",
      "EPISODE 30 TIMESTEP 2700 / ACTION [-0.40678424074479436, 0.3] / REWARD 0.43492639999999994 / EPISODE LENGTH 74 / Q_MAX  31.597187\n",
      "episode: 30   memory length: 2711   epsilon: 0.7343219999998848  episode length: 85\n",
      "Episode:  31\n",
      "connect  3627f073b52846a9ac7bb3cb9041f059\n",
      "ProtocolVersion  3627f073b52846a9ac7bb3cb9041f059\n",
      "Loading generated_road\n"
     ]
    },
    {
     "name": "stderr",
     "output_type": "stream",
     "text": [
      "(1924) accepted ('127.0.0.1', 19780)\n",
      "(1924) accepted ('127.0.0.1', 19781)\n"
     ]
    },
    {
     "name": "stdout",
     "output_type": "stream",
     "text": [
      "connect  eb6f77bac0474739901262e479c6bd46\n",
      "EPISODE 31 TIMESTEP 2730 / ACTION [-0.8761209063961781, 0.3] / REWARD 0.988377876 / EPISODE LENGTH 19 / Q_MAX  27.506416\n"
     ]
    },
    {
     "name": "stderr",
     "output_type": "stream",
     "text": [
      "127.0.0.1 - - [13/Jun/2019 02:13:33] \"GET /socket.io/?EIO=4&transport=websocket HTTP/1.1\" 200 0 303.071214\n",
      "127.0.0.1 - - [13/Jun/2019 02:13:33] \"GET /socket.io/?EIO=4&transport=websocket HTTP/1.1\" 200 0 60.129427\n"
     ]
    },
    {
     "name": "stdout",
     "output_type": "stream",
     "text": [
      "EPISODE 31 TIMESTEP 2760 / ACTION [1.0, 0.3] / REWARD 0.97439752 / EPISODE LENGTH 49 / Q_MAX  32.293076\n",
      "episode: 31   memory length: 2781   epsilon: 0.7274619999998818  episode length: 70\n",
      "Episode:  32\n",
      "connect  bfe2ce373129439a84aaa1a6ce9a3616\n",
      "ProtocolVersion  bfe2ce373129439a84aaa1a6ce9a3616\n",
      "Loading generated_road\n"
     ]
    },
    {
     "name": "stderr",
     "output_type": "stream",
     "text": [
      "(1924) accepted ('127.0.0.1', 19783)\n",
      "(1924) accepted ('127.0.0.1', 19784)\n"
     ]
    },
    {
     "name": "stdout",
     "output_type": "stream",
     "text": [
      "connect  463434104ba34bb8a653d73f1ee28297\n",
      "EPISODE 32 TIMESTEP 2790 / ACTION [0.8812948654174901, 0.3] / REWARD 0.99983063952 / EPISODE LENGTH 9 / Q_MAX  24.628738\n"
     ]
    },
    {
     "name": "stderr",
     "output_type": "stream",
     "text": [
      "127.0.0.1 - - [13/Jun/2019 02:16:48] \"GET /socket.io/?EIO=4&transport=websocket HTTP/1.1\" 200 0 254.994544\n",
      "127.0.0.1 - - [13/Jun/2019 02:16:51] \"GET /socket.io/?EIO=4&transport=websocket HTTP/1.1\" 200 0 60.917750\n"
     ]
    },
    {
     "name": "stdout",
     "output_type": "stream",
     "text": [
      "EPISODE 32 TIMESTEP 2820 / ACTION [-0.4733706608378325, 0.3] / REWARD 0.93843526 / EPISODE LENGTH 39 / Q_MAX  28.53538\n",
      "EPISODE 32 TIMESTEP 2850 / ACTION [-0.42794161916355744, 0.3] / REWARD 0.645979 / EPISODE LENGTH 69 / Q_MAX  15.05467\n",
      "episode: 32   memory length: 2864   epsilon: 0.7193279999998783  episode length: 83\n",
      "Episode:  33\n",
      "connect  c0eb741ed7624d7aa0d386a08ec56f49\n",
      "ProtocolVersion  c0eb741ed7624d7aa0d386a08ec56f49\n",
      "Loading generated_road\n"
     ]
    },
    {
     "name": "stderr",
     "output_type": "stream",
     "text": [
      "(1924) accepted ('127.0.0.1', 19790)\n",
      "(1924) accepted ('127.0.0.1', 19791)\n"
     ]
    },
    {
     "name": "stdout",
     "output_type": "stream",
     "text": [
      "connect  f813c2fb78e440f6bd0e6c9103c77b97\n",
      "EPISODE 33 TIMESTEP 2880 / ACTION [0.5327298595342951, 0.3] / REWARD 0.99745357 / EPISODE LENGTH 16 / Q_MAX  27.53314\n"
     ]
    },
    {
     "name": "stderr",
     "output_type": "stream",
     "text": [
      "127.0.0.1 - - [13/Jun/2019 02:20:46] \"GET /socket.io/?EIO=4&transport=websocket HTTP/1.1\" 200 0 295.839946\n",
      "127.0.0.1 - - [13/Jun/2019 02:20:46] \"GET /socket.io/?EIO=4&transport=websocket HTTP/1.1\" 200 0 62.088042\n"
     ]
    },
    {
     "name": "stdout",
     "output_type": "stream",
     "text": [
      "EPISODE 33 TIMESTEP 2910 / ACTION [-0.7142857142857143, 0.3] / REWARD 0.90559006 / EPISODE LENGTH 46 / Q_MAX  29.835796\n",
      "EPISODE 33 TIMESTEP 2940 / ACTION [-0.5789890333563974, 0.3] / REWARD 0.28347220000000006 / EPISODE LENGTH 76 / Q_MAX  32.662914\n",
      "episode: 33   memory length: 2946   epsilon: 0.7112919999998748  episode length: 82\n",
      "Episode:  34\n",
      "connect  eb3d79b704244caaa9e0e8d98c33eea3\n",
      "ProtocolVersion  eb3d79b704244caaa9e0e8d98c33eea3\n",
      "Loading generated_road\n"
     ]
    },
    {
     "name": "stderr",
     "output_type": "stream",
     "text": [
      "(1924) accepted ('127.0.0.1', 19793)\n",
      "(1924) accepted ('127.0.0.1', 19794)\n"
     ]
    },
    {
     "name": "stdout",
     "output_type": "stream",
     "text": [
      "connect  f90d2a7dddc14bd6aebac665b3322acd\n"
     ]
    },
    {
     "name": "stderr",
     "output_type": "stream",
     "text": [
      "127.0.0.1 - - [13/Jun/2019 02:24:34] \"GET /socket.io/?EIO=4&transport=websocket HTTP/1.1\" 200 0 289.381091\n",
      "127.0.0.1 - - [13/Jun/2019 02:24:37] \"GET /socket.io/?EIO=4&transport=websocket HTTP/1.1\" 200 0 60.614069\n"
     ]
    },
    {
     "name": "stdout",
     "output_type": "stream",
     "text": [
      "EPISODE 34 TIMESTEP 2970 / ACTION [-0.007844319855250692, 0.3] / REWARD 0.93926602 / EPISODE LENGTH 24 / Q_MAX  31.832075\n",
      "EPISODE 34 TIMESTEP 3000 / ACTION [0.7835865072375232, 0.3] / REWARD 0.7932939999999999 / EPISODE LENGTH 54 / Q_MAX  24.746412\n",
      "EPISODE 34 TIMESTEP 3030 / ACTION [-0.46933405563465835, 0.3] / REWARD 0.750687 / EPISODE LENGTH 84 / Q_MAX  33.36909\n",
      "EPISODE 34 TIMESTEP 3060 / ACTION [0.6980658366533665, 0.3] / REWARD 0.5968747999999999 / EPISODE LENGTH 114 / Q_MAX  34.00902\n",
      "episode: 34   memory length: 3081   epsilon: 0.6980619999998691  episode length: 135\n",
      "Episode:  35\n",
      "connect  c24847302bd2432896bec035aa2e7629\n",
      "ProtocolVersion  c24847302bd2432896bec035aa2e7629\n",
      "Loading generated_road\n"
     ]
    },
    {
     "name": "stderr",
     "output_type": "stream",
     "text": [
      "(1924) accepted ('127.0.0.1', 19806)\n",
      "(1924) accepted ('127.0.0.1', 19807)\n"
     ]
    },
    {
     "name": "stdout",
     "output_type": "stream",
     "text": [
      "connect  b2e34f1e899b4f1780b8fce92783c5c0\n",
      "EPISODE 35 TIMESTEP 3090 / ACTION [0.01669625537837338, 0.3] / REWARD 0.99615676 / EPISODE LENGTH 9 / Q_MAX  26.653774\n"
     ]
    },
    {
     "name": "stderr",
     "output_type": "stream",
     "text": [
      "127.0.0.1 - - [13/Jun/2019 02:30:59] \"GET /socket.io/?EIO=4&transport=websocket HTTP/1.1\" 200 0 442.987374\n",
      "127.0.0.1 - - [13/Jun/2019 02:31:02] \"GET /socket.io/?EIO=4&transport=websocket HTTP/1.1\" 200 0 62.465999\n"
     ]
    },
    {
     "name": "stdout",
     "output_type": "stream",
     "text": [
      "EPISODE 35 TIMESTEP 3120 / ACTION [-0.8790974087775525, 0.3] / REWARD 0.81350072 / EPISODE LENGTH 39 / Q_MAX  35.78988\n",
      "EPISODE 35 TIMESTEP 3150 / ACTION [-0.9224000321520938, 0.3] / REWARD 0.726481 / EPISODE LENGTH 69 / Q_MAX  34.059315\n",
      "EPISODE 35 TIMESTEP 3180 / ACTION [-0.7142857142857143, 0.3] / REWARD 0.05334380000000005 / EPISODE LENGTH 99 / Q_MAX  30.559807\n",
      "episode: 35   memory length: 3181   epsilon: 0.6882619999998648  episode length: 100\n",
      "Episode:  36\n",
      "connect  bc4f241193764c26a3aabdf2e234deaa\n",
      "ProtocolVersion  bc4f241193764c26a3aabdf2e234deaa\n",
      "Loading generated_road\n"
     ]
    },
    {
     "name": "stderr",
     "output_type": "stream",
     "text": [
      "(1924) accepted ('127.0.0.1', 19811)\n",
      "(1924) accepted ('127.0.0.1', 19812)\n"
     ]
    },
    {
     "name": "stdout",
     "output_type": "stream",
     "text": [
      "connect  08ccdc8a9a10404b9ea9c12feeb09fe2\n"
     ]
    },
    {
     "name": "stderr",
     "output_type": "stream",
     "text": [
      "127.0.0.1 - - [13/Jun/2019 02:35:44] \"GET /socket.io/?EIO=4&transport=websocket HTTP/1.1\" 200 0 343.181505\n",
      "127.0.0.1 - - [13/Jun/2019 02:35:44] \"GET /socket.io/?EIO=4&transport=websocket HTTP/1.1\" 200 0 60.445915\n"
     ]
    },
    {
     "name": "stdout",
     "output_type": "stream",
     "text": [
      "EPISODE 36 TIMESTEP 3210 / ACTION [-0.4285714285714286, 0.3] / REWARD 0.98940569 / EPISODE LENGTH 29 / Q_MAX  35.43641\n",
      "EPISODE 36 TIMESTEP 3240 / ACTION [-1.0, 0.3] / REWARD 0.6349632000000001 / EPISODE LENGTH 59 / Q_MAX  34.388725\n",
      "EPISODE 36 TIMESTEP 3270 / ACTION [-0.5279030345384543, 0.3] / REWARD 0.5299234 / EPISODE LENGTH 89 / Q_MAX  37.7457\n",
      "episode: 36   memory length: 3284   epsilon: 0.6781679999998604  episode length: 103\n",
      "Episode:  37\n",
      "connect  a040d57c553d4d7dbae81ba65b5f9580\n",
      "ProtocolVersion  a040d57c553d4d7dbae81ba65b5f9580\n",
      "Loading generated_road\n"
     ]
    },
    {
     "name": "stderr",
     "output_type": "stream",
     "text": [
      "(1924) accepted ('127.0.0.1', 19815)\n",
      "(1924) accepted ('127.0.0.1', 19817)\n"
     ]
    },
    {
     "name": "stdout",
     "output_type": "stream",
     "text": [
      "connect  f8d89c8c4d5e41b58cd671d5df5b58b3\n",
      "EPISODE 37 TIMESTEP 3300 / ACTION [-0.8088721385644917, 0.3] / REWARD 0.988753522 / EPISODE LENGTH 16 / Q_MAX  37.799736\n"
     ]
    },
    {
     "name": "stderr",
     "output_type": "stream",
     "text": [
      "127.0.0.1 - - [13/Jun/2019 02:40:34] \"GET /socket.io/?EIO=4&transport=websocket HTTP/1.1\" 200 0 350.988114\n",
      "127.0.0.1 - - [13/Jun/2019 02:40:37] \"GET /socket.io/?EIO=4&transport=websocket HTTP/1.1\" 200 0 61.092246\n"
     ]
    },
    {
     "name": "stdout",
     "output_type": "stream",
     "text": [
      "EPISODE 37 TIMESTEP 3330 / ACTION [-0.1428571428571429, 0.3] / REWARD 0.7635114000000001 / EPISODE LENGTH 46 / Q_MAX  30.120115\n",
      "episode: 37   memory length: 3354   epsilon: 0.6713079999998575  episode length: 70\n",
      "Episode:  38\n",
      "connect  7661df8720bf4b8c81b83199402aa4df\n",
      "ProtocolVersion  7661df8720bf4b8c81b83199402aa4df\n",
      "Loading generated_road\n"
     ]
    },
    {
     "name": "stderr",
     "output_type": "stream",
     "text": [
      "(1924) accepted ('127.0.0.1', 19821)\n",
      "(1924) accepted ('127.0.0.1', 19822)\n"
     ]
    },
    {
     "name": "stdout",
     "output_type": "stream",
     "text": [
      "connect  3524afd9ccf64fc0a0aba9cd6b540f3e\n",
      "EPISODE 38 TIMESTEP 3360 / ACTION [-0.11445644491772988, 0.3] / REWARD 0.9996174528 / EPISODE LENGTH 6 / Q_MAX  39.707504\n"
     ]
    },
    {
     "name": "stderr",
     "output_type": "stream",
     "text": [
      "127.0.0.1 - - [13/Jun/2019 02:43:55] \"GET /socket.io/?EIO=4&transport=websocket HTTP/1.1\" 200 0 258.605727\n",
      "127.0.0.1 - - [13/Jun/2019 02:43:58] \"GET /socket.io/?EIO=4&transport=websocket HTTP/1.1\" 200 0 62.232446\n"
     ]
    },
    {
     "name": "stdout",
     "output_type": "stream",
     "text": [
      "EPISODE 38 TIMESTEP 3390 / ACTION [-0.4538212016798877, 0.3] / REWARD 0.95381882 / EPISODE LENGTH 36 / Q_MAX  36.62193\n",
      "EPISODE 38 TIMESTEP 3420 / ACTION [0.4363547690919276, 0.3] / REWARD 0.7005394 / EPISODE LENGTH 66 / Q_MAX  38.09627\n",
      "EPISODE 38 TIMESTEP 3450 / ACTION [1.0, 0.3] / REWARD 0.7296598 / EPISODE LENGTH 96 / Q_MAX  34.629173\n",
      "EPISODE 38 TIMESTEP 3480 / ACTION [-0.9587506067530334, 0.3] / REWARD 0.84802928 / EPISODE LENGTH 126 / Q_MAX  26.79957\n",
      "episode: 38   memory length: 3500   epsilon: 0.6569999999998513  episode length: 146\n",
      "Episode:  39\n",
      "connect  a135ca580b9a40cc9b1930d9e3e73e54\n",
      "ProtocolVersion  a135ca580b9a40cc9b1930d9e3e73e54\n",
      "Loading generated_road\n"
     ]
    },
    {
     "name": "stderr",
     "output_type": "stream",
     "text": [
      "(1924) accepted ('127.0.0.1', 19827)\n",
      "(1924) accepted ('127.0.0.1', 19828)\n"
     ]
    },
    {
     "name": "stdout",
     "output_type": "stream",
     "text": [
      "connect  1c5b669e6db54300bf2d8d31ecc834f4\n",
      "EPISODE 39 TIMESTEP 3510 / ACTION [-0.7142857142857143, 0.3] / REWARD 0.9964356 / EPISODE LENGTH 10 / Q_MAX  43.26418\n"
     ]
    },
    {
     "name": "stderr",
     "output_type": "stream",
     "text": [
      "127.0.0.1 - - [13/Jun/2019 02:50:47] \"GET /socket.io/?EIO=4&transport=websocket HTTP/1.1\" 200 0 470.315253\n",
      "127.0.0.1 - - [13/Jun/2019 02:50:49] \"GET /socket.io/?EIO=4&transport=websocket HTTP/1.1\" 200 0 61.702870\n"
     ]
    },
    {
     "name": "stdout",
     "output_type": "stream",
     "text": [
      "EPISODE 39 TIMESTEP 3540 / ACTION [0.6123191365661491, 0.3] / REWARD 0.7448966 / EPISODE LENGTH 40 / Q_MAX  30.953644\n",
      "EPISODE 39 TIMESTEP 3570 / ACTION [-0.9314561650971729, 0.3] / REWARD 0.98997935 / EPISODE LENGTH 70 / Q_MAX  41.783745\n",
      "EPISODE 39 TIMESTEP 3600 / ACTION [-0.6984352830058804, 0.3] / REWARD 0.90215858 / EPISODE LENGTH 100 / Q_MAX  25.833107\n",
      "episode: 39   memory length: 3626   epsilon: 0.6446519999998459  episode length: 126\n",
      "Episode:  40\n",
      "connect  b3489a83b009472db7b1553c02b5fcde\n",
      "ProtocolVersion  b3489a83b009472db7b1553c02b5fcde\n",
      "Loading generated_road\n"
     ]
    },
    {
     "name": "stderr",
     "output_type": "stream",
     "text": [
      "(1924) accepted ('127.0.0.1', 19840)\n",
      "(1924) accepted ('127.0.0.1', 19841)\n"
     ]
    },
    {
     "name": "stdout",
     "output_type": "stream",
     "text": [
      "connect  859b9ec4ab0542ca93373da6dd65ad8f\n",
      "EPISODE 40 TIMESTEP 3630 / ACTION [-0.35091700384758995, 0.3] / REWARD 0.9996881268 / EPISODE LENGTH 4 / Q_MAX  33.432182\n"
     ]
    },
    {
     "name": "stderr",
     "output_type": "stream",
     "text": [
      "127.0.0.1 - - [13/Jun/2019 02:56:58] \"GET /socket.io/?EIO=4&transport=websocket HTTP/1.1\" 200 0 430.082439\n",
      "127.0.0.1 - - [13/Jun/2019 02:56:58] \"GET /socket.io/?EIO=4&transport=websocket HTTP/1.1\" 200 0 61.182789\n"
     ]
    },
    {
     "name": "stdout",
     "output_type": "stream",
     "text": [
      "EPISODE 40 TIMESTEP 3660 / ACTION [0.8462434924776798, 0.3] / REWARD 0.96075842 / EPISODE LENGTH 34 / Q_MAX  42.420223\n",
      "EPISODE 40 TIMESTEP 3690 / ACTION [0.807844165817726, 0.3] / REWARD 0.95642794 / EPISODE LENGTH 64 / Q_MAX  39.354145\n",
      "episode: 40   memory length: 3718   epsilon: 0.635635999999842  episode length: 92\n",
      "Episode:  41\n",
      "connect  b0e5d9f2230e4dd08badf2a4686659cf\n",
      "ProtocolVersion  b0e5d9f2230e4dd08badf2a4686659cf\n",
      "Loading generated_road\n"
     ]
    },
    {
     "name": "stderr",
     "output_type": "stream",
     "text": [
      "(1924) accepted ('127.0.0.1', 19856)\n",
      "(1924) accepted ('127.0.0.1', 19857)\n"
     ]
    },
    {
     "name": "stdout",
     "output_type": "stream",
     "text": [
      "connect  1f75b0073b5544d5bd62c336791f60e3\n",
      "EPISODE 41 TIMESTEP 3720 / ACTION [0.2857142857142856, 0.3] / REWARD 0.99991551106 / EPISODE LENGTH 2 / Q_MAX  39.682796\n"
     ]
    },
    {
     "name": "stderr",
     "output_type": "stream",
     "text": [
      "127.0.0.1 - - [13/Jun/2019 03:01:23] \"GET /socket.io/?EIO=4&transport=websocket HTTP/1.1\" 200 0 325.550497\n",
      "127.0.0.1 - - [13/Jun/2019 03:01:25] \"GET /socket.io/?EIO=4&transport=websocket HTTP/1.1\" 200 0 60.186570\n"
     ]
    },
    {
     "name": "stdout",
     "output_type": "stream",
     "text": [
      "EPISODE 41 TIMESTEP 3750 / ACTION [-0.13415882195014084, 0.3] / REWARD 0.9833098220000001 / EPISODE LENGTH 32 / Q_MAX  33.662487\n",
      "EPISODE 41 TIMESTEP 3780 / ACTION [-0.7206272449150395, 0.3] / REWARD 0.691264 / EPISODE LENGTH 62 / Q_MAX  45.125587\n",
      "episode: 41   memory length: 3794   epsilon: 0.6281879999998388  episode length: 76\n",
      "Episode:  42\n",
      "connect  288d95d7698b4edc8af5bd7cb06179f2\n",
      "ProtocolVersion  288d95d7698b4edc8af5bd7cb06179f2\n",
      "Loading generated_road\n"
     ]
    },
    {
     "name": "stderr",
     "output_type": "stream",
     "text": [
      "(1924) accepted ('127.0.0.1', 19865)\n",
      "(1924) accepted ('127.0.0.1', 19866)\n"
     ]
    },
    {
     "name": "stdout",
     "output_type": "stream",
     "text": [
      "connect  fcf7a7f43dd14b22ae927904372561cc\n",
      "EPISODE 42 TIMESTEP 3810 / ACTION [0.2511389533546926, 0.3] / REWARD 0.9976413 / EPISODE LENGTH 16 / Q_MAX  41.00213\n"
     ]
    },
    {
     "name": "stderr",
     "output_type": "stream",
     "text": [
      "127.0.0.1 - - [13/Jun/2019 03:05:05] \"GET /socket.io/?EIO=4&transport=websocket HTTP/1.1\" 200 0 279.064887\n",
      "127.0.0.1 - - [13/Jun/2019 03:05:08] \"GET /socket.io/?EIO=4&transport=websocket HTTP/1.1\" 200 0 60.735256\n"
     ]
    },
    {
     "name": "stdout",
     "output_type": "stream",
     "text": [
      "EPISODE 42 TIMESTEP 3840 / ACTION [-0.8325045026176594, 0.3] / REWARD 0.97694564 / EPISODE LENGTH 46 / Q_MAX  46.962734\n",
      "EPISODE 42 TIMESTEP 3870 / ACTION [0.39538261834677524, 0.3] / REWARD 0.96871194 / EPISODE LENGTH 76 / Q_MAX  35.58818\n",
      "EPISODE 42 TIMESTEP 3900 / ACTION [0.2857142857142856, 0.3] / REWARD 0.90857334 / EPISODE LENGTH 106 / Q_MAX  30.726362\n",
      "episode: 42   memory length: 3928   epsilon: 0.6150559999998331  episode length: 134\n",
      "Episode:  43\n",
      "connect  505b4cfc5d224e13912f5690489b2df2\n",
      "ProtocolVersion  505b4cfc5d224e13912f5690489b2df2\n",
      "Loading generated_road\n"
     ]
    },
    {
     "name": "stderr",
     "output_type": "stream",
     "text": [
      "(1924) accepted ('127.0.0.1', 19892)\n",
      "(1924) accepted ('127.0.0.1', 19893)\n"
     ]
    },
    {
     "name": "stdout",
     "output_type": "stream",
     "text": [
      "connect  b1ea75f21f5d4a9f896a26cfc194607f\n",
      "EPISODE 43 TIMESTEP 3930 / ACTION [0.7142857142857142, 0.3] / REWARD 0.99987424736 / EPISODE LENGTH 2 / Q_MAX  39.09418\n"
     ]
    },
    {
     "name": "stderr",
     "output_type": "stream",
     "text": [
      "127.0.0.1 - - [13/Jun/2019 03:11:36] \"GET /socket.io/?EIO=4&transport=websocket HTTP/1.1\" 200 0 448.710523\n",
      "127.0.0.1 - - [13/Jun/2019 03:11:39] \"GET /socket.io/?EIO=4&transport=websocket HTTP/1.1\" 200 0 61.354217\n"
     ]
    },
    {
     "name": "stdout",
     "output_type": "stream",
     "text": [
      "EPISODE 43 TIMESTEP 3960 / ACTION [-0.3349897024712696, 0.3] / REWARD 0.981172816 / EPISODE LENGTH 32 / Q_MAX  41.314137\n",
      "EPISODE 43 TIMESTEP 3990 / ACTION [-0.8980403368863745, 0.3] / REWARD 0.8063167 / EPISODE LENGTH 62 / Q_MAX  46.821655\n",
      "EPISODE 43 TIMESTEP 4020 / ACTION [0.7142857142857142, 0.3] / REWARD 0.9627694 / EPISODE LENGTH 92 / Q_MAX  42.38951\n",
      "EPISODE 43 TIMESTEP 4050 / ACTION [0.7298233931565317, 0.3] / REWARD 0.6994504 / EPISODE LENGTH 122 / Q_MAX  40.87368\n",
      "episode: 43   memory length: 4070   epsilon: 0.601139999999827  episode length: 142\n",
      "Episode:  44\n",
      "connect  cff0d439cbbd451380aa253cc598fbaf\n",
      "ProtocolVersion  cff0d439cbbd451380aa253cc598fbaf\n",
      "Loading generated_road\n"
     ]
    },
    {
     "name": "stderr",
     "output_type": "stream",
     "text": [
      "(1924) accepted ('127.0.0.1', 19909)\n",
      "(1924) accepted ('127.0.0.1', 19910)\n"
     ]
    },
    {
     "name": "stdout",
     "output_type": "stream",
     "text": [
      "connect  4bd477b1bee04a34bff9bb8088f882c1\n",
      "EPISODE 44 TIMESTEP 4080 / ACTION [-0.5123595794721554, 0.3] / REWARD 0.99072158 / EPISODE LENGTH 10 / Q_MAX  47.720787\n"
     ]
    },
    {
     "name": "stderr",
     "output_type": "stream",
     "text": [
      "127.0.0.1 - - [13/Jun/2019 03:18:25] \"GET /socket.io/?EIO=4&transport=websocket HTTP/1.1\" 200 0 467.388977\n",
      "127.0.0.1 - - [13/Jun/2019 03:18:28] \"GET /socket.io/?EIO=4&transport=websocket HTTP/1.1\" 200 0 60.801302\n"
     ]
    },
    {
     "name": "stdout",
     "output_type": "stream",
     "text": [
      "EPISODE 44 TIMESTEP 4110 / ACTION [-0.13347914581793074, 0.3] / REWARD 0.6972236 / EPISODE LENGTH 40 / Q_MAX  37.277317\n",
      "episode: 44   memory length: 4132   epsilon: 0.5950639999998244  episode length: 62\n",
      "Episode:  45\n",
      "connect  6f34aba514654aa1afcbc4fb1e9eab7e\n",
      "ProtocolVersion  6f34aba514654aa1afcbc4fb1e9eab7e\n",
      "Loading generated_road\n"
     ]
    },
    {
     "name": "stderr",
     "output_type": "stream",
     "text": [
      "(1924) accepted ('127.0.0.1', 19913)\n",
      "(1924) accepted ('127.0.0.1', 19914)\n"
     ]
    },
    {
     "name": "stdout",
     "output_type": "stream",
     "text": [
      "connect  400800c156ab4be88b7059af69bb5d64\n",
      "EPISODE 45 TIMESTEP 4140 / ACTION [0.10511447467669033, 0.3] / REWARD 0.999321584 / EPISODE LENGTH 8 / Q_MAX  48.676655\n"
     ]
    },
    {
     "name": "stderr",
     "output_type": "stream",
     "text": [
      "127.0.0.1 - - [13/Jun/2019 03:21:22] \"GET /socket.io/?EIO=4&transport=websocket HTTP/1.1\" 200 0 234.855511\n",
      "127.0.0.1 - - [13/Jun/2019 03:21:25] \"GET /socket.io/?EIO=4&transport=websocket HTTP/1.1\" 200 0 60.674531\n"
     ]
    },
    {
     "name": "stdout",
     "output_type": "stream",
     "text": [
      "EPISODE 45 TIMESTEP 4170 / ACTION [0.7631689250213378, 0.3] / REWARD 0.98555444 / EPISODE LENGTH 38 / Q_MAX  48.470715\n",
      "EPISODE 45 TIMESTEP 4200 / ACTION [-0.8571428571428572, 0.3] / REWARD 0.6641172 / EPISODE LENGTH 68 / Q_MAX  46.798794\n",
      "EPISODE 45 TIMESTEP 4230 / ACTION [0.5714285714285714, 0.3] / REWARD 0.8517566 / EPISODE LENGTH 98 / Q_MAX  48.72265\n",
      "EPISODE 45 TIMESTEP 4260 / ACTION [0.1838940721426383, 0.3] / REWARD -1.0 / EPISODE LENGTH 128 / Q_MAX  45.97164\n",
      "episode: 45   memory length: 4260   epsilon: 0.582519999999819  episode length: 128\n",
      "Episode:  46\n",
      "connect  f1e2c3bf255745e8a6e0c4ea3e35c876\n",
      "ProtocolVersion  f1e2c3bf255745e8a6e0c4ea3e35c876\n",
      "Loading generated_road\n"
     ]
    },
    {
     "name": "stderr",
     "output_type": "stream",
     "text": [
      "(1924) accepted ('127.0.0.1', 19926)\n",
      "(1924) accepted ('127.0.0.1', 19927)\n"
     ]
    },
    {
     "name": "stdout",
     "output_type": "stream",
     "text": [
      "connect  86271a99bf044992b026aec0d4ffc76f\n"
     ]
    },
    {
     "name": "stderr",
     "output_type": "stream",
     "text": [
      "127.0.0.1 - - [13/Jun/2019 03:27:33] \"GET /socket.io/?EIO=4&transport=websocket HTTP/1.1\" 200 0 428.837721\n",
      "127.0.0.1 - - [13/Jun/2019 03:27:33] \"GET /socket.io/?EIO=4&transport=websocket HTTP/1.1\" 200 0 60.025586\n"
     ]
    },
    {
     "name": "stdout",
     "output_type": "stream",
     "text": [
      "EPISODE 46 TIMESTEP 4290 / ACTION [0.37168173792358083, 0.3] / REWARD 0.96596752 / EPISODE LENGTH 30 / Q_MAX  50.34204\n",
      "EPISODE 46 TIMESTEP 4320 / ACTION [0.857142857142857, 0.3] / REWARD 0.995928102 / EPISODE LENGTH 60 / Q_MAX  50.47742\n",
      "EPISODE 46 TIMESTEP 4350 / ACTION [0.6614531755881561, 0.3] / REWARD 0.5115858 / EPISODE LENGTH 90 / Q_MAX  47.278442\n",
      "episode: 46   memory length: 4357   epsilon: 0.5730139999998148  episode length: 97\n",
      "Episode:  47\n",
      "connect  086d7b6bb4154070986b896a5c1a6a62\n",
      "ProtocolVersion  086d7b6bb4154070986b896a5c1a6a62\n",
      "Loading generated_road\n"
     ]
    },
    {
     "name": "stderr",
     "output_type": "stream",
     "text": [
      "(1924) accepted ('127.0.0.1', 19934)\n",
      "(1924) accepted ('127.0.0.1', 19935)\n"
     ]
    },
    {
     "name": "stdout",
     "output_type": "stream",
     "text": [
      "connect  6e60c095508645aa95172c5ca0fe704c\n"
     ]
    },
    {
     "name": "stderr",
     "output_type": "stream",
     "text": [
      "127.0.0.1 - - [13/Jun/2019 03:32:07] \"GET /socket.io/?EIO=4&transport=websocket HTTP/1.1\" 200 0 333.825420\n",
      "127.0.0.1 - - [13/Jun/2019 03:32:10] \"GET /socket.io/?EIO=4&transport=websocket HTTP/1.1\" 200 0 60.687092\n"
     ]
    },
    {
     "name": "stdout",
     "output_type": "stream",
     "text": [
      "EPISODE 47 TIMESTEP 4380 / ACTION [-0.07315125758152763, 0.3] / REWARD 0.992148208 / EPISODE LENGTH 23 / Q_MAX  53.066628\n",
      "EPISODE 47 TIMESTEP 4410 / ACTION [0.71239437373562, 0.3] / REWARD 0.91554572 / EPISODE LENGTH 53 / Q_MAX  49.321167\n",
      "EPISODE 47 TIMESTEP 4440 / ACTION [0.2857142857142856, 0.3] / REWARD 0.9135063999999999 / EPISODE LENGTH 83 / Q_MAX  32.7479\n",
      "EPISODE 47 TIMESTEP 4470 / ACTION [0.4921820411311142, 0.3] / REWARD 0.94779988 / EPISODE LENGTH 113 / Q_MAX  43.65762\n",
      "episode: 47   memory length: 4478   epsilon: 0.5611559999998097  episode length: 121\n",
      "Episode:  48\n",
      "connect  b9000639639442209a8f48f10ee81b96\n",
      "ProtocolVersion  b9000639639442209a8f48f10ee81b96\n",
      "Loading generated_road\n"
     ]
    },
    {
     "name": "stderr",
     "output_type": "stream",
     "text": [
      "(1924) accepted ('127.0.0.1', 19939)\n",
      "(1924) accepted ('127.0.0.1', 19940)\n"
     ]
    },
    {
     "name": "stdout",
     "output_type": "stream",
     "text": [
      "connect  a68950295dbc4520b1f7f1c8ecea2ae4\n"
     ]
    },
    {
     "name": "stderr",
     "output_type": "stream",
     "text": [
      "127.0.0.1 - - [13/Jun/2019 03:37:51] \"GET /socket.io/?EIO=4&transport=websocket HTTP/1.1\" 200 0 401.568487\n",
      "127.0.0.1 - - [13/Jun/2019 03:37:52] \"GET /socket.io/?EIO=4&transport=websocket HTTP/1.1\" 200 0 60.028997\n"
     ]
    },
    {
     "name": "stdout",
     "output_type": "stream",
     "text": [
      "EPISODE 48 TIMESTEP 4500 / ACTION [0.5948130279398114, 0.3] / REWARD 0.99164096 / EPISODE LENGTH 22 / Q_MAX  52.286297\n",
      "EPISODE 48 TIMESTEP 4530 / ACTION [0.03839492002644396, 0.3] / REWARD 0.91732006 / EPISODE LENGTH 52 / Q_MAX  53.083176\n",
      "EPISODE 48 TIMESTEP 4560 / ACTION [-0.9810517981231062, 0.3] / REWARD 0.5771632 / EPISODE LENGTH 82 / Q_MAX  54.322227\n",
      "EPISODE 48 TIMESTEP 4590 / ACTION [-0.7142857142857143, 0.3] / REWARD 0.2760442000000001 / EPISODE LENGTH 112 / Q_MAX  47.53601\n",
      "EPISODE 48 TIMESTEP 4620 / ACTION [-0.7142857142857143, 0.3] / REWARD 0.87992898 / EPISODE LENGTH 142 / Q_MAX  51.33385\n",
      "EPISODE 48 TIMESTEP 4650 / ACTION [-0.3579586136721946, 0.3] / REWARD 0.93348172 / EPISODE LENGTH 172 / Q_MAX  48.88729\n",
      "EPISODE 48 TIMESTEP 4680 / ACTION [1.0, 0.3] / REWARD -1.0 / EPISODE LENGTH 202 / Q_MAX  52.237206\n",
      "episode: 48   memory length: 4680   epsilon: 0.5413599999998011  episode length: 202\n",
      "Episode:  49\n",
      "connect  dc0f946ee6784fb58d1741896e306834\n",
      "ProtocolVersion  dc0f946ee6784fb58d1741896e306834\n",
      "Loading"
     ]
    },
    {
     "name": "stderr",
     "output_type": "stream",
     "text": [
      "(1924) accepted ('127.0.0.1', 19947)\n"
     ]
    },
    {
     "name": "stdout",
     "output_type": "stream",
     "text": [
      " generated_road\n"
     ]
    },
    {
     "name": "stderr",
     "output_type": "stream",
     "text": [
      "(1924) accepted ('127.0.0.1', 19948)\n"
     ]
    },
    {
     "name": "stdout",
     "output_type": "stream",
     "text": [
      "connect  991e07b1292647b7a86654e6122ead03\n"
     ]
    },
    {
     "name": "stderr",
     "output_type": "stream",
     "text": [
      "127.0.0.1 - - [13/Jun/2019 03:47:33] \"GET /socket.io/?EIO=4&transport=websocket HTTP/1.1\" 200 0 641.187225\n",
      "127.0.0.1 - - [13/Jun/2019 03:47:36] \"GET /socket.io/?EIO=4&transport=websocket HTTP/1.1\" 200 0 61.825001\n"
     ]
    },
    {
     "name": "stdout",
     "output_type": "stream",
     "text": [
      "EPISODE 49 TIMESTEP 4710 / ACTION [-0.6921126527360877, 0.3] / REWARD 0.9681433 / EPISODE LENGTH 30 / Q_MAX  51.67513\n",
      "EPISODE 49 TIMESTEP 4740 / ACTION [0.7142857142857142, 0.3] / REWARD 0.97950866 / EPISODE LENGTH 60 / Q_MAX  49.588303\n",
      "EPISODE 49 TIMESTEP 4770 / ACTION [-0.2783406181864565, 0.3] / REWARD 0.643325 / EPISODE LENGTH 90 / Q_MAX  53.46068\n",
      "episode: 49   memory length: 4782   epsilon: 0.5313639999997968  episode length: 102\n",
      "Episode:  50\n",
      "connect  496de8eb2b074f14a9c95fe66cd737d8\n",
      "ProtocolVersion  496de8eb2b074f14a9c95fe66cd737d8\n",
      "Loading generated_road\n"
     ]
    },
    {
     "name": "stderr",
     "output_type": "stream",
     "text": [
      "(1924) accepted ('127.0.0.1', 19955)\n",
      "(1924) accepted ('127.0.0.1', 19956)\n"
     ]
    },
    {
     "name": "stdout",
     "output_type": "stream",
     "text": [
      "connect  3ca23ab68213495fbfa92aa823878db5\n",
      "EPISODE 50 TIMESTEP 4800 / ACTION [-0.10669524035337519, 0.3] / REWARD 0.997561958 / EPISODE LENGTH 18 / Q_MAX  43.167557\n"
     ]
    },
    {
     "name": "stderr",
     "output_type": "stream",
     "text": [
      "127.0.0.1 - - [13/Jun/2019 03:52:25] \"GET /socket.io/?EIO=4&transport=websocket HTTP/1.1\" 200 0 350.474313\n",
      "127.0.0.1 - - [13/Jun/2019 03:52:28] \"GET /socket.io/?EIO=4&transport=websocket HTTP/1.1\" 200 0 61.506530\n"
     ]
    },
    {
     "name": "stdout",
     "output_type": "stream",
     "text": [
      "EPISODE 50 TIMESTEP 4830 / ACTION [0.4285714285714284, 0.3] / REWARD 0.97241166 / EPISODE LENGTH 48 / Q_MAX  51.24056\n",
      "EPISODE 50 TIMESTEP 4860 / ACTION [0.3519943126519822, 0.3] / REWARD 0.42120959999999996 / EPISODE LENGTH 78 / Q_MAX  26.823204\n",
      "episode: 50   memory length: 4873   epsilon: 0.5224459999997929  episode length: 91\n",
      "Episode:  51\n",
      "connect  91921d4601bb4ffd952ef3094426a427\n",
      "ProtocolVersion  91921d4601bb4ffd952ef3094426a427\n",
      "Loading generated_road\n"
     ]
    },
    {
     "name": "stderr",
     "output_type": "stream",
     "text": [
      "(1924) accepted ('127.0.0.1', 19959)\n",
      "(1924) accepted ('127.0.0.1', 19960)\n"
     ]
    },
    {
     "name": "stdout",
     "output_type": "stream",
     "text": [
      "connect  af19f9b089f1480ba4b8eea4b2d0027d\n",
      "EPISODE 51 TIMESTEP 4890 / ACTION [-0.2857142857142858, 0.3] / REWARD 0.989828184 / EPISODE LENGTH 17 / Q_MAX  52.93355\n"
     ]
    },
    {
     "name": "stderr",
     "output_type": "stream",
     "text": [
      "127.0.0.1 - - [13/Jun/2019 03:56:42] \"GET /socket.io/?EIO=4&transport=websocket HTTP/1.1\" 200 0 315.731766\n",
      "127.0.0.1 - - [13/Jun/2019 03:56:45] \"GET /socket.io/?EIO=4&transport=websocket HTTP/1.1\" 200 0 60.552996\n"
     ]
    },
    {
     "name": "stdout",
     "output_type": "stream",
     "text": [
      "EPISODE 51 TIMESTEP 4920 / ACTION [0.13826943831305405, 0.3] / REWARD 0.95335952 / EPISODE LENGTH 47 / Q_MAX  47.29392\n",
      "EPISODE 51 TIMESTEP 4950 / ACTION [-1.0, 0.3] / REWARD 0.9402825 / EPISODE LENGTH 77 / Q_MAX  52.78151\n",
      "EPISODE 51 TIMESTEP 4980 / ACTION [1.0, 0.3] / REWARD 0.6176003999999999 / EPISODE LENGTH 107 / Q_MAX  44.712654\n",
      "episode: 51   memory length: 4999   epsilon: 0.5100979999997876  episode length: 126\n",
      "Episode:  52\n",
      "connect  8fb8236b1fc04bf9a9f8861171fac01d\n",
      "ProtocolVersion  8fb8236b1fc04bf9a9f8861171fac01d\n",
      "Loading generated_road\n"
     ]
    },
    {
     "name": "stderr",
     "output_type": "stream",
     "text": [
      "(1924) accepted ('127.0.0.1', 19984)\n",
      "(1924) accepted ('127.0.0.1', 19985)\n"
     ]
    },
    {
     "name": "stdout",
     "output_type": "stream",
     "text": [
      "connect  3a5e3f2d26d64505ad5e66692add6478\n",
      "EPISODE 52 TIMESTEP 5010 / ACTION [0.2892529486186486, 0.3] / REWARD 0.995521806 / EPISODE LENGTH 11 / Q_MAX  54.082222\n"
     ]
    },
    {
     "name": "stderr",
     "output_type": "stream",
     "text": [
      "127.0.0.1 - - [13/Jun/2019 04:02:50] \"GET /socket.io/?EIO=4&transport=websocket HTTP/1.1\" 200 0 424.524791\n",
      "127.0.0.1 - - [13/Jun/2019 04:02:50] \"GET /socket.io/?EIO=4&transport=websocket HTTP/1.1\" 200 0 60.352535\n"
     ]
    },
    {
     "name": "stdout",
     "output_type": "stream",
     "text": [
      "EPISODE 52 TIMESTEP 5040 / ACTION [0.25247791012185083, 0.3] / REWARD 0.9303919 / EPISODE LENGTH 41 / Q_MAX  55.947002\n",
      "EPISODE 52 TIMESTEP 5070 / ACTION [0.36543772396526486, 0.3] / REWARD 0.95187674 / EPISODE LENGTH 71 / Q_MAX  29.654325\n",
      "EPISODE 52 TIMESTEP 5100 / ACTION [-0.7142857142857143, 0.3] / REWARD 0.6977234 / EPISODE LENGTH 101 / Q_MAX  53.424026\n",
      "EPISODE 52 TIMESTEP 5130 / ACTION [-0.7142857142857143, 0.3] / REWARD 0.2174948 / EPISODE LENGTH 131 / Q_MAX  47.034595\n",
      "episode: 52   memory length: 5133   epsilon: 0.4969659999997836  episode length: 134\n",
      "Episode:  53\n",
      "connect  007b2cb3a2854f2b94be1f2d27e9d561\n",
      "ProtocolVersion  007b2cb3a2854f2b94be1f2d27e9d561\n",
      "Loading generated_road\n"
     ]
    },
    {
     "name": "stderr",
     "output_type": "stream",
     "text": [
      "(1924) accepted ('127.0.0.1', 19998)\n",
      "(1924) accepted ('127.0.0.1', 20000)\n"
     ]
    },
    {
     "name": "stdout",
     "output_type": "stream",
     "text": [
      "connect  ce33fed3555b41e0a3b17495dbfce5b1\n"
     ]
    },
    {
     "name": "stderr",
     "output_type": "stream",
     "text": [
      "127.0.0.1 - - [13/Jun/2019 04:09:09] \"GET /socket.io/?EIO=4&transport=websocket HTTP/1.1\" 200 0 439.310030\n",
      "127.0.0.1 - - [13/Jun/2019 04:09:12] \"GET /socket.io/?EIO=4&transport=websocket HTTP/1.1\" 200 0 60.241229\n"
     ]
    },
    {
     "name": "stdout",
     "output_type": "stream",
     "text": [
      "EPISODE 53 TIMESTEP 5160 / ACTION [0.8989454633937755, 0.3] / REWARD 0.97187132 / EPISODE LENGTH 27 / Q_MAX  57.411655\n",
      "EPISODE 53 TIMESTEP 5190 / ACTION [-0.8934326019416976, 0.3] / REWARD 0.92629768 / EPISODE LENGTH 57 / Q_MAX  35.66348\n",
      "EPISODE 53 TIMESTEP 5220 / ACTION [0.5714285714285714, 0.3] / REWARD 0.97971268 / EPISODE LENGTH 87 / Q_MAX  53.85155\n",
      "episode: 53   memory length: 5234   epsilon: 0.4870679999997849  episode length: 101\n",
      "Episode:  54\n",
      "connect  651a61870bb04aaa9c441202484b039d\n",
      "ProtocolVersion  651a61870bb04aaa9c441202484b039d\n",
      "Loading generated_road\n"
     ]
    },
    {
     "name": "stderr",
     "output_type": "stream",
     "text": [
      "(1924) accepted ('127.0.0.1', 20012)\n",
      "(1924) accepted ('127.0.0.1', 20013)\n"
     ]
    },
    {
     "name": "stdout",
     "output_type": "stream",
     "text": [
      "connect  5aba4180d05e400eb90a8d710dd16caa\n",
      "EPISODE 54 TIMESTEP 5250 / ACTION [0.47336134991138645, 0.3] / REWARD 0.99347394 / EPISODE LENGTH 16 / Q_MAX  42.3631\n"
     ]
    },
    {
     "name": "stderr",
     "output_type": "stream",
     "text": [
      "127.0.0.1 - - [13/Jun/2019 04:14:00] \"GET /socket.io/?EIO=4&transport=websocket HTTP/1.1\" 200 0 348.462141\n",
      "127.0.0.1 - - [13/Jun/2019 04:14:03] \"GET /socket.io/?EIO=4&transport=websocket HTTP/1.1\" 200 0 60.930997\n"
     ]
    },
    {
     "name": "stdout",
     "output_type": "stream",
     "text": [
      "EPISODE 54 TIMESTEP 5280 / ACTION [0.9896755024947521, 0.3] / REWARD 0.88923522 / EPISODE LENGTH 46 / Q_MAX  50.645573\n",
      "EPISODE 54 TIMESTEP 5310 / ACTION [0.68835427760446, 0.3] / REWARD 0.95272452 / EPISODE LENGTH 76 / Q_MAX  55.21071\n",
      "EPISODE 54 TIMESTEP 5340 / ACTION [0.5542765147800002, 0.3] / REWARD 0.98684038 / EPISODE LENGTH 106 / Q_MAX  55.53244\n",
      "EPISODE 54 TIMESTEP 5370 / ACTION [1.0, 0.3] / REWARD 0.6762878 / EPISODE LENGTH 136 / Q_MAX  53.878056\n",
      "EPISODE 54 TIMESTEP 5400 / ACTION [1.0, 0.3] / REWARD 0.6927788 / EPISODE LENGTH 166 / Q_MAX  3.6892085\n",
      "EPISODE 54 TIMESTEP 5430 / ACTION [-0.6241917746217625, 0.3] / REWARD 0.6904052 / EPISODE LENGTH 196 / Q_MAX  53.010777\n",
      "EPISODE 54 TIMESTEP 5460 / ACTION [-0.1428571428571429, 0.3] / REWARD 0.8739380800000001 / EPISODE LENGTH 226 / Q_MAX  29.885288\n",
      "episode: 54   memory length: 5469   epsilon: 0.46403799999978795  episode length: 235\n",
      "Episode:  55\n",
      "connect  60758a66755d4f55aec1ab8fcfa84f8e\n",
      "ProtocolVersion  60758a66755d4f55aec1ab8fcfa84f8e\n",
      "Loading generated_road\n"
     ]
    },
    {
     "name": "stderr",
     "output_type": "stream",
     "text": [
      "(1924) accepted ('127.0.0.1', 20028)\n",
      "(1924) accepted ('127.0.0.1', 20029)\n"
     ]
    },
    {
     "name": "stdout",
     "output_type": "stream",
     "text": [
      "connect  f23da0910a2349eab06d461bc7acb3ac\n"
     ]
    },
    {
     "name": "stderr",
     "output_type": "stream",
     "text": [
      "127.0.0.1 - - [13/Jun/2019 04:25:15] \"GET /socket.io/?EIO=4&transport=websocket HTTP/1.1\" 200 0 732.732249\n"
     ]
    },
    {
     "name": "stdout",
     "output_type": "stream",
     "text": [
      "EPISODE 55 TIMESTEP 5490 / ACTION [0.29162102158522507, 0.3] / REWARD 0.98465329 / EPISODE LENGTH 21 / Q_MAX  59.26231\n"
     ]
    },
    {
     "name": "stderr",
     "output_type": "stream",
     "text": [
      "127.0.0.1 - - [13/Jun/2019 04:25:21] \"GET /socket.io/?EIO=4&transport=websocket HTTP/1.1\" 200 0 62.034348\n"
     ]
    },
    {
     "name": "stdout",
     "output_type": "stream",
     "text": [
      "EPISODE 55 TIMESTEP 5520 / ACTION [0.7586355668601035, 0.3] / REWARD 0.991536752 / EPISODE LENGTH 51 / Q_MAX  51.020283\n",
      "EPISODE 55 TIMESTEP 5550 / ACTION [-0.1428571428571429, 0.3] / REWARD 0.7674068000000001 / EPISODE LENGTH 81 / Q_MAX  42.715744\n",
      "EPISODE 55 TIMESTEP 5580 / ACTION [0.1428571428571428, 0.3] / REWARD 0.95079992 / EPISODE LENGTH 111 / Q_MAX  49.222977\n",
      "EPISODE 55 TIMESTEP 5610 / ACTION [0.1428571428571428, 0.3] / REWARD 0.6355208 / EPISODE LENGTH 141 / Q_MAX  55.116173\n",
      "EPISODE 55 TIMESTEP 5640 / ACTION [0.3286535036222331, 0.3] / REWARD 0.4017858000000001 / EPISODE LENGTH 171 / Q_MAX  55.586617\n",
      "EPISODE 55 TIMESTEP 5670 / ACTION [-0.7545000198804697, 0.3] / REWARD 0.6302544 / EPISODE LENGTH 201 / Q_MAX  51.3331\n",
      "episode: 55   memory length: 5685   epsilon: 0.44286999999979076  episode length: 216\n",
      "Episode:  56\n",
      "connect  a68334030b9e4b878c2645e06d2ec0dd\n",
      "ProtocolVersion  a68334030b9e4b878c2645e06d2ec0dd\n",
      "Loading generated_road\n"
     ]
    },
    {
     "name": "stderr",
     "output_type": "stream",
     "text": [
      "(1924) accepted ('127.0.0.1', 20042)\n",
      "(1924) accepted ('127.0.0.1', 20043)\n"
     ]
    },
    {
     "name": "stdout",
     "output_type": "stream",
     "text": [
      "connect  de89b0875325469abe769a2122c4adbb\n",
      "EPISODE 56 TIMESTEP 5700 / ACTION [-0.371952881628526, 0.3] / REWARD 0.998582042 / EPISODE LENGTH 15 / Q_MAX  55.970264\n"
     ]
    },
    {
     "name": "stderr",
     "output_type": "stream",
     "text": [
      "127.0.0.1 - - [13/Jun/2019 04:35:45] \"GET /socket.io/?EIO=4&transport=websocket HTTP/1.1\" 200 0 685.296903\n",
      "127.0.0.1 - - [13/Jun/2019 04:35:45] \"GET /socket.io/?EIO=4&transport=websocket HTTP/1.1\" 200 0 60.702331\n"
     ]
    },
    {
     "name": "stdout",
     "output_type": "stream",
     "text": [
      "EPISODE 56 TIMESTEP 5730 / ACTION [-0.4285714285714286, 0.3] / REWARD 0.96038988 / EPISODE LENGTH 45 / Q_MAX  56.996647\n",
      "EPISODE 56 TIMESTEP 5760 / ACTION [-0.6484777612085253, 0.3] / REWARD 0.97262842 / EPISODE LENGTH 75 / Q_MAX  51.785976\n",
      "EPISODE 56 TIMESTEP 5790 / ACTION [1.0, 0.3] / REWARD 0.34211820000000004 / EPISODE LENGTH 105 / Q_MAX  53.555424\n",
      "EPISODE 56 TIMESTEP 5820 / ACTION [-0.5920096533191996, 0.3] / REWARD 0.7924256000000001 / EPISODE LENGTH 135 / Q_MAX  53.706375\n",
      "EPISODE 56 TIMESTEP 5850 / ACTION [0.4285714285714284, 0.3] / REWARD 0.7943778 / EPISODE LENGTH 165 / Q_MAX  54.80127\n",
      "EPISODE 56 TIMESTEP 5880 / ACTION [-0.4285714285714286, 0.3] / REWARD 0.6736932 / EPISODE LENGTH 195 / Q_MAX  55.494503\n",
      "episode: 56   memory length: 5908   epsilon: 0.42101599999979367  episode length: 223\n",
      "Episode:  57\n",
      "connect  fa7fed3de582421cb48debcf9e4d19ae\n",
      "ProtocolVersion  fa7fed3de582421cb48debcf9e4d19ae\n",
      "Loading generated_road\n"
     ]
    },
    {
     "name": "stderr",
     "output_type": "stream",
     "text": [
      "(1924) accepted ('127.0.0.1', 20105)\n",
      "(1924) accepted ('127.0.0.1', 20106)\n"
     ]
    },
    {
     "name": "stdout",
     "output_type": "stream",
     "text": [
      "connect  551797e954db43e5b34e87c9488c9135\n",
      "EPISODE 57 TIMESTEP 5910 / ACTION [-0.7142857142857143, 0.3] / REWARD 0.999615728 / EPISODE LENGTH 2 / Q_MAX  56.66381\n"
     ]
    },
    {
     "name": "stderr",
     "output_type": "stream",
     "text": [
      "127.0.0.1 - - [13/Jun/2019 04:46:30] \"GET /socket.io/?EIO=4&transport=websocket HTTP/1.1\" 200 0 705.024250\n",
      "127.0.0.1 - - [13/Jun/2019 04:46:33] \"GET /socket.io/?EIO=4&transport=websocket HTTP/1.1\" 200 0 62.195005\n"
     ]
    },
    {
     "name": "stdout",
     "output_type": "stream",
     "text": [
      "EPISODE 57 TIMESTEP 5940 / ACTION [-0.5714285714285714, 0.3] / REWARD 0.96423822 / EPISODE LENGTH 32 / Q_MAX  46.356762\n",
      "EPISODE 57 TIMESTEP 5970 / ACTION [0.7142857142857142, 0.3] / REWARD 0.9759874 / EPISODE LENGTH 62 / Q_MAX  55.497643\n",
      "EPISODE 57 TIMESTEP 6000 / ACTION [0.2857142857142856, 0.3] / REWARD 0.985966696 / EPISODE LENGTH 92 / Q_MAX  56.893196\n",
      "EPISODE 57 TIMESTEP 6030 / ACTION [-0.8571428571428572, 0.3] / REWARD 0.92899884 / EPISODE LENGTH 122 / Q_MAX  56.50916\n",
      "EPISODE 57 TIMESTEP 6060 / ACTION [0.2857142857142856, 0.3] / REWARD 0.982517784 / EPISODE LENGTH 152 / Q_MAX  57.136703\n",
      "EPISODE 57 TIMESTEP 6090 / ACTION [0.5646935377320572, 0.3] / REWARD 0.41037920000000006 / EPISODE LENGTH 182 / Q_MAX  57.257053\n",
      "EPISODE 57 TIMESTEP 6120 / ACTION [1.0, 0.3] / REWARD 0.6556412 / EPISODE LENGTH 212 / Q_MAX  53.89757\n",
      "EPISODE 57 TIMESTEP 6150 / ACTION [1.0, 0.3] / REWARD 0.2351666 / EPISODE LENGTH 242 / Q_MAX  59.4343\n",
      "EPISODE 57 TIMESTEP 6180 / ACTION [-0.5714285714285714, 0.3] / REWARD 0.69751 / EPISODE LENGTH 272 / Q_MAX  52.90836\n",
      "EPISODE 57 TIMESTEP 6210 / ACTION [0.0, 0.3] / REWARD 0.6439634 / EPISODE LENGTH 302 / Q_MAX  21.496815\n",
      "EPISODE 57 TIMESTEP 6240 / ACTION [0.5714285714285714, 0.3] / REWARD 0.94393342 / EPISODE LENGTH 332 / Q_MAX  49.25075\n",
      "EPISODE 57 TIMESTEP 6270 / ACTION [-0.32656381936000844, 0.3] / REWARD 0.6564792 / EPISODE LENGTH 362 / Q_MAX  61.211548\n",
      "EPISODE 57 TIMESTEP 6300 / ACTION [0.2857142857142856, 0.3] / REWARD 0.7222604 / EPISODE LENGTH 392 / Q_MAX  59.60317\n",
      "EPISODE 57 TIMESTEP 6330 / ACTION [0.5714285714285714, 0.3] / REWARD 0.89602228 / EPISODE LENGTH 422 / Q_MAX  54.99491\n",
      "EPISODE 57 TIMESTEP 6360 / ACTION [0.2857142857142856, 0.3] / REWARD 0.5173928 / EPISODE LENGTH 452 / Q_MAX  53.01334\n",
      "EPISODE 57 TIMESTEP 6390 / ACTION [-1.0, 0.3] / REWARD 0.7639788 / EPISODE LENGTH 482 / Q_MAX  57.167442\n",
      "episode: 57   memory length: 6407   epsilon: 0.37211399999980016  episode length: 499\n",
      "Episode:  58\n",
      "connect  2523f1ef96af43a7a937ed5eff253c84\n",
      "ProtocolVersion  2523f1ef96af43a7a937ed5eff253c84\n",
      "Loading generated_road\n"
     ]
    },
    {
     "name": "stderr",
     "output_type": "stream",
     "text": [
      "(1924) accepted ('127.0.0.1', 20260)\n",
      "(1924) accepted ('127.0.0.1', 20261)\n"
     ]
    },
    {
     "name": "stdout",
     "output_type": "stream",
     "text": [
      "connect  91a9e390b0324a189633ed62d88c95d1\n",
      "EPISODE 58 TIMESTEP 6420 / ACTION [0.14464632791308252, 0.3] / REWARD 0.995338976 / EPISODE LENGTH 13 / Q_MAX  49.078022\n"
     ]
    },
    {
     "name": "stderr",
     "output_type": "stream",
     "text": [
      "127.0.0.1 - - [13/Jun/2019 05:12:11] \"GET /socket.io/?EIO=4&transport=websocket HTTP/1.1\" 200 0 1600.688981\n",
      "127.0.0.1 - - [13/Jun/2019 05:12:14] \"GET /socket.io/?EIO=4&transport=websocket HTTP/1.1\" 200 0 61.395792\n"
     ]
    },
    {
     "name": "stdout",
     "output_type": "stream",
     "text": [
      "EPISODE 58 TIMESTEP 6450 / ACTION [0.5714285714285714, 0.3] / REWARD 0.97659412 / EPISODE LENGTH 43 / Q_MAX  55.31964\n",
      "EPISODE 58 TIMESTEP 6480 / ACTION [-0.680599508600658, 0.3] / REWARD 0.84112412 / EPISODE LENGTH 73 / Q_MAX  52.60044\n",
      "EPISODE 58 TIMESTEP 6510 / ACTION [-0.39684957917767183, 0.3] / REWARD 0.93606672 / EPISODE LENGTH 103 / Q_MAX  54.715218\n",
      "EPISODE 58 TIMESTEP 6540 / ACTION [-0.1428571428571429, 0.3] / REWARD 0.999196509 / EPISODE LENGTH 133 / Q_MAX  55.092323\n",
      "episode: 58   memory length: 6556   epsilon: 0.3575119999998021  episode length: 149\n",
      "Episode:  59\n",
      "connect  af8cad280f144f408af467065596a1f2\n",
      "ProtocolVersion  af8cad280f144f408af467065596a1f2\n",
      "Loading generated_road\n"
     ]
    },
    {
     "name": "stderr",
     "output_type": "stream",
     "text": [
      "(1924) accepted ('127.0.0.1', 20369)\n",
      "(1924) accepted ('127.0.0.1', 20370)\n"
     ]
    },
    {
     "name": "stdout",
     "output_type": "stream",
     "text": [
      "connect  53739531597c411d97254c93b887b3ee\n",
      "EPISODE 59 TIMESTEP 6570 / ACTION [0.1428571428571428, 0.3] / REWARD 0.986557286 / EPISODE LENGTH 14 / Q_MAX  52.550106\n"
     ]
    },
    {
     "name": "stderr",
     "output_type": "stream",
     "text": [
      "127.0.0.1 - - [13/Jun/2019 05:20:26] \"GET /socket.io/?EIO=4&transport=websocket HTTP/1.1\" 200 0 552.863721\n",
      "127.0.0.1 - - [13/Jun/2019 05:20:29] \"GET /socket.io/?EIO=4&transport=websocket HTTP/1.1\" 200 0 60.588604\n"
     ]
    },
    {
     "name": "stdout",
     "output_type": "stream",
     "text": [
      "EPISODE 59 TIMESTEP 6600 / ACTION [0.2536340014513361, 0.3] / REWARD 0.6892442 / EPISODE LENGTH 44 / Q_MAX  55.961754\n",
      "EPISODE 59 TIMESTEP 6630 / ACTION [0.857142857142857, 0.3] / REWARD 0.6071248 / EPISODE LENGTH 74 / Q_MAX  45.385967\n",
      "EPISODE 59 TIMESTEP 6660 / ACTION [0.4285714285714284, 0.3] / REWARD 0.6775274 / EPISODE LENGTH 104 / Q_MAX  22.721998\n",
      "EPISODE 59 TIMESTEP 6690 / ACTION [-1.0, 0.3] / REWARD 0.6775178 / EPISODE LENGTH 134 / Q_MAX  57.945847\n",
      "EPISODE 59 TIMESTEP 6720 / ACTION [1.0, 0.3] / REWARD 0.6768426 / EPISODE LENGTH 164 / Q_MAX  20.157625\n",
      "EPISODE 59 TIMESTEP 6750 / ACTION [0.5714285714285714, 0.3] / REWARD 0.12589740000000005 / EPISODE LENGTH 194 / Q_MAX  53.315315\n",
      "EPISODE 59 TIMESTEP 6780 / ACTION [-0.7582011670527959, 0.3] / REWARD 0.86833156 / EPISODE LENGTH 224 / Q_MAX  59.713387\n",
      "EPISODE 59 TIMESTEP 6810 / ACTION [-0.8139289796970277, 0.3] / REWARD 0.5017718 / EPISODE LENGTH 254 / Q_MAX  57.13854\n",
      "episode: 59   memory length: 6833   epsilon: 0.3303659999998057  episode length: 277\n",
      "Episode:  60\n",
      "connect  1570b19e102e4e7dbbe440b55801805d\n",
      "ProtocolVersion  1570b19e102e4e7dbbe440b55801805d\n",
      "Loading generated_road\n"
     ]
    },
    {
     "name": "stderr",
     "output_type": "stream",
     "text": [
      "(1924) accepted ('127.0.0.1', 20455)\n",
      "(1924) accepted ('127.0.0.1', 20456)\n"
     ]
    },
    {
     "name": "stdout",
     "output_type": "stream",
     "text": [
      "connect  8b61ae4316ea4315adec03d18790365f\n",
      "EPISODE 60 TIMESTEP 6840 / ACTION [-0.5714285714285714, 0.3] / REWARD 0.995274602 / EPISODE LENGTH 7 / Q_MAX  63.51892\n"
     ]
    },
    {
     "name": "stderr",
     "output_type": "stream",
     "text": [
      "127.0.0.1 - - [13/Jun/2019 05:34:34] \"GET /socket.io/?EIO=4&transport=websocket HTTP/1.1\" 200 0 904.408820\n",
      "127.0.0.1 - - [13/Jun/2019 05:34:34] \"GET /socket.io/?EIO=4&transport=websocket HTTP/1.1\" 200 0 62.249045\n"
     ]
    },
    {
     "name": "stdout",
     "output_type": "stream",
     "text": [
      "EPISODE 60 TIMESTEP 6870 / ACTION [0.7175974060496026, 0.3] / REWARD 0.9997001176 / EPISODE LENGTH 37 / Q_MAX  60.243256\n",
      "EPISODE 60 TIMESTEP 6900 / ACTION [0.5640384506096787, 0.3] / REWARD 0.8558691199999999 / EPISODE LENGTH 67 / Q_MAX  53.66923\n",
      "EPISODE 60 TIMESTEP 6930 / ACTION [0.2857142857142856, 0.3] / REWARD 0.719486 / EPISODE LENGTH 97 / Q_MAX  65.963974\n",
      "EPISODE 60 TIMESTEP 6960 / ACTION [0.2857142857142856, 0.3] / REWARD 0.7341006 / EPISODE LENGTH 127 / Q_MAX  58.20395\n",
      "EPISODE 60 TIMESTEP 6990 / ACTION [0.857142857142857, 0.3] / REWARD 0.6117662 / EPISODE LENGTH 157 / Q_MAX  63.814472\n",
      "EPISODE 60 TIMESTEP 7020 / ACTION [0.0, 0.3] / REWARD 0.7177238 / EPISODE LENGTH 187 / Q_MAX  28.415194\n",
      "EPISODE 60 TIMESTEP 7050 / ACTION [0.16866060735763622, 0.3] / REWARD 0.626018 / EPISODE LENGTH 217 / Q_MAX  16.95057\n",
      "EPISODE 60 TIMESTEP 7080 / ACTION [-0.5044497442388249, 0.3] / REWARD 0.96400004 / EPISODE LENGTH 247 / Q_MAX  25.144615\n",
      "EPISODE 60 TIMESTEP 7110 / ACTION [0.2857142857142856, 0.3] / REWARD 0.4132416 / EPISODE LENGTH 277 / Q_MAX  25.355526\n",
      "EPISODE 60 TIMESTEP 7140 / ACTION [0.431280854667514, 0.3] / REWARD 0.6372599999999999 / EPISODE LENGTH 307 / Q_MAX  59.175774\n",
      "EPISODE 60 TIMESTEP 7170 / ACTION [-0.7142857142857143, 0.3] / REWARD 0.6567378 / EPISODE LENGTH 337 / Q_MAX  58.544163\n",
      "EPISODE 60 TIMESTEP 7200 / ACTION [0.5714285714285714, 0.3] / REWARD 0.5981294 / EPISODE LENGTH 367 / Q_MAX  52.27187\n",
      "episode: 60   memory length: 7223   epsilon: 0.2921459999998108  episode length: 390\n",
      "Episode:  61\n",
      "connect  14f7f18b8cdc44cc97b8c0d21a55dd32\n",
      "ProtocolVersion  14f7f18b8cdc44cc97b8c0d21a55dd32\n",
      "Loading generated_road\n"
     ]
    },
    {
     "name": "stderr",
     "output_type": "stream",
     "text": [
      "(1924) accepted ('127.0.0.1', 20480)\n",
      "(1924) accepted ('127.0.0.1', 20481)\n"
     ]
    },
    {
     "name": "stdout",
     "output_type": "stream",
     "text": [
      "connect  77c17412f0834c4dbcf8c578ce5506da\n",
      "EPISODE 61 TIMESTEP 7230 / ACTION [0.864102593766618, 0.3] / REWARD 0.998595504 / EPISODE LENGTH 7 / Q_MAX  61.88008\n"
     ]
    },
    {
     "name": "stderr",
     "output_type": "stream",
     "text": [
      "127.0.0.1 - - [13/Jun/2019 05:53:12] \"GET /socket.io/?EIO=4&transport=websocket HTTP/1.1\" 200 0 1180.185346\n",
      "127.0.0.1 - - [13/Jun/2019 05:53:15] \"GET /socket.io/?EIO=4&transport=websocket HTTP/1.1\" 200 0 60.513040\n"
     ]
    },
    {
     "name": "stdout",
     "output_type": "stream",
     "text": [
      "EPISODE 61 TIMESTEP 7260 / ACTION [0.857142857142857, 0.3] / REWARD 0.7107844 / EPISODE LENGTH 37 / Q_MAX  58.841614\n",
      "EPISODE 61 TIMESTEP 7290 / ACTION [0.6743323611570882, 0.3] / REWARD 0.696892 / EPISODE LENGTH 67 / Q_MAX  66.50999\n",
      "EPISODE 61 TIMESTEP 7320 / ACTION [0.11206141381555779, 0.3] / REWARD 0.7272765999999999 / EPISODE LENGTH 97 / Q_MAX  61.310795\n",
      "EPISODE 61 TIMESTEP 7350 / ACTION [-0.14735732265903967, 0.3] / REWARD 0.641666 / EPISODE LENGTH 127 / Q_MAX  62.57031\n",
      "EPISODE 61 TIMESTEP 7380 / ACTION [0.0, 0.3] / REWARD 0.6160365999999999 / EPISODE LENGTH 157 / Q_MAX  41.165146\n",
      "EPISODE 61 TIMESTEP 7410 / ACTION [0.2857142857142856, 0.3] / REWARD 0.6273246 / EPISODE LENGTH 187 / Q_MAX  54.14738\n",
      "episode: 61   memory length: 7431   epsilon: 0.2717619999998135  episode length: 208\n",
      "Episode:  62\n",
      "connect  b53282bf7b3748348bebe73fb76643d1\n",
      "ProtocolVersion  b53282bf7b3748348bebe73fb76643d1\n",
      "Loading generated_road\n"
     ]
    },
    {
     "name": "stderr",
     "output_type": "stream",
     "text": [
      "(1924) accepted ('127.0.0.1', 20500)\n",
      "(1924) accepted ('127.0.0.1', 20501)\n"
     ]
    },
    {
     "name": "stdout",
     "output_type": "stream",
     "text": [
      "connect  f6898b1bc5ae4f9da9ed7ae0faf51cab\n",
      "EPISODE 62 TIMESTEP 7440 / ACTION [-0.6902004517943341, 0.3] / REWARD 0.993496954 / EPISODE LENGTH 9 / Q_MAX  65.86466\n"
     ]
    },
    {
     "name": "stderr",
     "output_type": "stream",
     "text": [
      "127.0.0.1 - - [13/Jun/2019 06:03:21] \"GET /socket.io/?EIO=4&transport=websocket HTTP/1.1\" 200 0 666.397801\n",
      "127.0.0.1 - - [13/Jun/2019 06:03:24] \"GET /socket.io/?EIO=4&transport=websocket HTTP/1.1\" 200 0 62.888523\n"
     ]
    },
    {
     "name": "stdout",
     "output_type": "stream",
     "text": [
      "EPISODE 62 TIMESTEP 7470 / ACTION [0.5714285714285714, 0.3] / REWARD 0.6639862 / EPISODE LENGTH 39 / Q_MAX  61.374542\n",
      "EPISODE 62 TIMESTEP 7500 / ACTION [0.38766811269360013, 0.3] / REWARD 0.7049794 / EPISODE LENGTH 69 / Q_MAX  47.25414\n",
      "EPISODE 62 TIMESTEP 7530 / ACTION [1.0, 0.3] / REWARD 0.6944014000000001 / EPISODE LENGTH 99 / Q_MAX  59.001694\n",
      "EPISODE 62 TIMESTEP 7560 / ACTION [-0.7931906136835629, 0.3] / REWARD 0.7747744 / EPISODE LENGTH 129 / Q_MAX  33.650257\n",
      "EPISODE 62 TIMESTEP 7590 / ACTION [-0.2857142857142858, 0.3] / REWARD 0.95031982 / EPISODE LENGTH 159 / Q_MAX  61.812912\n",
      "EPISODE 62 TIMESTEP 7620 / ACTION [-0.8571428571428572, 0.3] / REWARD 0.83529316 / EPISODE LENGTH 189 / Q_MAX  63.377792\n",
      "EPISODE 62 TIMESTEP 7650 / ACTION [-0.6534200974105833, 0.3] / REWARD 0.694144 / EPISODE LENGTH 219 / Q_MAX  58.470528\n",
      "EPISODE 62 TIMESTEP 7680 / ACTION [0.5714285714285714, 0.3] / REWARD 0.7329042 / EPISODE LENGTH 249 / Q_MAX  66.689964\n",
      "EPISODE 62 TIMESTEP 7710 / ACTION [0.0, 0.3] / REWARD 0.6055306 / EPISODE LENGTH 279 / Q_MAX  66.79893\n",
      "EPISODE 62 TIMESTEP 7740 / ACTION [0.2857142857142856, 0.3] / REWARD 0.558252 / EPISODE LENGTH 309 / Q_MAX  62.27242\n",
      "EPISODE 62 TIMESTEP 7770 / ACTION [-0.5714285714285714, 0.3] / REWARD 0.4304623999999999 / EPISODE LENGTH 339 / Q_MAX  45.140785\n",
      "EPISODE 62 TIMESTEP 7800 / ACTION [-0.17302026100320367, 0.3] / REWARD 0.6874582 / EPISODE LENGTH 369 / Q_MAX  61.620617\n",
      "EPISODE 62 TIMESTEP 7830 / ACTION [0.0, 0.3] / REWARD 0.7345324 / EPISODE LENGTH 399 / Q_MAX  60.334908\n",
      "EPISODE 62 TIMESTEP 7860 / ACTION [-0.2857142857142858, 0.3] / REWARD 0.4725144 / EPISODE LENGTH 429 / Q_MAX  46.779537\n",
      "episode: 62   memory length: 7864   epsilon: 0.22932799999981912  episode length: 433\n",
      "Episode:  63\n",
      "connect  f85cb58ba4dd4293a6b54fcac66041a3\n",
      "ProtocolVersion  f85cb58ba4dd4293a6b54fcac66041a3\n",
      "Loading generated_road\n"
     ]
    },
    {
     "name": "stderr",
     "output_type": "stream",
     "text": [
      "(1924) accepted ('127.0.0.1', 20570)\n",
      "(1924) accepted ('127.0.0.1', 20571)\n"
     ]
    },
    {
     "name": "stdout",
     "output_type": "stream",
     "text": [
      "connect  50607c5a13e943cfaee46b1302f743c3\n"
     ]
    },
    {
     "name": "stderr",
     "output_type": "stream",
     "text": [
      "127.0.0.1 - - [13/Jun/2019 06:24:51] \"GET /socket.io/?EIO=4&transport=websocket HTTP/1.1\" 200 0 1349.190209\n",
      "127.0.0.1 - - [13/Jun/2019 06:24:54] \"GET /socket.io/?EIO=4&transport=websocket HTTP/1.1\" 200 0 60.932881\n"
     ]
    },
    {
     "name": "stdout",
     "output_type": "stream",
     "text": [
      "EPISODE 63 TIMESTEP 7890 / ACTION [-0.4285714285714286, 0.3] / REWARD 0.96411724 / EPISODE LENGTH 26 / Q_MAX  5.9830737\n",
      "EPISODE 63 TIMESTEP 7920 / ACTION [0.5714285714285714, 0.3] / REWARD 0.6307018 / EPISODE LENGTH 56 / Q_MAX  63.14075\n",
      "EPISODE 63 TIMESTEP 7950 / ACTION [-0.4285714285714286, 0.3] / REWARD 0.7035688 / EPISODE LENGTH 86 / Q_MAX  36.267067\n",
      "EPISODE 63 TIMESTEP 7980 / ACTION [0.13574769207230486, 0.3] / REWARD 0.539281 / EPISODE LENGTH 116 / Q_MAX  62.14582\n",
      "EPISODE 63 TIMESTEP 8010 / ACTION [-0.7142857142857143, 0.3] / REWARD 0.476618 / EPISODE LENGTH 146 / Q_MAX  62.95221\n",
      "EPISODE 63 TIMESTEP 8040 / ACTION [0.2857142857142856, 0.3] / REWARD 0.48013079999999997 / EPISODE LENGTH 176 / Q_MAX  68.63372\n",
      "episode: 63   memory length: 8046   epsilon: 0.2114919999998215  episode length: 182\n",
      "Episode:  64\n",
      "connect  2788f5d492f04ba4860edf33ff167acf\n",
      "ProtocolVersion  2788f5d492f04ba4860edf33ff167acf\n",
      "Loading generated_road\n"
     ]
    },
    {
     "name": "stderr",
     "output_type": "stream",
     "text": [
      "(1924) accepted ('127.0.0.1', 20619)\n",
      "(1924) accepted ('127.0.0.1', 20620)\n"
     ]
    },
    {
     "name": "stdout",
     "output_type": "stream",
     "text": [
      "connect  c140abf34cb34744abfb2f1b867991dc\n"
     ]
    },
    {
     "name": "stderr",
     "output_type": "stream",
     "text": [
      "127.0.0.1 - - [13/Jun/2019 06:34:03] \"GET /socket.io/?EIO=4&transport=websocket HTTP/1.1\" 200 0 610.041173\n",
      "127.0.0.1 - - [13/Jun/2019 06:34:06] \"GET /socket.io/?EIO=4&transport=websocket HTTP/1.1\" 200 0 60.052113\n"
     ]
    },
    {
     "name": "stdout",
     "output_type": "stream",
     "text": [
      "EPISODE 64 TIMESTEP 8070 / ACTION [-0.4285714285714286, 0.3] / REWARD 0.91432896 / EPISODE LENGTH 24 / Q_MAX  62.93726\n",
      "EPISODE 64 TIMESTEP 8100 / ACTION [-0.736718574546201, 0.3] / REWARD 0.687254 / EPISODE LENGTH 54 / Q_MAX  58.3854\n",
      "EPISODE 64 TIMESTEP 8130 / ACTION [0.1428571428571428, 0.3] / REWARD 0.7200558 / EPISODE LENGTH 84 / Q_MAX  60.604702\n",
      "EPISODE 64 TIMESTEP 8160 / ACTION [0.5714285714285714, 0.3] / REWARD 0.7358656 / EPISODE LENGTH 114 / Q_MAX  61.413128\n",
      "EPISODE 64 TIMESTEP 8190 / ACTION [-1.0, 0.3] / REWARD 0.6198944 / EPISODE LENGTH 144 / Q_MAX  63.214123\n",
      "EPISODE 64 TIMESTEP 8220 / ACTION [-0.2857142857142858, 0.3] / REWARD 0.6680768 / EPISODE LENGTH 174 / Q_MAX  26.542774\n",
      "EPISODE 64 TIMESTEP 8250 / ACTION [0.2857142857142856, 0.3] / REWARD 0.747254 / EPISODE LENGTH 204 / Q_MAX  63.716885\n",
      "EPISODE 64 TIMESTEP 8280 / ACTION [0.6470696043848201, 0.3] / REWARD 0.7013586 / EPISODE LENGTH 234 / Q_MAX  61.144142\n",
      "EPISODE 64 TIMESTEP 8310 / ACTION [0.0, 0.3] / REWARD 0.5508765999999999 / EPISODE LENGTH 264 / Q_MAX  63.236412\n",
      "EPISODE 64 TIMESTEP 8340 / ACTION [0.857142857142857, 0.3] / REWARD 0.7559904 / EPISODE LENGTH 294 / Q_MAX  62.892662\n",
      "EPISODE 64 TIMESTEP 8370 / ACTION [-0.8571428571428572, 0.3] / REWARD 0.6615826 / EPISODE LENGTH 324 / Q_MAX  67.6997\n",
      "EPISODE 64 TIMESTEP 8400 / ACTION [-0.7142857142857143, 0.3] / REWARD 0.98885988 / EPISODE LENGTH 354 / Q_MAX  42.16305\n",
      "episode: 64   memory length: 8411   epsilon: 0.17572199999982624  episode length: 365\n",
      "Episode:  65\n",
      "connect  6453e101008147578b05df01a15fd670\n",
      "ProtocolVersion  6453e101008147578b05df01a15fd670\n",
      "Loading generated_road\n"
     ]
    },
    {
     "name": "stderr",
     "output_type": "stream",
     "text": [
      "(1924) accepted ('127.0.0.1', 1056)\n",
      "(1924) accepted ('127.0.0.1', 1057)\n"
     ]
    },
    {
     "name": "stdout",
     "output_type": "stream",
     "text": [
      "connect  ba59c5c58e654b60b655090f90a60e22\n",
      "EPISODE 65 TIMESTEP 8430 / ACTION [-0.4795737159962279, 0.3] / REWARD 0.985601098 / EPISODE LENGTH 19 / Q_MAX  59.670723\n"
     ]
    },
    {
     "name": "stderr",
     "output_type": "stream",
     "text": [
      "127.0.0.1 - - [13/Jun/2019 06:52:04] \"GET /socket.io/?EIO=4&transport=websocket HTTP/1.1\" 200 0 1137.985244\n",
      "127.0.0.1 - - [13/Jun/2019 06:52:07] \"GET /socket.io/?EIO=4&transport=websocket HTTP/1.1\" 200 0 61.308521\n"
     ]
    },
    {
     "name": "stdout",
     "output_type": "stream",
     "text": [
      "EPISODE 65 TIMESTEP 8460 / ACTION [0.4285714285714284, 0.3] / REWARD 0.8353212999999999 / EPISODE LENGTH 49 / Q_MAX  63.902233\n",
      "EPISODE 65 TIMESTEP 8490 / ACTION [-0.3328025304741016, 0.3] / REWARD 0.731352 / EPISODE LENGTH 79 / Q_MAX  69.41595\n",
      "EPISODE 65 TIMESTEP 8520 / ACTION [-0.4285714285714286, 0.3] / REWARD 0.82735128 / EPISODE LENGTH 109 / Q_MAX  62.13657\n",
      "EPISODE 65 TIMESTEP 8550 / ACTION [1.0, 0.3] / REWARD 0.20993760000000006 / EPISODE LENGTH 139 / Q_MAX  67.36448\n",
      "EPISODE 65 TIMESTEP 8580 / ACTION [-0.8571428571428572, 0.3] / REWARD 0.40191559999999993 / EPISODE LENGTH 169 / Q_MAX  66.99522\n",
      "episode: 65   memory length: 8600   epsilon: 0.1571999999998287  episode length: 189\n",
      "Episode:  66\n",
      "connect  5fb37ce97229475392fef81063b78d0c\n",
      "ProtocolVersion  5fb37ce97229475392fef81063b78d0c\n",
      "Loading generated_road\n"
     ]
    },
    {
     "name": "stderr",
     "output_type": "stream",
     "text": [
      "(1924) accepted ('127.0.0.1', 1071)\n",
      "(1924) accepted ('127.0.0.1', 1072)\n"
     ]
    },
    {
     "name": "stdout",
     "output_type": "stream",
     "text": [
      "connect  fd925fb2a1fe45e68242bf3e0d72e3cf\n",
      "EPISODE 66 TIMESTEP 8610 / ACTION [0.585235976962788, 0.3] / REWARD 0.990829222 / EPISODE LENGTH 10 / Q_MAX  59.9285\n"
     ]
    },
    {
     "name": "stderr",
     "output_type": "stream",
     "text": [
      "127.0.0.1 - - [13/Jun/2019 07:01:47] \"GET /socket.io/?EIO=4&transport=websocket HTTP/1.1\" 200 0 640.468652\n",
      "127.0.0.1 - - [13/Jun/2019 07:01:50] \"GET /socket.io/?EIO=4&transport=websocket HTTP/1.1\" 200 0 60.408997\n"
     ]
    },
    {
     "name": "stdout",
     "output_type": "stream",
     "text": [
      "EPISODE 66 TIMESTEP 8640 / ACTION [-0.695357881705033, 0.3] / REWARD 0.7719894 / EPISODE LENGTH 40 / Q_MAX  67.145256\n",
      "EPISODE 66 TIMESTEP 8670 / ACTION [1.0, 0.3] / REWARD 0.6939378 / EPISODE LENGTH 70 / Q_MAX  67.15682\n",
      "EPISODE 66 TIMESTEP 8700 / ACTION [0.1428571428571428, 0.3] / REWARD 0.644877 / EPISODE LENGTH 100 / Q_MAX  62.3831\n",
      "EPISODE 66 TIMESTEP 8730 / ACTION [0.0, 0.3] / REWARD 0.7337768 / EPISODE LENGTH 130 / Q_MAX  60.62758\n",
      "EPISODE 66 TIMESTEP 8760 / ACTION [-0.31354413284039406, 0.3] / REWARD 0.7351144000000001 / EPISODE LENGTH 160 / Q_MAX  69.506714\n",
      "EPISODE 66 TIMESTEP 8790 / ACTION [-0.2857142857142858, 0.3] / REWARD 0.4959698 / EPISODE LENGTH 190 / Q_MAX  65.88126\n",
      "EPISODE 66 TIMESTEP 8820 / ACTION [-0.8571428571428572, 0.3] / REWARD 0.3857096 / EPISODE LENGTH 220 / Q_MAX  64.44556\n",
      "EPISODE 66 TIMESTEP 8850 / ACTION [-0.6043841591487069, 0.3] / REWARD 0.5925422 / EPISODE LENGTH 250 / Q_MAX  65.81319\n",
      "EPISODE 66 TIMESTEP 8880 / ACTION [-0.4285714285714286, 0.3] / REWARD 0.5353662 / EPISODE LENGTH 280 / Q_MAX  65.93364\n",
      "EPISODE 66 TIMESTEP 8910 / ACTION [-0.8571428571428572, 0.3] / REWARD 0.7225534 / EPISODE LENGTH 310 / Q_MAX  61.837418\n",
      "EPISODE 66 TIMESTEP 8940 / ACTION [-0.4119497251711344, 0.3] / REWARD 0.488522 / EPISODE LENGTH 340 / Q_MAX  61.21465\n",
      "EPISODE 66 TIMESTEP 8970 / ACTION [1.0, 0.3] / REWARD 0.43679860000000004 / EPISODE LENGTH 370 / Q_MAX  63.440704\n",
      "EPISODE 66 TIMESTEP 9000 / ACTION [0.4285714285714284, 0.3] / REWARD 0.7963016 / EPISODE LENGTH 400 / Q_MAX  10.947617\n",
      "episode: 66   memory length: 9005   epsilon: 0.1175099999998329  episode length: 405\n",
      "Episode:  67\n",
      "connect  3742b1ace1474877a7bf6c1542acc84a\n",
      "ProtocolVersion  3742b1ace1474877a7bf6c1542acc84a\n",
      "Loading generated_road\n"
     ]
    },
    {
     "name": "stderr",
     "output_type": "stream",
     "text": [
      "(1924) accepted ('127.0.0.1', 1112)\n",
      "(1924) accepted ('127.0.0.1', 1113)\n"
     ]
    },
    {
     "name": "stdout",
     "output_type": "stream",
     "text": [
      "connect  4e737065dc934828906c058a2d91466e\n"
     ]
    },
    {
     "name": "stderr",
     "output_type": "stream",
     "text": [
      "127.0.0.1 - - [13/Jun/2019 07:22:06] \"GET /socket.io/?EIO=4&transport=websocket HTTP/1.1\" 200 0 1276.096902\n",
      "127.0.0.1 - - [13/Jun/2019 07:22:08] \"GET /socket.io/?EIO=4&transport=websocket HTTP/1.1\" 200 0 60.352537\n"
     ]
    },
    {
     "name": "stdout",
     "output_type": "stream",
     "text": [
      "EPISODE 67 TIMESTEP 9030 / ACTION [0.2857142857142856, 0.3] / REWARD 0.8217439200000001 / EPISODE LENGTH 25 / Q_MAX  67.14518\n",
      "EPISODE 67 TIMESTEP 9060 / ACTION [0.2857142857142856, 0.3] / REWARD 0.5870230000000001 / EPISODE LENGTH 55 / Q_MAX  69.32031\n",
      "EPISODE 67 TIMESTEP 9090 / ACTION [0.4285714285714284, 0.3] / REWARD 0.44100320000000004 / EPISODE LENGTH 85 / Q_MAX  60.647472\n",
      "EPISODE 67 TIMESTEP 9120 / ACTION [-0.7142857142857143, 0.3] / REWARD 0.7123664000000001 / EPISODE LENGTH 115 / Q_MAX  72.13809\n",
      "EPISODE 67 TIMESTEP 9150 / ACTION [-0.7142857142857143, 0.3] / REWARD 0.8233273999999999 / EPISODE LENGTH 145 / Q_MAX  67.1917\n",
      "EPISODE 67 TIMESTEP 9180 / ACTION [0.5714285714285714, 0.3] / REWARD 0.7608518 / EPISODE LENGTH 175 / Q_MAX  21.295458\n",
      "EPISODE 67 TIMESTEP 9210 / ACTION [0.7142857142857142, 0.3] / REWARD 0.739201 / EPISODE LENGTH 205 / Q_MAX  63.70883\n",
      "EPISODE 67 TIMESTEP 9240 / ACTION [-0.8571428571428572, 0.3] / REWARD 0.5857766 / EPISODE LENGTH 235 / Q_MAX  64.65506\n",
      "EPISODE 67 TIMESTEP 9270 / ACTION [0.2857142857142856, 0.3] / REWARD 0.7062654 / EPISODE LENGTH 265 / Q_MAX  29.250498\n",
      "EPISODE 67 TIMESTEP 9300 / ACTION [0.7142857142857142, 0.3] / REWARD 0.6147786 / EPISODE LENGTH 295 / Q_MAX  55.31562\n",
      "EPISODE 67 TIMESTEP 9330 / ACTION [1.0, 0.3] / REWARD 0.5332939999999999 / EPISODE LENGTH 325 / Q_MAX  6.644499\n",
      "EPISODE 67 TIMESTEP 9360 / ACTION [-0.7142857142857143, 0.3] / REWARD 0.772744 / EPISODE LENGTH 355 / Q_MAX  64.98987\n",
      "EPISODE 67 TIMESTEP 9390 / ACTION [0.4285714285714284, 0.3] / REWARD 0.705708 / EPISODE LENGTH 385 / Q_MAX  68.87823\n",
      "EPISODE 67 TIMESTEP 9420 / ACTION [-0.4285714285714286, 0.3] / REWARD 0.81269938 / EPISODE LENGTH 415 / Q_MAX  11.305339\n",
      "EPISODE 67 TIMESTEP 9450 / ACTION [-0.8571428571428572, 0.3] / REWARD 0.49001400000000006 / EPISODE LENGTH 445 / Q_MAX  13.441156\n",
      "EPISODE 67 TIMESTEP 9480 / ACTION [1.0, 0.3] / REWARD 0.6025924 / EPISODE LENGTH 475 / Q_MAX  63.03371\n",
      "EPISODE 67 TIMESTEP 9510 / ACTION [-1.0, 0.3] / REWARD 0.5576352 / EPISODE LENGTH 505 / Q_MAX  64.587524\n",
      "EPISODE 67 TIMESTEP 9540 / ACTION [0.2857142857142856, 0.3] / REWARD 0.711517 / EPISODE LENGTH 535 / Q_MAX  31.205935\n",
      "EPISODE 67 TIMESTEP 9570 / ACTION [-0.7142857142857143, 0.3] / REWARD 0.6739786 / EPISODE LENGTH 565 / Q_MAX  63.705837\n",
      "episode: 67   memory length: 9579   epsilon: 0.061257999999832405  episode length: 574\n",
      "Episode:  68\n",
      "connect  2d0c7b309b984d7996549ef9e3f4a275\n",
      "ProtocolVersion  2d0c7b309b984d7996549ef9e3f4a275\n",
      "Loading generated_road\n"
     ]
    },
    {
     "name": "stderr",
     "output_type": "stream",
     "text": [
      "(1924) accepted ('127.0.0.1', 1146)\n",
      "(1924) accepted ('127.0.0.1', 1147)\n"
     ]
    },
    {
     "name": "stdout",
     "output_type": "stream",
     "text": [
      "connect  ebf54f01855843d9a353031c913c2825\n"
     ]
    },
    {
     "name": "stderr",
     "output_type": "stream",
     "text": [
      "127.0.0.1 - - [13/Jun/2019 07:50:51] \"GET /socket.io/?EIO=4&transport=websocket HTTP/1.1\" 200 0 1782.187153\n",
      "127.0.0.1 - - [13/Jun/2019 07:50:54] \"GET /socket.io/?EIO=4&transport=websocket HTTP/1.1\" 200 0 60.151998\n"
     ]
    },
    {
     "name": "stdout",
     "output_type": "stream",
     "text": [
      "EPISODE 68 TIMESTEP 9600 / ACTION [0.1428571428571428, 0.3] / REWARD 0.96179972 / EPISODE LENGTH 21 / Q_MAX  73.00576\n",
      "EPISODE 68 TIMESTEP 9630 / ACTION [0.2857142857142856, 0.3] / REWARD 0.93031128 / EPISODE LENGTH 51 / Q_MAX  72.567444\n",
      "EPISODE 68 TIMESTEP 9660 / ACTION [0.4285714285714284, 0.3] / REWARD 0.90712858 / EPISODE LENGTH 81 / Q_MAX  71.46765\n",
      "EPISODE 68 TIMESTEP 9690 / ACTION [-1.0, 0.3] / REWARD 0.92815696 / EPISODE LENGTH 111 / Q_MAX  63.840263\n",
      "EPISODE 68 TIMESTEP 9720 / ACTION [1.0, 0.3] / REWARD 0.7096794 / EPISODE LENGTH 141 / Q_MAX  58.86362\n",
      "EPISODE 68 TIMESTEP 9750 / ACTION [-0.2857142857142858, 0.3] / REWARD 0.793644 / EPISODE LENGTH 171 / Q_MAX  65.751945\n",
      "EPISODE 68 TIMESTEP 9780 / ACTION [-0.2857142857142858, 0.3] / REWARD 0.7045551999999999 / EPISODE LENGTH 201 / Q_MAX  63.167015\n",
      "EPISODE 68 TIMESTEP 9810 / ACTION [-0.8571428571428572, 0.3] / REWARD 0.37489320000000004 / EPISODE LENGTH 231 / Q_MAX  65.32985\n",
      "EPISODE 68 TIMESTEP 9840 / ACTION [-0.4285714285714286, 0.3] / REWARD 0.4846918 / EPISODE LENGTH 261 / Q_MAX  58.58952\n",
      "EPISODE 68 TIMESTEP 9870 / ACTION [1.0, 0.3] / REWARD 0.6583568 / EPISODE LENGTH 291 / Q_MAX  59.680767\n",
      "episode: 68   memory length: 9899   epsilon: 0.02989799999983213  episode length: 320\n",
      "Episode:  69\n",
      "connect  cc08d07104f94660bd07f168317fdd81\n",
      "ProtocolVersion  cc08d07104f94660bd07f168317fdd81\n",
      "Loading generated_road\n"
     ]
    },
    {
     "name": "stderr",
     "output_type": "stream",
     "text": [
      "(1924) accepted ('127.0.0.1', 1187)\n",
      "(1924) accepted ('127.0.0.1', 1188)\n"
     ]
    },
    {
     "name": "stdout",
     "output_type": "stream",
     "text": [
      "connect  b102ebe082f443e3ad74f6ad4aa7c7fe\n",
      "EPISODE 69 TIMESTEP 9900 / ACTION [0.2857142857142856, 0.3] / REWARD 0.99994147072 / EPISODE LENGTH 1 / Q_MAX  64.82419\n"
     ]
    },
    {
     "name": "stderr",
     "output_type": "stream",
     "text": [
      "127.0.0.1 - - [13/Jun/2019 08:06:45] \"GET /socket.io/?EIO=4&transport=websocket HTTP/1.1\" 200 0 1011.585665\n",
      "127.0.0.1 - - [13/Jun/2019 08:06:48] \"GET /socket.io/?EIO=4&transport=websocket HTTP/1.1\" 200 0 61.345959\n"
     ]
    },
    {
     "name": "stdout",
     "output_type": "stream",
     "text": [
      "EPISODE 69 TIMESTEP 9930 / ACTION [-0.1428571428571429, 0.3] / REWARD 0.91318704 / EPISODE LENGTH 31 / Q_MAX  66.49811\n",
      "EPISODE 69 TIMESTEP 9960 / ACTION [-1.0, 0.3] / REWARD 0.9004344 / EPISODE LENGTH 61 / Q_MAX  66.94939\n",
      "EPISODE 69 TIMESTEP 9990 / ACTION [0.2857142857142856, 0.3] / REWARD 0.90333734 / EPISODE LENGTH 91 / Q_MAX  70.99104\n",
      "EPISODE 69 TIMESTEP 10020 / ACTION [-0.7142857142857143, 0.3] / REWARD 0.641232 / EPISODE LENGTH 121 / Q_MAX  67.877266\n",
      "EPISODE 69 TIMESTEP 10050 / ACTION [-0.2857142857142858, 0.3] / REWARD 0.7581904 / EPISODE LENGTH 151 / Q_MAX  61.20951\n",
      "EPISODE 69 TIMESTEP 10080 / ACTION [0.1428571428571428, 0.3] / REWARD 0.6850807999999999 / EPISODE LENGTH 181 / Q_MAX  49.292454\n",
      "EPISODE 69 TIMESTEP 10110 / ACTION [-0.2857142857142858, 0.3] / REWARD 0.4941924 / EPISODE LENGTH 211 / Q_MAX  62.840576\n",
      "EPISODE 69 TIMESTEP 10140 / ACTION [0.4285714285714284, 0.3] / REWARD 0.5334918 / EPISODE LENGTH 241 / Q_MAX  70.33699\n",
      "EPISODE 69 TIMESTEP 10170 / ACTION [0.2857142857142856, 0.3] / REWARD 0.4944742 / EPISODE LENGTH 271 / Q_MAX  64.71065\n",
      "EPISODE 69 TIMESTEP 10200 / ACTION [0.4285714285714284, 0.3] / REWARD 0.7378892 / EPISODE LENGTH 301 / Q_MAX  64.602486\n",
      "EPISODE 69 TIMESTEP 10230 / ACTION [0.4285714285714284, 0.3] / REWARD 0.7352226 / EPISODE LENGTH 331 / Q_MAX  44.418488\n",
      "EPISODE 69 TIMESTEP 10260 / ACTION [0.7142857142857142, 0.3] / REWARD 0.5469299999999999 / EPISODE LENGTH 361 / Q_MAX  75.47388\n",
      "EPISODE 69 TIMESTEP 10290 / ACTION [-0.8571428571428572, 0.3] / REWARD 0.7463406 / EPISODE LENGTH 391 / Q_MAX  64.11285\n",
      "episode: 69   memory length: 10000   epsilon: 0.01999999999983204  episode length: 409\n",
      "Episode:  70\n",
      "connect  772dcea49b754e0bb1201c940e0616f8\n",
      "ProtocolVersion  772dcea49b754e0bb1201c940e0616f8\n",
      "Loading generated_road\n"
     ]
    },
    {
     "name": "stderr",
     "output_type": "stream",
     "text": [
      "(1924) accepted ('127.0.0.1', 1230)\n",
      "(1924) accepted ('127.0.0.1', 1232)\n"
     ]
    },
    {
     "name": "stdout",
     "output_type": "stream",
     "text": [
      "connect  02be2d15f79c42b9b27089b0bf2fcff2\n",
      "EPISODE 70 TIMESTEP 10320 / ACTION [0.5714285714285714, 0.3] / REWARD 0.993592796 / EPISODE LENGTH 12 / Q_MAX  60.08567\n"
     ]
    },
    {
     "name": "stderr",
     "output_type": "stream",
     "text": [
      "127.0.0.1 - - [13/Jun/2019 08:27:33] \"GET /socket.io/?EIO=4&transport=websocket HTTP/1.1\" 200 0 1305.675119\n",
      "127.0.0.1 - - [13/Jun/2019 08:27:33] \"GET /socket.io/?EIO=4&transport=websocket HTTP/1.1\" 200 0 60.033651\n"
     ]
    },
    {
     "name": "stdout",
     "output_type": "stream",
     "text": [
      "EPISODE 70 TIMESTEP 10350 / ACTION [1.0, 0.3] / REWARD 0.93751624 / EPISODE LENGTH 42 / Q_MAX  66.46372\n",
      "EPISODE 70 TIMESTEP 10380 / ACTION [0.2857142857142856, 0.3] / REWARD 0.7954202 / EPISODE LENGTH 72 / Q_MAX  68.36153\n",
      "EPISODE 70 TIMESTEP 10410 / ACTION [-0.8571428571428572, 0.3] / REWARD 0.775988 / EPISODE LENGTH 102 / Q_MAX  28.148424\n",
      "EPISODE 70 TIMESTEP 10440 / ACTION [-0.4285714285714286, 0.3] / REWARD 0.7419818 / EPISODE LENGTH 132 / Q_MAX  58.29843\n",
      "EPISODE 70 TIMESTEP 10470 / ACTION [-0.2857142857142858, 0.3] / REWARD 0.7508664 / EPISODE LENGTH 162 / Q_MAX  67.22344\n",
      "EPISODE 70 TIMESTEP 10500 / ACTION [0.5714285714285714, 0.3] / REWARD 0.7779814 / EPISODE LENGTH 192 / Q_MAX  68.10526\n",
      "EPISODE 70 TIMESTEP 10530 / ACTION [0.5714285714285714, 0.3] / REWARD 0.3141984 / EPISODE LENGTH 222 / Q_MAX  65.49939\n",
      "EPISODE 70 TIMESTEP 10560 / ACTION [-0.5714285714285714, 0.3] / REWARD 0.43230199999999996 / EPISODE LENGTH 252 / Q_MAX  68.618195\n",
      "EPISODE 70 TIMESTEP 10590 / ACTION [-1.0, 0.3] / REWARD 0.80156928 / EPISODE LENGTH 282 / Q_MAX  72.10669\n",
      "EPISODE 70 TIMESTEP 10620 / ACTION [-1.0, 0.3] / REWARD 0.715321 / EPISODE LENGTH 312 / Q_MAX  73.5973\n",
      "EPISODE 70 TIMESTEP 10650 / ACTION [-0.8571428571428572, 0.3] / REWARD 0.7265484 / EPISODE LENGTH 342 / Q_MAX  65.4178\n",
      "EPISODE 70 TIMESTEP 10680 / ACTION [-0.8571428571428572, 0.3] / REWARD 0.7392276 / EPISODE LENGTH 372 / Q_MAX  59.919895\n",
      "EPISODE 70 TIMESTEP 10710 / ACTION [-0.4285714285714286, 0.3] / REWARD 0.83181814 / EPISODE LENGTH 402 / Q_MAX  23.511095\n",
      "EPISODE 70 TIMESTEP 10740 / ACTION [0.7142857142857142, 0.3] / REWARD 0.7383894 / EPISODE LENGTH 432 / Q_MAX  74.39494\n",
      "EPISODE 70 TIMESTEP 10770 / ACTION [0.4285714285714284, 0.3] / REWARD 0.7696264 / EPISODE LENGTH 462 / Q_MAX  67.27304\n",
      "EPISODE 70 TIMESTEP 10800 / ACTION [1.0, 0.3] / REWARD 0.7162364 / EPISODE LENGTH 492 / Q_MAX  71.99146\n",
      "episode: 70   memory length: 10000   epsilon: 0.01999999999983204  episode length: 511\n",
      "Episode:  71\n",
      "connect  ec33abc62adc43b48c61499a2c6afb28\n",
      "ProtocolVersion  ec33abc62adc43b48c61499a2c6afb28\n",
      "Loading generated_road\n"
     ]
    },
    {
     "name": "stderr",
     "output_type": "stream",
     "text": [
      "(1924) accepted ('127.0.0.1', 1258)\n",
      "(1924) accepted ('127.0.0.1', 1259)\n"
     ]
    },
    {
     "name": "stdout",
     "output_type": "stream",
     "text": [
      "connect  e7f064c43f5341f1861bd164466e8a82\n",
      "EPISODE 71 TIMESTEP 10830 / ACTION [0.5714285714285714, 0.3] / REWARD 0.99393167 / EPISODE LENGTH 11 / Q_MAX  26.344921\n"
     ]
    },
    {
     "name": "stderr",
     "output_type": "stream",
     "text": [
      "127.0.0.1 - - [13/Jun/2019 08:53:24] \"GET /socket.io/?EIO=4&transport=websocket HTTP/1.1\" 200 0 1610.533650\n",
      "127.0.0.1 - - [13/Jun/2019 08:53:27] \"GET /socket.io/?EIO=4&transport=websocket HTTP/1.1\" 200 0 61.786776\n"
     ]
    },
    {
     "name": "stdout",
     "output_type": "stream",
     "text": [
      "EPISODE 71 TIMESTEP 10860 / ACTION [0.4285714285714284, 0.3] / REWARD 0.93199488 / EPISODE LENGTH 41 / Q_MAX  37.621334\n",
      "EPISODE 71 TIMESTEP 10890 / ACTION [0.4285714285714284, 0.3] / REWARD 0.90113046 / EPISODE LENGTH 71 / Q_MAX  66.02929\n",
      "EPISODE 71 TIMESTEP 10920 / ACTION [1.0, 0.3] / REWARD 0.93512814 / EPISODE LENGTH 101 / Q_MAX  65.887726\n",
      "EPISODE 71 TIMESTEP 10950 / ACTION [-0.8571428571428572, 0.3] / REWARD 0.97807296 / EPISODE LENGTH 131 / Q_MAX  68.45727\n",
      "EPISODE 71 TIMESTEP 10980 / ACTION [0.5714285714285714, 0.3] / REWARD 0.454657 / EPISODE LENGTH 161 / Q_MAX  64.10083\n",
      "EPISODE 71 TIMESTEP 11010 / ACTION [0.5714285714285714, 0.3] / REWARD 0.46552379999999993 / EPISODE LENGTH 191 / Q_MAX  69.166916\n",
      "EPISODE 71 TIMESTEP 11040 / ACTION [-0.8571428571428572, 0.3] / REWARD 0.7139934 / EPISODE LENGTH 221 / Q_MAX  70.49292\n",
      "EPISODE 71 TIMESTEP 11070 / ACTION [-0.7142857142857143, 0.3] / REWARD 0.7602916 / EPISODE LENGTH 251 / Q_MAX  63.416428\n",
      "EPISODE 71 TIMESTEP 11100 / ACTION [0.857142857142857, 0.3] / REWARD 0.7849612 / EPISODE LENGTH 281 / Q_MAX  63.877148\n",
      "EPISODE 71 TIMESTEP 11130 / ACTION [-1.0, 0.3] / REWARD 0.5027538 / EPISODE LENGTH 311 / Q_MAX  49.893845\n",
      "EPISODE 71 TIMESTEP 11160 / ACTION [1.0, 0.3] / REWARD 0.57892 / EPISODE LENGTH 341 / Q_MAX  68.699524\n",
      "EPISODE 71 TIMESTEP 11190 / ACTION [0.2857142857142856, 0.3] / REWARD 0.48895600000000006 / EPISODE LENGTH 371 / Q_MAX  64.21288\n",
      "episode: 71   memory length: 10000   epsilon: 0.01999999999983204  episode length: 396\n",
      "Episode:  72\n",
      "connect  af3de2c8a5fe4d66954c0c9ed7cde114\n",
      "ProtocolVersion  af3de2c8a5fe4d66954c0c9ed7cde114\n",
      "Loading generated_road\n"
     ]
    },
    {
     "name": "stderr",
     "output_type": "stream",
     "text": [
      "(1924) accepted ('127.0.0.1', 1334)\n",
      "(1924) accepted ('127.0.0.1', 1335)\n"
     ]
    },
    {
     "name": "stdout",
     "output_type": "stream",
     "text": [
      "connect  8dec8d211ef04b25adf729ed8e2ae08a\n",
      "EPISODE 72 TIMESTEP 11220 / ACTION [-0.8571428571428572, 0.3] / REWARD 0.99773564 / EPISODE LENGTH 5 / Q_MAX  70.96217\n"
     ]
    },
    {
     "name": "stderr",
     "output_type": "stream",
     "text": [
      "127.0.0.1 - - [13/Jun/2019 09:13:38] \"GET /socket.io/?EIO=4&transport=websocket HTTP/1.1\" 200 0 1272.993819\n",
      "127.0.0.1 - - [13/Jun/2019 09:13:41] \"GET /socket.io/?EIO=4&transport=websocket HTTP/1.1\" 200 0 60.952786\n"
     ]
    },
    {
     "name": "stdout",
     "output_type": "stream",
     "text": [
      "EPISODE 72 TIMESTEP 11250 / ACTION [-0.7142857142857143, 0.3] / REWARD 0.7363206 / EPISODE LENGTH 35 / Q_MAX  67.45653\n",
      "EPISODE 72 TIMESTEP 11280 / ACTION [-0.7142857142857143, 0.3] / REWARD 0.47193339999999995 / EPISODE LENGTH 65 / Q_MAX  66.91477\n",
      "EPISODE 72 TIMESTEP 11310 / ACTION [-0.7142857142857143, 0.3] / REWARD 0.41564 / EPISODE LENGTH 95 / Q_MAX  64.869354\n",
      "EPISODE 72 TIMESTEP 11340 / ACTION [0.3192440777204484, 0.3] / REWARD 0.6443866 / EPISODE LENGTH 125 / Q_MAX  72.8644\n",
      "episode: 72   memory length: 10000   epsilon: 0.01999999999983204  episode length: 131\n",
      "Episode:  73\n",
      "connect  3d68d58356354ce28a74ca98cf639a79\n",
      "ProtocolVersion  3d68d58356354ce28a74ca98cf639a79\n",
      "Loading generated_road\n"
     ]
    },
    {
     "name": "stderr",
     "output_type": "stream",
     "text": [
      "(1924) accepted ('127.0.0.1', 1354)\n",
      "(1924) accepted ('127.0.0.1', 1355)\n"
     ]
    },
    {
     "name": "stdout",
     "output_type": "stream",
     "text": [
      "connect  ddd94cf131224befbc6fd00a7ddd6b21\n"
     ]
    },
    {
     "name": "stderr",
     "output_type": "stream",
     "text": [
      "127.0.0.1 - - [13/Jun/2019 09:19:53] \"GET /socket.io/?EIO=4&transport=websocket HTTP/1.1\" 200 0 432.285063\n",
      "127.0.0.1 - - [13/Jun/2019 09:19:56] \"GET /socket.io/?EIO=4&transport=websocket HTTP/1.1\" 200 0 60.261283\n"
     ]
    },
    {
     "name": "stdout",
     "output_type": "stream",
     "text": [
      "EPISODE 73 TIMESTEP 11370 / ACTION [0.2857142857142856, 0.3] / REWARD 0.84590612 / EPISODE LENGTH 24 / Q_MAX  67.526886\n",
      "EPISODE 73 TIMESTEP 11400 / ACTION [0.2857142857142856, 0.3] / REWARD 0.5985914 / EPISODE LENGTH 54 / Q_MAX  74.2509\n",
      "EPISODE 73 TIMESTEP 11430 / ACTION [-0.1428571428571429, 0.3] / REWARD 0.4488518 / EPISODE LENGTH 84 / Q_MAX  62.87976\n",
      "EPISODE 73 TIMESTEP 11460 / ACTION [0.2857142857142856, 0.3] / REWARD 0.4709422 / EPISODE LENGTH 114 / Q_MAX  72.35445\n",
      "EPISODE 73 TIMESTEP 11490 / ACTION [-0.5714285714285714, 0.3] / REWARD 0.7513202 / EPISODE LENGTH 144 / Q_MAX  63.693676\n",
      "EPISODE 73 TIMESTEP 11520 / ACTION [0.2857142857142856, 0.3] / REWARD 0.7241838 / EPISODE LENGTH 174 / Q_MAX  70.69567\n",
      "EPISODE 73 TIMESTEP 11550 / ACTION [-0.7142857142857143, 0.3] / REWARD 0.7265896000000001 / EPISODE LENGTH 204 / Q_MAX  46.95537\n",
      "EPISODE 73 TIMESTEP 11580 / ACTION [-0.7142857142857143, 0.3] / REWARD 0.7134237999999999 / EPISODE LENGTH 234 / Q_MAX  73.09636\n",
      "EPISODE 73 TIMESTEP 11610 / ACTION [-0.7142857142857143, 0.3] / REWARD 0.5500676 / EPISODE LENGTH 264 / Q_MAX  59.53269\n",
      "EPISODE 73 TIMESTEP 11640 / ACTION [-0.2857142857142858, 0.3] / REWARD 0.7246496 / EPISODE LENGTH 294 / Q_MAX  68.726\n",
      "EPISODE 73 TIMESTEP 11670 / ACTION [-0.8571428571428572, 0.3] / REWARD 0.5298695999999999 / EPISODE LENGTH 324 / Q_MAX  65.95316\n",
      "EPISODE 73 TIMESTEP 11700 / ACTION [0.5714285714285714, 0.3] / REWARD 0.6743516 / EPISODE LENGTH 354 / Q_MAX  67.7955\n",
      "EPISODE 73 TIMESTEP 11730 / ACTION [0.8558340760620529, 0.3] / REWARD 0.5336308 / EPISODE LENGTH 384 / Q_MAX  69.02991\n",
      "EPISODE 73 TIMESTEP 11760 / ACTION [0.5714285714285714, 0.3] / REWARD 0.6443476 / EPISODE LENGTH 414 / Q_MAX  75.51103\n",
      "EPISODE 73 TIMESTEP 11790 / ACTION [-0.5714285714285714, 0.3] / REWARD 0.9435804 / EPISODE LENGTH 444 / Q_MAX  29.007534\n",
      "EPISODE 73 TIMESTEP 11820 / ACTION [0.5714285714285714, 0.3] / REWARD 0.30762539999999994 / EPISODE LENGTH 474 / Q_MAX  70.666885\n",
      "EPISODE 73 TIMESTEP 11850 / ACTION [0.1428571428571428, 0.3] / REWARD 0.6483106 / EPISODE LENGTH 504 / Q_MAX  50.43704\n",
      "EPISODE 73 TIMESTEP 11880 / ACTION [0.2857142857142856, 0.3] / REWARD 0.3576534 / EPISODE LENGTH 534 / Q_MAX  74.21329\n",
      "EPISODE 73 TIMESTEP 11910 / ACTION [0.7142857142857142, 0.3] / REWARD 0.82347904 / EPISODE LENGTH 564 / Q_MAX  70.966095\n",
      "EPISODE 73 TIMESTEP 11940 / ACTION [-0.5714285714285714, 0.3] / REWARD 0.95825712 / EPISODE LENGTH 594 / Q_MAX  68.22582\n",
      "episode: 73   memory length: 10000   epsilon: 0.01999999999983204  episode length: 603\n",
      "Episode:  74\n",
      "connect  78efb7df3cc447fdaed10bf58792b586\n",
      "ProtocolVersion  78efb7df3cc447fdaed10bf58792b586\n",
      "Loading generated_road\n"
     ]
    },
    {
     "name": "stderr",
     "output_type": "stream",
     "text": [
      "(1924) accepted ('127.0.0.1', 1434)\n",
      "(1924) accepted ('127.0.0.1', 1435)\n"
     ]
    },
    {
     "name": "stdout",
     "output_type": "stream",
     "text": [
      "connect  71f326c621f54429ba94d3b7e04f7cc7\n"
     ]
    },
    {
     "name": "stderr",
     "output_type": "stream",
     "text": [
      "127.0.0.1 - - [13/Jun/2019 09:50:35] \"GET /socket.io/?EIO=4&transport=websocket HTTP/1.1\" 200 0 1899.100180\n"
     ]
    },
    {
     "name": "stdout",
     "output_type": "stream",
     "text": [
      "EPISODE 74 TIMESTEP 11970 / ACTION [-0.8571428571428572, 0.3] / REWARD 0.97519932 / EPISODE LENGTH 21 / Q_MAX  68.3918\n"
     ]
    },
    {
     "name": "stderr",
     "output_type": "stream",
     "text": [
      "127.0.0.1 - - [13/Jun/2019 09:50:38] \"GET /socket.io/?EIO=4&transport=websocket HTTP/1.1\" 200 0 61.682541\n"
     ]
    },
    {
     "name": "stdout",
     "output_type": "stream",
     "text": [
      "EPISODE 74 TIMESTEP 12000 / ACTION [-0.1428571428571429, 0.3] / REWARD 0.6245754 / EPISODE LENGTH 51 / Q_MAX  69.56794\n",
      "EPISODE 74 TIMESTEP 12030 / ACTION [-0.5714285714285714, 0.3] / REWARD 0.49156979999999995 / EPISODE LENGTH 81 / Q_MAX  19.4764\n",
      "EPISODE 74 TIMESTEP 12060 / ACTION [-0.7142857142857143, 0.3] / REWARD 0.45731560000000004 / EPISODE LENGTH 111 / Q_MAX  69.143745\n",
      "EPISODE 74 TIMESTEP 12090 / ACTION [-0.8571428571428572, 0.3] / REWARD 0.48501019999999995 / EPISODE LENGTH 141 / Q_MAX  27.857159\n",
      "EPISODE 74 TIMESTEP 12120 / ACTION [0.7142857142857142, 0.3] / REWARD 0.35126840000000004 / EPISODE LENGTH 171 / Q_MAX  61.902374\n",
      "EPISODE 74 TIMESTEP 12150 / ACTION [-0.7142857142857143, 0.3] / REWARD 0.33071339999999994 / EPISODE LENGTH 201 / Q_MAX  70.702835\n",
      "episode: 74   memory length: 10000   epsilon: 0.01999999999983204  episode length: 226\n",
      "Episode:  75\n",
      "connect  9cecb7a352874ac48b10fd93c2c9112d\n",
      "ProtocolVersion  9cecb7a352874ac48b10fd93c2c9112d\n",
      "Loading generated_road\n"
     ]
    },
    {
     "name": "stderr",
     "output_type": "stream",
     "text": [
      "(1924) accepted ('127.0.0.1', 1510)\n",
      "(1924) accepted ('127.0.0.1', 1511)\n"
     ]
    },
    {
     "name": "stdout",
     "output_type": "stream",
     "text": [
      "connect  02ef1bb274224cc8b2c4312feeeeaf18\n",
      "EPISODE 75 TIMESTEP 12180 / ACTION [0.7142857142857142, 0.3] / REWARD 0.997422844 / EPISODE LENGTH 5 / Q_MAX  71.299385\n"
     ]
    },
    {
     "name": "stderr",
     "output_type": "stream",
     "text": [
      "127.0.0.1 - - [13/Jun/2019 10:02:09] \"GET /socket.io/?EIO=4&transport=websocket HTTP/1.1\" 200 0 752.469035\n",
      "127.0.0.1 - - [13/Jun/2019 10:02:12] \"GET /socket.io/?EIO=4&transport=websocket HTTP/1.1\" 200 0 60.081933\n"
     ]
    },
    {
     "name": "stdout",
     "output_type": "stream",
     "text": [
      "EPISODE 75 TIMESTEP 12210 / ACTION [-0.4285714285714286, 0.3] / REWARD 0.7839348 / EPISODE LENGTH 35 / Q_MAX  74.31564\n",
      "EPISODE 75 TIMESTEP 12240 / ACTION [-0.4285714285714286, 0.3] / REWARD 0.5380164 / EPISODE LENGTH 65 / Q_MAX  78.62651\n",
      "EPISODE 75 TIMESTEP 12270 / ACTION [-0.8571428571428572, 0.3] / REWARD -1.0 / EPISODE LENGTH 95 / Q_MAX  71.95981\n",
      "episode: 75   memory length: 10000   epsilon: 0.01999999999983204  episode length: 95\n",
      "Episode:  76\n"
     ]
    },
    {
     "name": "stderr",
     "output_type": "stream",
     "text": [
      "(1924) accepted ('127.0.0.1', 2148)\n"
     ]
    },
    {
     "name": "stdout",
     "output_type": "stream",
     "text": [
      "connect  e580d7b5832146eea5700de00849713a\n",
      "ProtocolVersion  e580d7b5832146eea5700de00849713a\n",
      "Loading generated_road\n"
     ]
    },
    {
     "name": "stderr",
     "output_type": "stream",
     "text": [
      "(1924) accepted ('127.0.0.1', 2149)\n"
     ]
    },
    {
     "name": "stdout",
     "output_type": "stream",
     "text": [
      "connect  2dd65495d6c84fc7acb717ea4947e063\n"
     ]
    },
    {
     "name": "stderr",
     "output_type": "stream",
     "text": [
      "127.0.0.1 - - [13/Jun/2019 10:07:15] \"GET /socket.io/?EIO=4&transport=websocket HTTP/1.1\" 200 0 363.204070\n",
      "127.0.0.1 - - [13/Jun/2019 10:07:15] \"GET /socket.io/?EIO=4&transport=websocket HTTP/1.1\" 200 0 60.038907\n"
     ]
    },
    {
     "name": "stdout",
     "output_type": "stream",
     "text": [
      "EPISODE 76 TIMESTEP 12300 / ACTION [0.5714285714285714, 0.3] / REWARD 0.82170874 / EPISODE LENGTH 30 / Q_MAX  14.07897\n",
      "EPISODE 76 TIMESTEP 12330 / ACTION [0.1428571428571428, 0.3] / REWARD 0.7123992 / EPISODE LENGTH 60 / Q_MAX  -1.1855149\n",
      "EPISODE 76 TIMESTEP 12360 / ACTION [0.2857142857142856, 0.3] / REWARD 0.7590374 / EPISODE LENGTH 90 / Q_MAX  67.70858\n",
      "EPISODE 76 TIMESTEP 12390 / ACTION [0.5714285714285714, 0.3] / REWARD 0.7290833999999999 / EPISODE LENGTH 120 / Q_MAX  75.61436\n",
      "EPISODE 76 TIMESTEP 12420 / ACTION [-0.7142857142857143, 0.3] / REWARD 0.7781964 / EPISODE LENGTH 150 / Q_MAX  69.8248\n",
      "EPISODE 76 TIMESTEP 12450 / ACTION [0.2857142857142856, 0.3] / REWARD 0.7589836 / EPISODE LENGTH 180 / Q_MAX  24.21435\n",
      "EPISODE 76 TIMESTEP 12480 / ACTION [-0.7142857142857143, 0.3] / REWARD 0.6556402 / EPISODE LENGTH 210 / Q_MAX  67.17865\n",
      "EPISODE 76 TIMESTEP 12510 / ACTION [0.7142857142857142, 0.3] / REWARD 0.3091794 / EPISODE LENGTH 240 / Q_MAX  35.27366\n",
      "EPISODE 76 TIMESTEP 12540 / ACTION [0.2857142857142856, 0.3] / REWARD 0.4819006 / EPISODE LENGTH 270 / Q_MAX  73.86497\n",
      "episode: 76   memory length: 10000   epsilon: 0.01999999999983204  episode length: 290\n",
      "Episode:  77\n",
      "connect  ebabbad468e248a19d59dbf2ccb0c94c\n",
      "ProtocolVersion  ebabbad468e248a19d59dbf2ccb0c94c\n",
      "Loading generated_road\n"
     ]
    },
    {
     "name": "stderr",
     "output_type": "stream",
     "text": [
      "(1924) accepted ('127.0.0.1', 2222)\n",
      "(1924) accepted ('127.0.0.1', 2223)\n"
     ]
    },
    {
     "name": "stdout",
     "output_type": "stream",
     "text": [
      "connect  8830c2bf44b7472381d7d37254049265\n",
      "EPISODE 77 TIMESTEP 12570 / ACTION [-0.8571428571428572, 0.3] / REWARD 0.983781414 / EPISODE LENGTH 10 / Q_MAX  71.845055\n"
     ]
    },
    {
     "name": "stderr",
     "output_type": "stream",
     "text": [
      "127.0.0.1 - - [13/Jun/2019 10:22:29] \"GET /socket.io/?EIO=4&transport=websocket HTTP/1.1\" 200 0 972.853867\n",
      "127.0.0.1 - - [13/Jun/2019 10:22:32] \"GET /socket.io/?EIO=4&transport=websocket HTTP/1.1\" 200 0 60.515695\n"
     ]
    },
    {
     "name": "stdout",
     "output_type": "stream",
     "text": [
      "EPISODE 77 TIMESTEP 12600 / ACTION [0.857142857142857, 0.3] / REWARD 0.8035471000000001 / EPISODE LENGTH 40 / Q_MAX  75.72346\n",
      "EPISODE 77 TIMESTEP 12630 / ACTION [-0.5714285714285714, 0.3] / REWARD 0.7638866 / EPISODE LENGTH 70 / Q_MAX  67.01453\n",
      "EPISODE 77 TIMESTEP 12660 / ACTION [-0.7142857142857143, 0.3] / REWARD 0.7957676 / EPISODE LENGTH 100 / Q_MAX  71.53738\n",
      "EPISODE 77 TIMESTEP 12690 / ACTION [-0.1428571428571429, 0.3] / REWARD 0.80101778 / EPISODE LENGTH 130 / Q_MAX  72.38237\n",
      "EPISODE 77 TIMESTEP 12720 / ACTION [0.4285714285714284, 0.3] / REWARD 0.7499591999999999 / EPISODE LENGTH 160 / Q_MAX  63.143013\n",
      "EPISODE 77 TIMESTEP 12750 / ACTION [-0.5714285714285714, 0.3] / REWARD 0.7657858 / EPISODE LENGTH 190 / Q_MAX  76.29198\n",
      "EPISODE 77 TIMESTEP 12780 / ACTION [0.7142857142857142, 0.3] / REWARD 0.8208818600000001 / EPISODE LENGTH 220 / Q_MAX  66.471535\n",
      "EPISODE 77 TIMESTEP 12810 / ACTION [-0.1428571428571429, 0.3] / REWARD 0.7415994 / EPISODE LENGTH 250 / Q_MAX  45.395042\n",
      "EPISODE 77 TIMESTEP 12840 / ACTION [-0.4285714285714286, 0.3] / REWARD 0.7759656 / EPISODE LENGTH 280 / Q_MAX  75.51056\n",
      "EPISODE 77 TIMESTEP 12870 / ACTION [1.0, 0.3] / REWARD 0.93985494 / EPISODE LENGTH 310 / Q_MAX  63.758854\n",
      "EPISODE 77 TIMESTEP 12900 / ACTION [0.7142857142857142, 0.3] / REWARD 0.7251272 / EPISODE LENGTH 340 / Q_MAX  76.679405\n",
      "EPISODE 77 TIMESTEP 12930 / ACTION [-0.7142857142857143, 0.3] / REWARD -1.0 / EPISODE LENGTH 370 / Q_MAX  74.67882\n",
      "episode: 77   memory length: 10000   epsilon: 0.01999999999983204  episode length: 370\n",
      "Episode:  78\n",
      "connect  7ab00ebce1c34b649005ba5faeb33236\n"
     ]
    },
    {
     "name": "stderr",
     "output_type": "stream",
     "text": [
      "(1924) accepted ('127.0.0.1', 2354)\n"
     ]
    },
    {
     "name": "stdout",
     "output_type": "stream",
     "text": [
      "ProtocolVersion  7ab00ebce1c34b649005ba5faeb33236\n",
      "Loading generated_road\n"
     ]
    },
    {
     "name": "stderr",
     "output_type": "stream",
     "text": [
      "(1924) accepted ('127.0.0.1', 2355)\n"
     ]
    },
    {
     "name": "stdout",
     "output_type": "stream",
     "text": [
      "connect  2e21d5b8f8f8416288fb53c555fa29c4\n"
     ]
    },
    {
     "name": "stderr",
     "output_type": "stream",
     "text": [
      "127.0.0.1 - - [13/Jun/2019 10:41:32] \"GET /socket.io/?EIO=4&transport=websocket HTTP/1.1\" 200 0 1200.700387\n",
      "127.0.0.1 - - [13/Jun/2019 10:41:35] \"GET /socket.io/?EIO=4&transport=websocket HTTP/1.1\" 200 0 60.452106\n"
     ]
    },
    {
     "name": "stdout",
     "output_type": "stream",
     "text": [
      "EPISODE 78 TIMESTEP 12960 / ACTION [0.7142857142857142, 0.3] / REWARD 0.94218016 / EPISODE LENGTH 30 / Q_MAX  71.73791\n",
      "EPISODE 78 TIMESTEP 12990 / ACTION [0.1428571428571428, 0.3] / REWARD 0.85879354 / EPISODE LENGTH 60 / Q_MAX  69.71271\n",
      "EPISODE 78 TIMESTEP 13020 / ACTION [-0.5714285714285714, 0.3] / REWARD 0.8837372 / EPISODE LENGTH 90 / Q_MAX  67.11451\n",
      "EPISODE 78 TIMESTEP 13050 / ACTION [-1.0, 0.3] / REWARD 0.88657218 / EPISODE LENGTH 120 / Q_MAX  23.956018\n",
      "EPISODE 78 TIMESTEP 13080 / ACTION [0.4285714285714284, 0.3] / REWARD 0.5243736 / EPISODE LENGTH 150 / Q_MAX  70.69034\n",
      "EPISODE 78 TIMESTEP 13110 / ACTION [-0.4285714285714286, 0.3] / REWARD 0.5314928 / EPISODE LENGTH 180 / Q_MAX  55.64823\n",
      "EPISODE 78 TIMESTEP 13140 / ACTION [-0.4285714285714286, 0.3] / REWARD 0.6423998 / EPISODE LENGTH 210 / Q_MAX  71.92204\n",
      "EPISODE 78 TIMESTEP 13170 / ACTION [-0.8571428571428572, 0.3] / REWARD 0.80539132 / EPISODE LENGTH 240 / Q_MAX  68.81676\n",
      "EPISODE 78 TIMESTEP 13200 / ACTION [-1.0, 0.3] / REWARD 0.97703024 / EPISODE LENGTH 270 / Q_MAX  71.08504\n",
      "EPISODE 78 TIMESTEP 13230 / ACTION [-0.7142857142857143, 0.3] / REWARD 0.7467852 / EPISODE LENGTH 300 / Q_MAX  70.28432\n",
      "EPISODE 78 TIMESTEP 13260 / ACTION [0.5714285714285714, 0.3] / REWARD 0.7891964 / EPISODE LENGTH 330 / Q_MAX  74.457344\n",
      "EPISODE 78 TIMESTEP 13290 / ACTION [0.2857142857142856, 0.3] / REWARD 0.7683064 / EPISODE LENGTH 360 / Q_MAX  35.560246\n",
      "EPISODE 78 TIMESTEP 13320 / ACTION [0.5714285714285714, 0.3] / REWARD 0.7773904 / EPISODE LENGTH 390 / Q_MAX  68.112564\n",
      "EPISODE 78 TIMESTEP 13350 / ACTION [-1.0, 0.3] / REWARD 0.7371804 / EPISODE LENGTH 420 / Q_MAX  72.20987\n",
      "EPISODE 78 TIMESTEP 13380 / ACTION [1.0, 0.3] / REWARD 0.6776336000000001 / EPISODE LENGTH 450 / Q_MAX  70.85865\n",
      "EPISODE 78 TIMESTEP 13410 / ACTION [0.1428571428571428, 0.3] / REWARD 0.7796816 / EPISODE LENGTH 480 / Q_MAX  70.83581\n",
      "EPISODE 78 TIMESTEP 13440 / ACTION [-0.7142857142857143, 0.3] / REWARD 0.86240874 / EPISODE LENGTH 510 / Q_MAX  67.046684\n",
      "EPISODE 78 TIMESTEP 13470 / ACTION [0.0, 0.3] / REWARD 0.8220092800000001 / EPISODE LENGTH 540 / Q_MAX  76.60845\n",
      "EPISODE 78 TIMESTEP 13500 / ACTION [-0.8571428571428572, 0.3] / REWARD 0.6871322 / EPISODE LENGTH 570 / Q_MAX  65.536705\n",
      "EPISODE 78 TIMESTEP 13530 / ACTION [0.7142857142857142, 0.3] / REWARD 0.30023679999999997 / EPISODE LENGTH 600 / Q_MAX  33.930946\n",
      "EPISODE 78 TIMESTEP 13560 / ACTION [0.2857142857142856, 0.3] / REWARD 0.93962208 / EPISODE LENGTH 630 / Q_MAX  67.797226\n",
      "EPISODE 78 TIMESTEP 13590 / ACTION [-0.8571428571428572, 0.3] / REWARD 0.8303708599999999 / EPISODE LENGTH 660 / Q_MAX  52.588573\n",
      "EPISODE 78 TIMESTEP 13620 / ACTION [-0.8571428571428572, 0.3] / REWARD 0.7895378 / EPISODE LENGTH 690 / Q_MAX  72.71811\n",
      "EPISODE 78 TIMESTEP 13650 / ACTION [-0.8571428571428572, 0.3] / REWARD 0.82461664 / EPISODE LENGTH 720 / Q_MAX  68.04964\n",
      "EPISODE 78 TIMESTEP 13680 / ACTION [0.4285714285714284, 0.3] / REWARD 0.7465626 / EPISODE LENGTH 750 / Q_MAX  69.78864\n",
      "EPISODE 78 TIMESTEP 13710 / ACTION [0.4285714285714284, 0.3] / REWARD 0.87598888 / EPISODE LENGTH 780 / Q_MAX  38.714687\n",
      "EPISODE 78 TIMESTEP 13740 / ACTION [-0.5953789814026926, 0.3] / REWARD 0.28139479999999994 / EPISODE LENGTH 810 / Q_MAX  74.28972\n",
      "EPISODE 78 TIMESTEP 13770 / ACTION [0.4285714285714284, 0.3] / REWARD 0.71152 / EPISODE LENGTH 840 / Q_MAX  74.93449\n",
      "EPISODE 78 TIMESTEP 13800 / ACTION [0.7142857142857142, 0.3] / REWARD 0.350278 / EPISODE LENGTH 870 / Q_MAX  57.70007\n",
      "EPISODE 78 TIMESTEP 13830 / ACTION [-0.5714285714285714, 0.3] / REWARD 0.90533638 / EPISODE LENGTH 900 / Q_MAX  69.77438\n",
      "episode: 78   memory length: 10000   epsilon: 0.01999999999983204  episode length: 909\n",
      "Episode:  79\n",
      "connect  e804eb3a2888413a951588f2197697ac\n",
      "ProtocolVersion  e804eb3a2888413a951588f2197697ac\n",
      "Loading generated_road\n"
     ]
    },
    {
     "name": "stderr",
     "output_type": "stream",
     "text": [
      "(1924) accepted ('127.0.0.1', 2619)\n",
      "(1924) accepted ('127.0.0.1', 2620)\n"
     ]
    },
    {
     "name": "stdout",
     "output_type": "stream",
     "text": [
      "connect  2ef20e887fb5468ea7e33e7fc9cb8fb7\n"
     ]
    },
    {
     "name": "stderr",
     "output_type": "stream",
     "text": [
      "127.0.0.1 - - [13/Jun/2019 11:28:46] \"GET /socket.io/?EIO=4&transport=websocket HTTP/1.1\" 200 0 2890.938290\n",
      "127.0.0.1 - - [13/Jun/2019 11:28:49] \"GET /socket.io/?EIO=4&transport=websocket HTTP/1.1\" 200 0 60.478760\n"
     ]
    },
    {
     "name": "stdout",
     "output_type": "stream",
     "text": [
      "EPISODE 79 TIMESTEP 13860 / ACTION [-1.0, 0.3] / REWARD 0.9166621 / EPISODE LENGTH 21 / Q_MAX  72.325\n",
      "EPISODE 79 TIMESTEP 13890 / ACTION [-0.4285714285714286, 0.3] / REWARD 0.83110432 / EPISODE LENGTH 51 / Q_MAX  69.449196\n",
      "EPISODE 79 TIMESTEP 13920 / ACTION [0.0, 0.3] / REWARD 0.80486514 / EPISODE LENGTH 81 / Q_MAX  74.51407\n",
      "EPISODE 79 TIMESTEP 13950 / ACTION [1.0, 0.3] / REWARD 0.7168514 / EPISODE LENGTH 111 / Q_MAX  69.0048\n",
      "EPISODE 79 TIMESTEP 13980 / ACTION [0.2857142857142856, 0.3] / REWARD 0.7619742 / EPISODE LENGTH 141 / Q_MAX  33.11654\n",
      "EPISODE 79 TIMESTEP 14010 / ACTION [-0.1428571428571429, 0.3] / REWARD 0.84409608 / EPISODE LENGTH 171 / Q_MAX  74.045105\n",
      "EPISODE 79 TIMESTEP 14040 / ACTION [0.857142857142857, 0.3] / REWARD 0.44765540000000004 / EPISODE LENGTH 201 / Q_MAX  73.58474\n",
      "EPISODE 79 TIMESTEP 14070 / ACTION [0.857142857142857, 0.3] / REWARD 0.5058996 / EPISODE LENGTH 231 / Q_MAX  76.45142\n",
      "EPISODE 79 TIMESTEP 14100 / ACTION [0.2857142857142856, 0.3] / REWARD 0.95339282 / EPISODE LENGTH 261 / Q_MAX  81.157394\n",
      "EPISODE 79 TIMESTEP 14130 / ACTION [0.857142857142857, 0.3] / REWARD 0.8256786 / EPISODE LENGTH 291 / Q_MAX  72.88436\n",
      "EPISODE 79 TIMESTEP 14160 / ACTION [0.857142857142857, 0.3] / REWARD 0.80255318 / EPISODE LENGTH 321 / Q_MAX  46.78857\n",
      "EPISODE 79 TIMESTEP 14190 / ACTION [0.857142857142857, 0.3] / REWARD 0.80295432 / EPISODE LENGTH 351 / Q_MAX  77.90297\n",
      "EPISODE 79 TIMESTEP 14220 / ACTION [0.2857142857142856, 0.3] / REWARD 0.7722274 / EPISODE LENGTH 381 / Q_MAX  72.22628\n",
      "EPISODE 79 TIMESTEP 14250 / ACTION [1.0, 0.3] / REWARD 0.6729984 / EPISODE LENGTH 411 / Q_MAX  76.4741\n",
      "EPISODE 79 TIMESTEP 14280 / ACTION [1.0, 0.3] / REWARD 0.82235446 / EPISODE LENGTH 441 / Q_MAX  72.78041\n",
      "EPISODE 79 TIMESTEP 14310 / ACTION [0.5714285714285714, 0.3] / REWARD 0.8481299 / EPISODE LENGTH 471 / Q_MAX  77.871796\n",
      "EPISODE 79 TIMESTEP 14340 / ACTION [-1.0, 0.3] / REWARD 0.80728522 / EPISODE LENGTH 501 / Q_MAX  72.8809\n",
      "EPISODE 79 TIMESTEP 14370 / ACTION [1.0, 0.3] / REWARD 0.7340738 / EPISODE LENGTH 531 / Q_MAX  69.51378\n",
      "EPISODE 79 TIMESTEP 14400 / ACTION [-1.0, 0.3] / REWARD 0.6360484 / EPISODE LENGTH 561 / Q_MAX  57.031532\n",
      "EPISODE 79 TIMESTEP 14430 / ACTION [-1.0, 0.3] / REWARD 0.6273696 / EPISODE LENGTH 591 / Q_MAX  71.67434\n",
      "EPISODE 79 TIMESTEP 14460 / ACTION [0.1428571428571428, 0.3] / REWARD 0.7487892 / EPISODE LENGTH 621 / Q_MAX  22.741924\n",
      "EPISODE 79 TIMESTEP 14490 / ACTION [0.7142857142857142, 0.3] / REWARD 0.763508 / EPISODE LENGTH 651 / Q_MAX  52.417515\n",
      "EPISODE 79 TIMESTEP 14520 / ACTION [0.0, 0.3] / REWARD 0.6798912 / EPISODE LENGTH 681 / Q_MAX  73.14105\n",
      "EPISODE 79 TIMESTEP 14550 / ACTION [-0.7142857142857143, 0.3] / REWARD 0.7203914 / EPISODE LENGTH 711 / Q_MAX  70.927765\n",
      "EPISODE 79 TIMESTEP 14580 / ACTION [-0.7142857142857143, 0.3] / REWARD 0.7589322000000001 / EPISODE LENGTH 741 / Q_MAX  73.267586\n",
      "EPISODE 79 TIMESTEP 14610 / ACTION [-0.7142857142857143, 0.3] / REWARD 0.758794 / EPISODE LENGTH 771 / Q_MAX  60.50043\n",
      "EPISODE 79 TIMESTEP 14640 / ACTION [0.4285714285714284, 0.3] / REWARD 0.7624718 / EPISODE LENGTH 801 / Q_MAX  76.12637\n",
      "EPISODE 79 TIMESTEP 14670 / ACTION [0.857142857142857, 0.3] / REWARD 0.7673924 / EPISODE LENGTH 831 / Q_MAX  42.724358\n",
      "EPISODE 79 TIMESTEP 14700 / ACTION [0.4285714285714284, 0.3] / REWARD 0.81669888 / EPISODE LENGTH 861 / Q_MAX  70.521255\n",
      "EPISODE 79 TIMESTEP 14730 / ACTION [-1.0, 0.3] / REWARD 0.7946758 / EPISODE LENGTH 891 / Q_MAX  58.695198\n",
      "EPISODE 79 TIMESTEP 14760 / ACTION [1.0, 0.3] / REWARD 0.5181638000000001 / EPISODE LENGTH 921 / Q_MAX  59.874725\n",
      "episode: 79   memory length: 10000   epsilon: 0.01999999999983204  episode length: 935\n",
      "Episode:  80\n",
      "connect  dd35ee9cbe1148149ba62e86a83bfa36\n",
      "ProtocolVersion  dd35ee9cbe1148149ba62e86a83bfa36\n",
      "Loading generated_road\n"
     ]
    },
    {
     "name": "stderr",
     "output_type": "stream",
     "text": [
      "(1924) accepted ('127.0.0.1', 2795)\n",
      "(1924) accepted ('127.0.0.1', 2796)\n"
     ]
    },
    {
     "name": "stdout",
     "output_type": "stream",
     "text": [
      "connect  121579653b5f467bb25486e2fa866308\n",
      "EPISODE 80 TIMESTEP 14790 / ACTION [-0.4285714285714286, 0.3] / REWARD 0.93176438 / EPISODE LENGTH 16 / Q_MAX  74.929016\n"
     ]
    },
    {
     "name": "stderr",
     "output_type": "stream",
     "text": [
      "127.0.0.1 - - [13/Jun/2019 12:16:45] \"GET /socket.io/?EIO=4&transport=websocket HTTP/1.1\" 200 0 2936.347178\n",
      "127.0.0.1 - - [13/Jun/2019 12:16:49] \"GET /socket.io/?EIO=4&transport=websocket HTTP/1.1\" 200 0 60.821547\n"
     ]
    },
    {
     "name": "stdout",
     "output_type": "stream",
     "text": [
      "EPISODE 80 TIMESTEP 14820 / ACTION [0.2857142857142856, 0.3] / REWARD 0.82144504 / EPISODE LENGTH 46 / Q_MAX  39.82832\n",
      "EPISODE 80 TIMESTEP 14850 / ACTION [0.2857142857142856, 0.3] / REWARD 0.6642312 / EPISODE LENGTH 76 / Q_MAX  59.018444\n",
      "EPISODE 80 TIMESTEP 14880 / ACTION [1.0, 0.3] / REWARD 0.6130238 / EPISODE LENGTH 106 / Q_MAX  74.39573\n",
      "EPISODE 80 TIMESTEP 14910 / ACTION [0.5714285714285714, 0.3] / REWARD 0.6196662 / EPISODE LENGTH 136 / Q_MAX  79.64373\n",
      "EPISODE 80 TIMESTEP 14940 / ACTION [-0.7142857142857143, 0.3] / REWARD 0.629306 / EPISODE LENGTH 166 / Q_MAX  72.40334\n",
      "EPISODE 80 TIMESTEP 14970 / ACTION [1.0, 0.3] / REWARD 0.6333556 / EPISODE LENGTH 196 / Q_MAX  55.95752\n",
      "EPISODE 80 TIMESTEP 15000 / ACTION [0.857142857142857, 0.3] / REWARD 0.7788454 / EPISODE LENGTH 226 / Q_MAX  75.28067\n",
      "EPISODE 80 TIMESTEP 15030 / ACTION [0.2857142857142856, 0.3] / REWARD 0.4650006 / EPISODE LENGTH 256 / Q_MAX  71.40651\n",
      "EPISODE 80 TIMESTEP 15060 / ACTION [0.1428571428571428, 0.3] / REWARD 0.7584036000000001 / EPISODE LENGTH 286 / Q_MAX  70.62369\n",
      "EPISODE 80 TIMESTEP 15090 / ACTION [-0.7142857142857143, 0.3] / REWARD 0.8533006599999999 / EPISODE LENGTH 316 / Q_MAX  66.851166\n",
      "EPISODE 80 TIMESTEP 15120 / ACTION [0.2857142857142856, 0.3] / REWARD 0.28836280000000003 / EPISODE LENGTH 346 / Q_MAX  75.76393\n",
      "EPISODE 80 TIMESTEP 15150 / ACTION [0.7142857142857142, 0.3] / REWARD 0.29257900000000003 / EPISODE LENGTH 376 / Q_MAX  73.075676\n",
      "EPISODE 80 TIMESTEP 15180 / ACTION [0.857142857142857, 0.3] / REWARD 0.90816188 / EPISODE LENGTH 406 / Q_MAX  75.176544\n",
      "EPISODE 80 TIMESTEP 15210 / ACTION [-0.8571428571428572, 0.3] / REWARD 0.6935126 / EPISODE LENGTH 436 / Q_MAX  76.31419\n",
      "EPISODE 80 TIMESTEP 15240 / ACTION [0.5714285714285714, 0.3] / REWARD 0.82850296 / EPISODE LENGTH 466 / Q_MAX  76.57006\n",
      "EPISODE 80 TIMESTEP 15270 / ACTION [1.0, 0.3] / REWARD 0.695993 / EPISODE LENGTH 496 / Q_MAX  79.68402\n",
      "EPISODE 80 TIMESTEP 15300 / ACTION [-0.8571428571428572, 0.3] / REWARD 0.699617 / EPISODE LENGTH 526 / Q_MAX  77.38354\n",
      "EPISODE 80 TIMESTEP 15330 / ACTION [-0.8571428571428572, 0.3] / REWARD 0.669472 / EPISODE LENGTH 556 / Q_MAX  55.32685\n",
      "EPISODE 80 TIMESTEP 15360 / ACTION [1.0, 0.3] / REWARD 0.80319564 / EPISODE LENGTH 586 / Q_MAX  76.729034\n",
      "EPISODE 80 TIMESTEP 15390 / ACTION [-0.4285714285714286, 0.3] / REWARD 0.7692548 / EPISODE LENGTH 616 / Q_MAX  40.40907\n",
      "EPISODE 80 TIMESTEP 15420 / ACTION [-0.8571428571428572, 0.3] / REWARD 0.76542 / EPISODE LENGTH 646 / Q_MAX  75.9314\n",
      "EPISODE 80 TIMESTEP 15450 / ACTION [0.0, 0.3] / REWARD 0.5715576 / EPISODE LENGTH 676 / Q_MAX  74.09555\n",
      "episode: 80   memory length: 10000   epsilon: 0.01999999999983204  episode length: 699\n",
      "Episode:  81\n",
      "connect  1803e1058ccb412e84d39577629d9ee7\n",
      "ProtocolVersion "
     ]
    },
    {
     "name": "stderr",
     "output_type": "stream",
     "text": [
      "(1924) accepted ('127.0.0.1', 3123)\n"
     ]
    },
    {
     "name": "stdout",
     "output_type": "stream",
     "text": [
      " 1803e1058ccb412e84d39577629d9ee7\n",
      "Loading generated_road\n"
     ]
    },
    {
     "name": "stderr",
     "output_type": "stream",
     "text": [
      "(1924) accepted ('127.0.0.1', 3124)\n"
     ]
    },
    {
     "name": "stdout",
     "output_type": "stream",
     "text": [
      "connect  79270782d88848b29ad0f1ff8924236a\n",
      "EPISODE 81 TIMESTEP 15480 / ACTION [-0.5714285714285714, 0.3] / REWARD 0.992243966 / EPISODE LENGTH 7 / Q_MAX  69.420876\n"
     ]
    },
    {
     "name": "stderr",
     "output_type": "stream",
     "text": [
      "127.0.0.1 - - [13/Jun/2019 12:55:16] \"GET /socket.io/?EIO=4&transport=websocket HTTP/1.1\" 200 0 2367.670390\n",
      "127.0.0.1 - - [13/Jun/2019 12:55:19] \"GET /socket.io/?EIO=4&transport=websocket HTTP/1.1\" 200 0 60.568160\n"
     ]
    },
    {
     "name": "stdout",
     "output_type": "stream",
     "text": [
      "EPISODE 81 TIMESTEP 15510 / ACTION [0.857142857142857, 0.3] / REWARD 0.80967654 / EPISODE LENGTH 37 / Q_MAX  72.180954\n",
      "EPISODE 81 TIMESTEP 15540 / ACTION [0.7142857142857142, 0.3] / REWARD 0.475313 / EPISODE LENGTH 67 / Q_MAX  56.51273\n",
      "EPISODE 81 TIMESTEP 15570 / ACTION [-0.8571428571428572, 0.3] / REWARD 0.4083468 / EPISODE LENGTH 97 / Q_MAX  71.45106\n",
      "EPISODE 81 TIMESTEP 15600 / ACTION [-0.7142857142857143, 0.3] / REWARD 0.5445062 / EPISODE LENGTH 127 / Q_MAX  75.074814\n",
      "EPISODE 81 TIMESTEP 15630 / ACTION [0.857142857142857, 0.3] / REWARD 0.5200562 / EPISODE LENGTH 157 / Q_MAX  60.167503\n",
      "EPISODE 81 TIMESTEP 15660 / ACTION [0.2857142857142856, 0.3] / REWARD 0.80144466 / EPISODE LENGTH 187 / Q_MAX  62.353493\n",
      "EPISODE 81 TIMESTEP 15690 / ACTION [0.5714285714285714, 0.3] / REWARD 0.6977 / EPISODE LENGTH 217 / Q_MAX  73.871735\n",
      "EPISODE 81 TIMESTEP 15720 / ACTION [1.0, 0.3] / REWARD 0.3899184 / EPISODE LENGTH 247 / Q_MAX  78.26618\n",
      "EPISODE 81 TIMESTEP 15750 / ACTION [-0.1428571428571429, 0.3] / REWARD 0.35962820000000006 / EPISODE LENGTH 277 / Q_MAX  57.786278\n",
      "EPISODE 81 TIMESTEP 15780 / ACTION [0.7142857142857142, 0.3] / REWARD 0.83079024 / EPISODE LENGTH 307 / Q_MAX  65.98233\n",
      "EPISODE 81 TIMESTEP 15810 / ACTION [0.0, 0.3] / REWARD 0.9469363 / EPISODE LENGTH 337 / Q_MAX  66.20573\n",
      "EPISODE 81 TIMESTEP 15840 / ACTION [1.0, 0.3] / REWARD 0.6827048 / EPISODE LENGTH 367 / Q_MAX  78.10144\n",
      "EPISODE 81 TIMESTEP 15870 / ACTION [-0.8571428571428572, 0.3] / REWARD 0.6124594 / EPISODE LENGTH 397 / Q_MAX  78.5029\n",
      "EPISODE 81 TIMESTEP 15900 / ACTION [0.857142857142857, 0.3] / REWARD 0.5650890000000001 / EPISODE LENGTH 427 / Q_MAX  72.92375\n",
      "EPISODE 81 TIMESTEP 15930 / ACTION [-0.7142857142857143, 0.3] / REWARD 0.981746826 / EPISODE LENGTH 457 / Q_MAX  44.93194\n",
      "EPISODE 81 TIMESTEP 15960 / ACTION [0.7142857142857142, 0.3] / REWARD 0.4031386 / EPISODE LENGTH 487 / Q_MAX  47.13695\n",
      "EPISODE 81 TIMESTEP 15990 / ACTION [0.857142857142857, 0.3] / REWARD 0.86798902 / EPISODE LENGTH 517 / Q_MAX  58.554096\n",
      "EPISODE 81 TIMESTEP 16020 / ACTION [-1.0, 0.3] / REWARD 0.7247664 / EPISODE LENGTH 547 / Q_MAX  73.91693\n",
      "EPISODE 81 TIMESTEP 16050 / ACTION [0.2857142857142856, 0.3] / REWARD 0.48427259999999994 / EPISODE LENGTH 577 / Q_MAX  72.88903\n",
      "EPISODE 81 TIMESTEP 16080 / ACTION [-0.7142857142857143, 0.3] / REWARD 0.3696528 / EPISODE LENGTH 607 / Q_MAX  62.9151\n",
      "EPISODE 81 TIMESTEP 16110 / ACTION [0.7142857142857142, 0.3] / REWARD 0.3437224 / EPISODE LENGTH 637 / Q_MAX  15.486464\n",
      "EPISODE 81 TIMESTEP 16140 / ACTION [-0.7142857142857143, 0.3] / REWARD 0.85078606 / EPISODE LENGTH 667 / Q_MAX  77.84661\n",
      "EPISODE 81 TIMESTEP 16170 / ACTION [-0.2857142857142858, 0.3] / REWARD 0.6931246 / EPISODE LENGTH 697 / Q_MAX  78.62842\n",
      "EPISODE 81 TIMESTEP 16200 / ACTION [-0.7142857142857143, 0.3] / REWARD 0.5582302 / EPISODE LENGTH 727 / Q_MAX  60.715786\n",
      "EPISODE 81 TIMESTEP 16230 / ACTION [-0.5714285714285714, 0.3] / REWARD 0.7081284 / EPISODE LENGTH 757 / Q_MAX  73.159195\n",
      "EPISODE 81 TIMESTEP 16260 / ACTION [-0.7142857142857143, 0.3] / REWARD 0.88505656 / EPISODE LENGTH 787 / Q_MAX  73.90159\n",
      "EPISODE 81 TIMESTEP 16290 / ACTION [0.2857142857142856, 0.3] / REWARD 0.4759548 / EPISODE LENGTH 817 / Q_MAX  76.51468\n",
      "EPISODE 81 TIMESTEP 16320 / ACTION [0.4285714285714284, 0.3] / REWARD 0.80952744 / EPISODE LENGTH 847 / Q_MAX  74.646965\n",
      "EPISODE 81 TIMESTEP 16350 / ACTION [-1.0, 0.3] / REWARD 0.7971154 / EPISODE LENGTH 877 / Q_MAX  74.14741\n",
      "EPISODE 81 TIMESTEP 16380 / ACTION [0.2857142857142856, 0.3] / REWARD 0.5560716 / EPISODE LENGTH 907 / Q_MAX  62.755222\n",
      "EPISODE 81 TIMESTEP 16410 / ACTION [0.857142857142857, 0.3] / REWARD 0.7179478 / EPISODE LENGTH 937 / Q_MAX  79.23579\n",
      "EPISODE 81 TIMESTEP 16440 / ACTION [-0.7142857142857143, 0.3] / REWARD 0.987219148 / EPISODE LENGTH 967 / Q_MAX  73.47202\n",
      "EPISODE 81 TIMESTEP 16470 / ACTION [0.2857142857142856, 0.3] / REWARD 0.4931848 / EPISODE LENGTH 997 / Q_MAX  77.977196\n",
      "EPISODE 81 TIMESTEP 16500 / ACTION [0.5714285714285714, 0.3] / REWARD 0.30510000000000004 / EPISODE LENGTH 1027 / Q_MAX  67.63971\n",
      "EPISODE 81 TIMESTEP 16530 / ACTION [0.857142857142857, 0.3] / REWARD 0.553149 / EPISODE LENGTH 1057 / Q_MAX  69.74028\n",
      "EPISODE 81 TIMESTEP 16560 / ACTION [-0.4285714285714286, 0.3] / REWARD 0.8405448 / EPISODE LENGTH 1087 / Q_MAX  35.41606\n",
      "EPISODE 81 TIMESTEP 16590 / ACTION [-0.8571428571428572, 0.3] / REWARD 0.4828802 / EPISODE LENGTH 1117 / Q_MAX  59.994183\n",
      "EPISODE 81 TIMESTEP 16620 / ACTION [0.38729799884992344, 0.3] / REWARD 0.8194832 / EPISODE LENGTH 1147 / Q_MAX  76.691734\n",
      "EPISODE 81 TIMESTEP 16650 / ACTION [-0.7142857142857143, 0.3] / REWARD 0.7370668 / EPISODE LENGTH 1177 / Q_MAX  75.73716\n",
      "EPISODE 81 TIMESTEP 16680 / ACTION [-0.7142857142857143, 0.3] / REWARD 0.4303268 / EPISODE LENGTH 1207 / Q_MAX  78.0445\n",
      "EPISODE 81 TIMESTEP 16710 / ACTION [-0.8571428571428572, 0.3] / REWARD 0.82700946 / EPISODE LENGTH 1237 / Q_MAX  59.648205\n",
      "EPISODE 81 TIMESTEP 16740 / ACTION [0.5714285714285714, 0.3] / REWARD 0.505312 / EPISODE LENGTH 1267 / Q_MAX  76.8476\n",
      "EPISODE 81 TIMESTEP 16770 / ACTION [0.7142857142857142, 0.3] / REWARD 0.5407802 / EPISODE LENGTH 1297 / Q_MAX  74.796936\n",
      "EPISODE 81 TIMESTEP 16800 / ACTION [0.7142857142857142, 0.3] / REWARD 0.624157 / EPISODE LENGTH 1327 / Q_MAX  62.642418\n",
      "EPISODE 81 TIMESTEP 16830 / ACTION [0.2857142857142856, 0.3] / REWARD 0.83493178 / EPISODE LENGTH 1357 / Q_MAX  52.917545\n",
      "EPISODE 81 TIMESTEP 16860 / ACTION [-0.8571428571428572, 0.3] / REWARD 0.34784740000000003 / EPISODE LENGTH 1387 / Q_MAX  72.29491\n",
      "EPISODE 81 TIMESTEP 16890 / ACTION [-0.7142857142857143, 0.3] / REWARD 0.611142 / EPISODE LENGTH 1417 / Q_MAX  76.00513\n",
      "EPISODE 81 TIMESTEP 16920 / ACTION [-0.8571428571428572, 0.3] / REWARD 0.93508428 / EPISODE LENGTH 1447 / Q_MAX  57.02085\n",
      "EPISODE 81 TIMESTEP 16950 / ACTION [1.0, 0.3] / REWARD 0.583089 / EPISODE LENGTH 1477 / Q_MAX  60.17652\n",
      "EPISODE 81 TIMESTEP 16980 / ACTION [-1.0, 0.3] / REWARD 0.7027478 / EPISODE LENGTH 1507 / Q_MAX  73.9684\n",
      "EPISODE 81 TIMESTEP 17010 / ACTION [0.2857142857142856, 0.3] / REWARD 0.3612664 / EPISODE LENGTH 1537 / Q_MAX  55.441135\n",
      "EPISODE 81 TIMESTEP 17040 / ACTION [-0.4285714285714286, 0.3] / REWARD 0.6530456 / EPISODE LENGTH 1567 / Q_MAX  69.35504\n",
      "EPISODE 81 TIMESTEP 17070 / ACTION [-0.5714285714285714, 0.3] / REWARD 0.47008760000000005 / EPISODE LENGTH 1597 / Q_MAX  76.75223\n",
      "EPISODE 81 TIMESTEP 17100 / ACTION [-0.4285714285714286, 0.3] / REWARD 0.5635166 / EPISODE LENGTH 1627 / Q_MAX  53.695843\n",
      "EPISODE 81 TIMESTEP 17130 / ACTION [0.5714285714285714, 0.3] / REWARD 0.6586259999999999 / EPISODE LENGTH 1657 / Q_MAX  77.592834\n",
      "EPISODE 81 TIMESTEP 17160 / ACTION [-0.4421317814565917, 0.3] / REWARD 0.6944712 / EPISODE LENGTH 1687 / Q_MAX  73.3026\n",
      "EPISODE 81 TIMESTEP 17190 / ACTION [-1.0, 0.3] / REWARD 0.8128686 / EPISODE LENGTH 1717 / Q_MAX  58.44427\n",
      "EPISODE 81 TIMESTEP 17220 / ACTION [0.5714285714285714, 0.3] / REWARD 0.6998856 / EPISODE LENGTH 1747 / Q_MAX  73.99252\n",
      "EPISODE 81 TIMESTEP 17250 / ACTION [0.2857142857142856, 0.3] / REWARD 0.82396484 / EPISODE LENGTH 1777 / Q_MAX  74.11747\n",
      "EPISODE 81 TIMESTEP 17280 / ACTION [0.5714285714285714, 0.3] / REWARD 0.8203531399999999 / EPISODE LENGTH 1807 / Q_MAX  74.17173\n",
      "episode: 81   memory length: 10000   epsilon: 0.01999999999983204  episode length: 1832\n",
      "Episode:  82\n",
      "connect  a63cc8f264f24411ae05e31bf6273c5c\n",
      "ProtocolVersion  a63cc8f264f24411ae05e31bf6273c5c\n",
      "Loading generated_road\n"
     ]
    },
    {
     "name": "stderr",
     "output_type": "stream",
     "text": [
      "(1924) accepted ('127.0.0.1', 3499)\n",
      "(1924) accepted ('127.0.0.1', 3500)\n"
     ]
    },
    {
     "name": "stdout",
     "output_type": "stream",
     "text": [
      "connect  13771f1f26be41b5b301d82797f04b44\n",
      "EPISODE 82 TIMESTEP 17310 / ACTION [-1.0, 0.3] / REWARD 0.996790862 / EPISODE LENGTH 5 / Q_MAX  58.180233\n"
     ]
    },
    {
     "name": "stderr",
     "output_type": "stream",
     "text": [
      "127.0.0.1 - - [13/Jun/2019 14:27:10] \"GET /socket.io/?EIO=4&transport=websocket HTTP/1.1\" 200 0 5570.354071\n",
      "127.0.0.1 - - [13/Jun/2019 14:27:13] \"GET /socket.io/?EIO=4&transport=websocket HTTP/1.1\" 200 0 60.565757\n"
     ]
    },
    {
     "name": "stdout",
     "output_type": "stream",
     "text": [
      "EPISODE 82 TIMESTEP 17340 / ACTION [-0.5714285714285714, 0.3] / REWARD 0.6945734 / EPISODE LENGTH 35 / Q_MAX  73.47018\n",
      "EPISODE 82 TIMESTEP 17370 / ACTION [0.1428571428571428, 0.3] / REWARD 0.5209744 / EPISODE LENGTH 65 / Q_MAX  75.40717\n",
      "EPISODE 82 TIMESTEP 17400 / ACTION [0.4285714285714284, 0.3] / REWARD 0.3959889999999999 / EPISODE LENGTH 95 / Q_MAX  76.06924\n",
      "EPISODE 82 TIMESTEP 17430 / ACTION [-0.5714285714285714, 0.3] / REWARD 0.42266820000000005 / EPISODE LENGTH 125 / Q_MAX  59.994026\n",
      "EPISODE 82 TIMESTEP 17460 / ACTION [0.4285714285714284, 0.3] / REWARD 0.89308328 / EPISODE LENGTH 155 / Q_MAX  76.34038\n",
      "EPISODE 82 TIMESTEP 17490 / ACTION [0.857142857142857, 0.3] / REWARD 0.7906759999999999 / EPISODE LENGTH 185 / Q_MAX  52.45745\n",
      "EPISODE 82 TIMESTEP 17520 / ACTION [1.0, 0.3] / REWARD 0.649521 / EPISODE LENGTH 215 / Q_MAX  63.30669\n",
      "EPISODE 82 TIMESTEP 17550 / ACTION [0.0, 0.3] / REWARD 0.6766056 / EPISODE LENGTH 245 / Q_MAX  63.865036\n",
      "EPISODE 82 TIMESTEP 17580 / ACTION [-0.5714285714285714, 0.3] / REWARD 0.6760316 / EPISODE LENGTH 275 / Q_MAX  57.96148\n",
      "EPISODE 82 TIMESTEP 17610 / ACTION [0.2857142857142856, 0.3] / REWARD 0.5339197999999999 / EPISODE LENGTH 305 / Q_MAX  70.94714\n",
      "EPISODE 82 TIMESTEP 17640 / ACTION [-0.5714285714285714, 0.3] / REWARD 0.5577136 / EPISODE LENGTH 335 / Q_MAX  62.761013\n",
      "EPISODE 82 TIMESTEP 17670 / ACTION [-0.5714285714285714, 0.3] / REWARD 0.663458 / EPISODE LENGTH 365 / Q_MAX  76.26813\n",
      "EPISODE 82 TIMESTEP 17700 / ACTION [0.2857142857142856, 0.3] / REWARD 0.7072423999999999 / EPISODE LENGTH 395 / Q_MAX  54.04128\n",
      "EPISODE 82 TIMESTEP 17730 / ACTION [-0.4285714285714286, 0.3] / REWARD 0.538957 / EPISODE LENGTH 425 / Q_MAX  37.536137\n",
      "EPISODE 82 TIMESTEP 17760 / ACTION [0.7142857142857142, 0.3] / REWARD 0.5820972 / EPISODE LENGTH 455 / Q_MAX  61.869755\n",
      "EPISODE 82 TIMESTEP 17790 / ACTION [-1.0, 0.3] / REWARD 0.465114 / EPISODE LENGTH 485 / Q_MAX  72.284546\n",
      "EPISODE 82 TIMESTEP 17820 / ACTION [0.1428571428571428, 0.3] / REWARD 0.45285260000000005 / EPISODE LENGTH 515 / Q_MAX  62.118435\n",
      "EPISODE 82 TIMESTEP 17850 / ACTION [-1.0, 0.3] / REWARD 0.4781442 / EPISODE LENGTH 545 / Q_MAX  57.657394\n",
      "EPISODE 82 TIMESTEP 17880 / ACTION [0.7142857142857142, 0.3] / REWARD 0.5820216 / EPISODE LENGTH 575 / Q_MAX  58.84131\n",
      "EPISODE 82 TIMESTEP 17910 / ACTION [-0.1428571428571429, 0.3] / REWARD 0.46863580000000005 / EPISODE LENGTH 605 / Q_MAX  78.74477\n",
      "EPISODE 82 TIMESTEP 17940 / ACTION [-0.8571428571428572, 0.3] / REWARD 0.43574900000000005 / EPISODE LENGTH 635 / Q_MAX  78.107155\n",
      "EPISODE 82 TIMESTEP 17970 / ACTION [0.5714285714285714, 0.3] / REWARD 0.7927725999999999 / EPISODE LENGTH 665 / Q_MAX  71.16051\n",
      "EPISODE 82 TIMESTEP 18000 / ACTION [1.0, 0.3] / REWARD 0.44456340000000005 / EPISODE LENGTH 695 / Q_MAX  69.82979\n",
      "EPISODE 82 TIMESTEP 18030 / ACTION [0.7142857142857142, 0.3] / REWARD 0.524927 / EPISODE LENGTH 725 / Q_MAX  46.07757\n",
      "EPISODE 82 TIMESTEP 18060 / ACTION [-1.0, 0.3] / REWARD 0.4752984 / EPISODE LENGTH 755 / Q_MAX  50.09076\n",
      "EPISODE 82 TIMESTEP 18090 / ACTION [0.857142857142857, 0.3] / REWARD 0.4362756 / EPISODE LENGTH 785 / Q_MAX  67.00623\n",
      "EPISODE 82 TIMESTEP 18120 / ACTION [-1.0, 0.3] / REWARD 0.5001816 / EPISODE LENGTH 815 / Q_MAX  67.10912\n",
      "EPISODE 82 TIMESTEP 18150 / ACTION [-1.0, 0.3] / REWARD 0.46306459999999994 / EPISODE LENGTH 845 / Q_MAX  76.58291\n",
      "EPISODE 82 TIMESTEP 18180 / ACTION [-0.8571428571428572, 0.3] / REWARD 0.596212 / EPISODE LENGTH 875 / Q_MAX  72.211494\n",
      "EPISODE 82 TIMESTEP 18210 / ACTION [-0.1428571428571429, 0.3] / REWARD 0.82582618 / EPISODE LENGTH 905 / Q_MAX  29.405466\n",
      "EPISODE 82 TIMESTEP 18240 / ACTION [0.5714285714285714, 0.3] / REWARD 0.86507812 / EPISODE LENGTH 935 / Q_MAX  63.894753\n",
      "EPISODE 82 TIMESTEP 18270 / ACTION [-0.1428571428571429, 0.3] / REWARD 0.86778204 / EPISODE LENGTH 965 / Q_MAX  65.35417\n",
      "EPISODE 82 TIMESTEP 18300 / ACTION [0.5714285714285714, 0.3] / REWARD 0.81492068 / EPISODE LENGTH 995 / Q_MAX  67.98159\n",
      "EPISODE 82 TIMESTEP 18330 / ACTION [-0.1428571428571429, 0.3] / REWARD 0.8369461 / EPISODE LENGTH 1025 / Q_MAX  72.14549\n",
      "EPISODE 82 TIMESTEP 18360 / ACTION [0.2857142857142856, 0.3] / REWARD 0.7911802 / EPISODE LENGTH 1055 / Q_MAX  60.709057\n",
      "EPISODE 82 TIMESTEP 18390 / ACTION [0.2857142857142856, 0.3] / REWARD 0.44703760000000003 / EPISODE LENGTH 1085 / Q_MAX  66.29854\n",
      "EPISODE 82 TIMESTEP 18420 / ACTION [0.857142857142857, 0.3] / REWARD 0.47766 / EPISODE LENGTH 1115 / Q_MAX  73.034386\n",
      "EPISODE 82 TIMESTEP 18450 / ACTION [0.1428571428571428, 0.3] / REWARD 0.83427082 / EPISODE LENGTH 1145 / Q_MAX  57.1898\n",
      "EPISODE 82 TIMESTEP 18480 / ACTION [-0.7142857142857143, 0.3] / REWARD 0.91608568 / EPISODE LENGTH 1175 / Q_MAX  58.2015\n",
      "EPISODE 82 TIMESTEP 18510 / ACTION [1.0, 0.3] / REWARD 0.568476 / EPISODE LENGTH 1205 / Q_MAX  55.634254\n",
      "EPISODE 82 TIMESTEP 18540 / ACTION [0.5714285714285714, 0.3] / REWARD 0.6986836 / EPISODE LENGTH 1235 / Q_MAX  77.100006\n",
      "EPISODE 82 TIMESTEP 18570 / ACTION [0.1428571428571428, 0.3] / REWARD 0.6558914 / EPISODE LENGTH 1265 / Q_MAX  74.38167\n",
      "EPISODE 82 TIMESTEP 18600 / ACTION [0.857142857142857, 0.3] / REWARD 0.82641982 / EPISODE LENGTH 1295 / Q_MAX  79.68606\n",
      "EPISODE 82 TIMESTEP 18630 / ACTION [0.2857142857142856, 0.3] / REWARD 0.87227268 / EPISODE LENGTH 1325 / Q_MAX  78.56383\n",
      "EPISODE 82 TIMESTEP 18660 / ACTION [0.4285714285714284, 0.3] / REWARD 0.85776292 / EPISODE LENGTH 1355 / Q_MAX  62.014843\n",
      "EPISODE 82 TIMESTEP 18690 / ACTION [-0.8571428571428572, 0.3] / REWARD 0.6822326 / EPISODE LENGTH 1385 / Q_MAX  71.53381\n",
      "EPISODE 82 TIMESTEP 18720 / ACTION [1.0, 0.3] / REWARD 0.4231986 / EPISODE LENGTH 1415 / Q_MAX  48.225384\n",
      "EPISODE 82 TIMESTEP 18750 / ACTION [-0.2857142857142858, 0.3] / REWARD 0.43242060000000004 / EPISODE LENGTH 1445 / Q_MAX  61.599827\n",
      "EPISODE 82 TIMESTEP 18780 / ACTION [-0.5714285714285714, 0.3] / REWARD 0.47859360000000006 / EPISODE LENGTH 1475 / Q_MAX  71.04976\n",
      "EPISODE 82 TIMESTEP 18810 / ACTION [-0.5714285714285714, 0.3] / REWARD 0.4689202 / EPISODE LENGTH 1505 / Q_MAX  60.376217\n",
      "EPISODE 82 TIMESTEP 18840 / ACTION [0.7142857142857142, 0.3] / REWARD 0.39852220000000005 / EPISODE LENGTH 1535 / Q_MAX  56.3013\n",
      "EPISODE 82 TIMESTEP 18870 / ACTION [-1.0, 0.3] / REWARD 0.4659358 / EPISODE LENGTH 1565 / Q_MAX  26.723923\n",
      "EPISODE 82 TIMESTEP 18900 / ACTION [0.4285714285714284, 0.3] / REWARD 0.46766339999999995 / EPISODE LENGTH 1595 / Q_MAX  54.756786\n",
      "EPISODE 82 TIMESTEP 18930 / ACTION [0.5714285714285714, 0.3] / REWARD 0.440091 / EPISODE LENGTH 1625 / Q_MAX  60.30953\n",
      "EPISODE 82 TIMESTEP 18960 / ACTION [0.0, 0.3] / REWARD 0.490753 / EPISODE LENGTH 1655 / Q_MAX  70.871826\n",
      "EPISODE 82 TIMESTEP 18990 / ACTION [-1.0, 0.3] / REWARD 0.46055820000000003 / EPISODE LENGTH 1685 / Q_MAX  60.359585\n",
      "EPISODE 82 TIMESTEP 19020 / ACTION [0.5714285714285714, 0.3] / REWARD 0.81615538 / EPISODE LENGTH 1715 / Q_MAX  78.57787\n",
      "episode: 82   memory length: 10000   epsilon: 0.01999999999983204  episode length: 1733\n",
      "Episode:  83\n",
      "connect  f22922d835ea40adb7cc84028622deea\n",
      "ProtocolVersion  f22922d835ea40adb7cc84028622deea\n",
      "Loading generated_road\n"
     ]
    },
    {
     "name": "stderr",
     "output_type": "stream",
     "text": [
      "(1924) accepted ('127.0.0.1', 3685)\n",
      "(1924) accepted ('127.0.0.1', 3686)\n"
     ]
    },
    {
     "name": "stdout",
     "output_type": "stream",
     "text": [
      "connect  38585b36e97c41408bd7423279a5e905\n",
      "EPISODE 83 TIMESTEP 19050 / ACTION [-1.0, 0.3] / REWARD 0.994165292 / EPISODE LENGTH 12 / Q_MAX  76.043915\n"
     ]
    },
    {
     "name": "stderr",
     "output_type": "stream",
     "text": [
      "127.0.0.1 - - [13/Jun/2019 15:53:03] \"GET /socket.io/?EIO=4&transport=websocket HTTP/1.1\" 200 0 5209.609415\n",
      "127.0.0.1 - - [13/Jun/2019 15:53:05] \"GET /socket.io/?EIO=4&transport=websocket HTTP/1.1\" 200 0 60.762712\n"
     ]
    },
    {
     "name": "stdout",
     "output_type": "stream",
     "text": [
      "EPISODE 83 TIMESTEP 19080 / ACTION [-0.1428571428571429, 0.3] / REWARD 0.85225024 / EPISODE LENGTH 42 / Q_MAX  40.768234\n",
      "EPISODE 83 TIMESTEP 19110 / ACTION [-0.8571428571428572, 0.3] / REWARD 0.601261 / EPISODE LENGTH 72 / Q_MAX  74.10152\n",
      "EPISODE 83 TIMESTEP 19140 / ACTION [-1.0, 0.3] / REWARD 0.4952556 / EPISODE LENGTH 102 / Q_MAX  75.03539\n",
      "EPISODE 83 TIMESTEP 19170 / ACTION [0.4285714285714284, 0.3] / REWARD 0.49092120000000006 / EPISODE LENGTH 132 / Q_MAX  75.88174\n",
      "EPISODE 83 TIMESTEP 19200 / ACTION [0.02443027758020877, 0.3] / REWARD 0.5264322 / EPISODE LENGTH 162 / Q_MAX  77.51359\n",
      "EPISODE 83 TIMESTEP 19230 / ACTION [-0.5714285714285714, 0.3] / REWARD 0.7074656 / EPISODE LENGTH 192 / Q_MAX  59.90837\n",
      "EPISODE 83 TIMESTEP 19260 / ACTION [0.2857142857142856, 0.3] / REWARD 0.8475077200000001 / EPISODE LENGTH 222 / Q_MAX  42.99547\n",
      "EPISODE 83 TIMESTEP 19290 / ACTION [0.857142857142857, 0.3] / REWARD 0.44196879999999994 / EPISODE LENGTH 252 / Q_MAX  76.5054\n",
      "EPISODE 83 TIMESTEP 19320 / ACTION [-0.8571428571428572, 0.3] / REWARD 0.4956996 / EPISODE LENGTH 282 / Q_MAX  73.899284\n",
      "EPISODE 83 TIMESTEP 19350 / ACTION [0.0, 0.3] / REWARD 0.39635200000000004 / EPISODE LENGTH 312 / Q_MAX  76.02034\n",
      "EPISODE 83 TIMESTEP 19380 / ACTION [-0.5714285714285714, 0.3] / REWARD 0.5483262 / EPISODE LENGTH 342 / Q_MAX  37.572517\n",
      "EPISODE 83 TIMESTEP 19410 / ACTION [0.857142857142857, 0.3] / REWARD 0.86421522 / EPISODE LENGTH 372 / Q_MAX  58.967525\n",
      "EPISODE 83 TIMESTEP 19440 / ACTION [0.2857142857142856, 0.3] / REWARD 0.47106519999999996 / EPISODE LENGTH 402 / Q_MAX  76.18186\n",
      "EPISODE 83 TIMESTEP 19470 / ACTION [0.7142857142857142, 0.3] / REWARD 0.8631228799999999 / EPISODE LENGTH 432 / Q_MAX  67.655914\n",
      "EPISODE 83 TIMESTEP 19500 / ACTION [0.2857142857142856, 0.3] / REWARD 0.8105311 / EPISODE LENGTH 462 / Q_MAX  41.173008\n",
      "EPISODE 83 TIMESTEP 19530 / ACTION [-0.1428571428571429, 0.3] / REWARD 0.84465762 / EPISODE LENGTH 492 / Q_MAX  29.048376\n",
      "EPISODE 83 TIMESTEP 19560 / ACTION [0.857142857142857, 0.3] / REWARD 0.762808 / EPISODE LENGTH 522 / Q_MAX  79.35625\n",
      "EPISODE 83 TIMESTEP 19590 / ACTION [-0.8571428571428572, 0.3] / REWARD 0.96778952 / EPISODE LENGTH 552 / Q_MAX  64.66442\n",
      "EPISODE 83 TIMESTEP 19620 / ACTION [-0.1428571428571429, 0.3] / REWARD 0.8789557 / EPISODE LENGTH 582 / Q_MAX  79.01469\n",
      "EPISODE 83 TIMESTEP 19650 / ACTION [-0.8571428571428572, 0.3] / REWARD 0.63656 / EPISODE LENGTH 612 / Q_MAX  50.05892\n",
      "EPISODE 83 TIMESTEP 19680 / ACTION [-0.5714285714285714, 0.3] / REWARD 0.714067 / EPISODE LENGTH 642 / Q_MAX  63.32252\n",
      "EPISODE 83 TIMESTEP 19710 / ACTION [0.857142857142857, 0.3] / REWARD 0.5644926 / EPISODE LENGTH 672 / Q_MAX  75.60156\n",
      "EPISODE 83 TIMESTEP 19740 / ACTION [-0.8571428571428572, 0.3] / REWARD 0.759914 / EPISODE LENGTH 702 / Q_MAX  40.92902\n",
      "EPISODE 83 TIMESTEP 19770 / ACTION [-0.7142857142857143, 0.3] / REWARD 0.31757820000000003 / EPISODE LENGTH 732 / Q_MAX  65.58152\n",
      "EPISODE 83 TIMESTEP 19800 / ACTION [-0.5714285714285714, 0.3] / REWARD 0.82604598 / EPISODE LENGTH 762 / Q_MAX  40.918896\n",
      "EPISODE 83 TIMESTEP 19830 / ACTION [-0.4828059679406209, 0.3] / REWARD 0.7341718 / EPISODE LENGTH 792 / Q_MAX  72.984505\n",
      "EPISODE 83 TIMESTEP 19860 / ACTION [0.0, 0.3] / REWARD 0.97608498 / EPISODE LENGTH 822 / Q_MAX  74.74971\n",
      "EPISODE 83 TIMESTEP 19890 / ACTION [0.4285714285714284, 0.3] / REWARD 0.7451038 / EPISODE LENGTH 852 / Q_MAX  63.69742\n",
      "EPISODE 83 TIMESTEP 19920 / ACTION [0.0, 0.3] / REWARD 0.8046125 / EPISODE LENGTH 882 / Q_MAX  59.673252\n",
      "EPISODE 83 TIMESTEP 19950 / ACTION [0.1428571428571428, 0.3] / REWARD 0.8648187 / EPISODE LENGTH 912 / Q_MAX  72.67141\n",
      "EPISODE 83 TIMESTEP 19980 / ACTION [0.5714285714285714, 0.3] / REWARD 0.776529 / EPISODE LENGTH 942 / Q_MAX  70.16854\n",
      "EPISODE 83 TIMESTEP 20010 / ACTION [0.0, 0.3] / REWARD 0.6099324 / EPISODE LENGTH 972 / Q_MAX  70.80056\n",
      "EPISODE 83 TIMESTEP 20040 / ACTION [0.5714285714285714, 0.3] / REWARD 0.5308974 / EPISODE LENGTH 1002 / Q_MAX  69.25292\n",
      "EPISODE 83 TIMESTEP 20070 / ACTION [-0.2857142857142858, 0.3] / REWARD 0.6176422 / EPISODE LENGTH 1032 / Q_MAX  74.23129\n",
      "EPISODE 83 TIMESTEP 20100 / ACTION [-1.0, 0.3] / REWARD 0.575152 / EPISODE LENGTH 1062 / Q_MAX  63.983727\n",
      "EPISODE 83 TIMESTEP 20130 / ACTION [-0.2857142857142858, 0.3] / REWARD 0.569442 / EPISODE LENGTH 1092 / Q_MAX  61.87895\n",
      "EPISODE 83 TIMESTEP 20160 / ACTION [1.0, 0.3] / REWARD 0.46865500000000004 / EPISODE LENGTH 1122 / Q_MAX  66.32721\n",
      "EPISODE 83 TIMESTEP 20190 / ACTION [0.5714285714285714, 0.3] / REWARD 0.5348074 / EPISODE LENGTH 1152 / Q_MAX  73.57169\n",
      "EPISODE 83 TIMESTEP 20220 / ACTION [-1.0, 0.3] / REWARD 0.49492 / EPISODE LENGTH 1182 / Q_MAX  72.191734\n",
      "EPISODE 83 TIMESTEP 20250 / ACTION [-0.1428571428571429, 0.3] / REWARD 0.44656779999999996 / EPISODE LENGTH 1212 / Q_MAX  50.56381\n",
      "EPISODE 83 TIMESTEP 20280 / ACTION [-0.7142857142857143, 0.3] / REWARD 0.7103974 / EPISODE LENGTH 1242 / Q_MAX  66.15082\n",
      "EPISODE 83 TIMESTEP 20310 / ACTION [-1.0, 0.3] / REWARD 0.97251212 / EPISODE LENGTH 1272 / Q_MAX  69.32136\n",
      "EPISODE 83 TIMESTEP 20340 / ACTION [1.0, 0.3] / REWARD 0.82622564 / EPISODE LENGTH 1302 / Q_MAX  75.62437\n",
      "EPISODE 83 TIMESTEP 20370 / ACTION [0.5714285714285714, 0.3] / REWARD 0.5996276 / EPISODE LENGTH 1332 / Q_MAX  76.42173\n",
      "EPISODE 83 TIMESTEP 20400 / ACTION [0.4285714285714284, 0.3] / REWARD 0.4721432 / EPISODE LENGTH 1362 / Q_MAX  74.48723\n",
      "EPISODE 83 TIMESTEP 20430 / ACTION [-0.1428571428571429, 0.3] / REWARD 0.6196046 / EPISODE LENGTH 1392 / Q_MAX  50.162758\n",
      "EPISODE 83 TIMESTEP 20460 / ACTION [0.7142857142857142, 0.3] / REWARD 0.44852819999999993 / EPISODE LENGTH 1422 / Q_MAX  75.658806\n",
      "EPISODE 83 TIMESTEP 20490 / ACTION [-1.0, 0.3] / REWARD 0.4913636 / EPISODE LENGTH 1452 / Q_MAX  62.308548\n",
      "EPISODE 83 TIMESTEP 20520 / ACTION [-0.4285714285714286, 0.3] / REWARD 0.7323832 / EPISODE LENGTH 1482 / Q_MAX  63.36898\n",
      "EPISODE 83 TIMESTEP 20550 / ACTION [-0.8571428571428572, 0.3] / REWARD 0.83707568 / EPISODE LENGTH 1512 / Q_MAX  68.47924\n",
      "EPISODE 83 TIMESTEP 20580 / ACTION [-0.7142857142857143, 0.3] / REWARD 0.6728088 / EPISODE LENGTH 1542 / Q_MAX  58.441998\n",
      "EPISODE 83 TIMESTEP 20610 / ACTION [0.5714285714285714, 0.3] / REWARD 0.8371185800000001 / EPISODE LENGTH 1572 / Q_MAX  77.029106\n",
      "EPISODE 83 TIMESTEP 20640 / ACTION [-0.7142857142857143, 0.3] / REWARD 0.30089639999999995 / EPISODE LENGTH 1602 / Q_MAX  71.909515\n",
      "EPISODE 83 TIMESTEP 20670 / ACTION [0.4285714285714284, 0.3] / REWARD 0.5461458 / EPISODE LENGTH 1632 / Q_MAX  57.81399\n",
      "EPISODE 83 TIMESTEP 20700 / ACTION [1.0, 0.3] / REWARD 0.84624744 / EPISODE LENGTH 1662 / Q_MAX  53.016914\n",
      "EPISODE 83 TIMESTEP 20730 / ACTION [0.2857142857142856, 0.3] / REWARD 0.51693 / EPISODE LENGTH 1692 / Q_MAX  74.20405\n",
      "episode: 83   memory length: 10000   epsilon: 0.01999999999983204  episode length: 1717\n",
      "Episode:  84\n",
      "connect  27d4662b04c04df1b6487123990b7ad4\n",
      "ProtocolVersion  27d4662b04c04df1b6487123990b7ad4\n",
      "Loading generated_road\n"
     ]
    },
    {
     "name": "stderr",
     "output_type": "stream",
     "text": [
      "(1924) accepted ('127.0.0.1', 3847)\n",
      "(1924) accepted ('127.0.0.1', 3848)\n"
     ]
    },
    {
     "name": "stdout",
     "output_type": "stream",
     "text": [
      "connect  713f6af67a2f475dbef2225bd99dc742\n",
      "EPISODE 84 TIMESTEP 20760 / ACTION [-0.5714285714285714, 0.3] / REWARD 0.9995081022 / EPISODE LENGTH 5 / Q_MAX  77.49809\n"
     ]
    },
    {
     "name": "stderr",
     "output_type": "stream",
     "text": [
      "127.0.0.1 - - [13/Jun/2019 17:17:29] \"GET /socket.io/?EIO=4&transport=websocket HTTP/1.1\" 200 0 5123.648444\n",
      "127.0.0.1 - - [13/Jun/2019 17:17:32] \"GET /socket.io/?EIO=4&transport=websocket HTTP/1.1\" 200 0 60.628097\n"
     ]
    },
    {
     "name": "stdout",
     "output_type": "stream",
     "text": [
      "EPISODE 84 TIMESTEP 20790 / ACTION [0.0, 0.3] / REWARD 0.85793182 / EPISODE LENGTH 35 / Q_MAX  15.361982\n",
      "EPISODE 84 TIMESTEP 20820 / ACTION [-0.4285714285714286, 0.3] / REWARD 0.76349 / EPISODE LENGTH 65 / Q_MAX  61.4649\n",
      "EPISODE 84 TIMESTEP 20850 / ACTION [0.0, 0.3] / REWARD 0.7510597999999999 / EPISODE LENGTH 95 / Q_MAX  54.887936\n",
      "EPISODE 84 TIMESTEP 20880 / ACTION [-0.5714285714285714, 0.3] / REWARD 0.42967259999999996 / EPISODE LENGTH 125 / Q_MAX  60.419556\n",
      "EPISODE 84 TIMESTEP 20910 / ACTION [0.1428571428571428, 0.3] / REWARD 0.49916819999999995 / EPISODE LENGTH 155 / Q_MAX  75.25194\n",
      "EPISODE 84 TIMESTEP 20940 / ACTION [-0.5714285714285714, 0.3] / REWARD 0.42313559999999995 / EPISODE LENGTH 185 / Q_MAX  74.971245\n",
      "EPISODE 84 TIMESTEP 20970 / ACTION [-0.5714285714285714, 0.3] / REWARD 0.4543266 / EPISODE LENGTH 215 / Q_MAX  68.18488\n",
      "EPISODE 84 TIMESTEP 21000 / ACTION [0.4285714285714284, 0.3] / REWARD 0.5430328 / EPISODE LENGTH 245 / Q_MAX  77.36804\n",
      "EPISODE 84 TIMESTEP 21030 / ACTION [1.0, 0.3] / REWARD 0.5077296 / EPISODE LENGTH 275 / Q_MAX  64.429695\n",
      "EPISODE 84 TIMESTEP 21060 / ACTION [-0.4285714285714286, 0.3] / REWARD 0.8414748400000001 / EPISODE LENGTH 305 / Q_MAX  66.407074\n",
      "EPISODE 84 TIMESTEP 21090 / ACTION [0.1428571428571428, 0.3] / REWARD 0.7990072 / EPISODE LENGTH 335 / Q_MAX  79.47044\n",
      "EPISODE 84 TIMESTEP 21120 / ACTION [-0.2857142857142858, 0.3] / REWARD 0.4984238000000001 / EPISODE LENGTH 365 / Q_MAX  75.957245\n",
      "EPISODE 84 TIMESTEP 21150 / ACTION [-0.7142857142857143, 0.3] / REWARD 0.38670760000000004 / EPISODE LENGTH 395 / Q_MAX  56.229282\n",
      "EPISODE 84 TIMESTEP 21180 / ACTION [-0.7142857142857143, 0.3] / REWARD 0.6532472 / EPISODE LENGTH 425 / Q_MAX  75.788376\n",
      "EPISODE 84 TIMESTEP 21210 / ACTION [1.0, 0.3] / REWARD 0.5370122 / EPISODE LENGTH 455 / Q_MAX  60.17637\n",
      "EPISODE 84 TIMESTEP 21240 / ACTION [0.2857142857142856, 0.3] / REWARD 0.83251148 / EPISODE LENGTH 485 / Q_MAX  62.670723\n",
      "EPISODE 84 TIMESTEP 21270 / ACTION [0.1428571428571428, 0.3] / REWARD 0.8448041 / EPISODE LENGTH 515 / Q_MAX  76.23905\n",
      "EPISODE 84 TIMESTEP 21300 / ACTION [0.1428571428571428, 0.3] / REWARD 0.87660964 / EPISODE LENGTH 545 / Q_MAX  80.888916\n",
      "EPISODE 84 TIMESTEP 21330 / ACTION [-1.0, 0.3] / REWARD 0.48690140000000004 / EPISODE LENGTH 575 / Q_MAX  65.0434\n",
      "EPISODE 84 TIMESTEP 21360 / ACTION [-0.4285714285714286, 0.3] / REWARD 0.87229446 / EPISODE LENGTH 605 / Q_MAX  78.03587\n",
      "EPISODE 84 TIMESTEP 21390 / ACTION [0.5714285714285714, 0.3] / REWARD 0.8351620399999999 / EPISODE LENGTH 635 / Q_MAX  73.60216\n",
      "EPISODE 84 TIMESTEP 21420 / ACTION [0.2857142857142856, 0.3] / REWARD 0.7355058 / EPISODE LENGTH 665 / Q_MAX  75.4679\n",
      "EPISODE 84 TIMESTEP 21450 / ACTION [0.7142857142857142, 0.3] / REWARD 0.44026659999999995 / EPISODE LENGTH 695 / Q_MAX  75.56273\n",
      "EPISODE 84 TIMESTEP 21480 / ACTION [-0.7142857142857143, 0.3] / REWARD 0.6252728 / EPISODE LENGTH 725 / Q_MAX  77.96778\n",
      "EPISODE 84 TIMESTEP 21510 / ACTION [0.5714285714285714, 0.3] / REWARD 0.8217627000000001 / EPISODE LENGTH 755 / Q_MAX  61.047543\n",
      "EPISODE 84 TIMESTEP 21540 / ACTION [0.5714285714285714, 0.3] / REWARD 0.8603123 / EPISODE LENGTH 785 / Q_MAX  81.04101\n",
      "EPISODE 84 TIMESTEP 21570 / ACTION [-1.0, 0.3] / REWARD 0.5022642 / EPISODE LENGTH 815 / Q_MAX  39.072166\n",
      "EPISODE 84 TIMESTEP 21600 / ACTION [-0.1428571428571429, 0.3] / REWARD 0.41889719999999997 / EPISODE LENGTH 845 / Q_MAX  75.846634\n",
      "EPISODE 84 TIMESTEP 21630 / ACTION [-0.7142857142857143, 0.3] / REWARD 0.6282666 / EPISODE LENGTH 875 / Q_MAX  52.090668\n",
      "EPISODE 84 TIMESTEP 21660 / ACTION [-1.0, 0.3] / REWARD 0.84208184 / EPISODE LENGTH 905 / Q_MAX  76.86196\n",
      "EPISODE 84 TIMESTEP 21690 / ACTION [-0.1428571428571429, 0.3] / REWARD 0.8081448 / EPISODE LENGTH 935 / Q_MAX  65.50469\n",
      "EPISODE 84 TIMESTEP 21720 / ACTION [-0.5714285714285714, 0.3] / REWARD 0.85131218 / EPISODE LENGTH 965 / Q_MAX  78.94778\n",
      "EPISODE 84 TIMESTEP 21750 / ACTION [1.0, 0.3] / REWARD 0.5126204000000001 / EPISODE LENGTH 995 / Q_MAX  77.05725\n",
      "EPISODE 84 TIMESTEP 21780 / ACTION [-0.4285714285714286, 0.3] / REWARD 0.5548724 / EPISODE LENGTH 1025 / Q_MAX  75.636925\n",
      "EPISODE 84 TIMESTEP 21810 / ACTION [0.5652636998236498, 0.3] / REWARD 0.5944588000000001 / EPISODE LENGTH 1055 / Q_MAX  77.83538\n",
      "EPISODE 84 TIMESTEP 21840 / ACTION [-0.1428571428571429, 0.3] / REWARD 0.88067154 / EPISODE LENGTH 1085 / Q_MAX  76.37103\n",
      "EPISODE 84 TIMESTEP 21870 / ACTION [0.1428571428571428, 0.3] / REWARD 0.9259506200000001 / EPISODE LENGTH 1115 / Q_MAX  77.67553\n",
      "EPISODE 84 TIMESTEP 21900 / ACTION [1.0, 0.3] / REWARD 0.6924011999999999 / EPISODE LENGTH 1145 / Q_MAX  45.51647\n",
      "EPISODE 84 TIMESTEP 21930 / ACTION [-0.5714285714285714, 0.3] / REWARD 0.5913541999999999 / EPISODE LENGTH 1175 / Q_MAX  74.98327\n",
      "EPISODE 84 TIMESTEP 21960 / ACTION [-0.9260409949762074, 0.3] / REWARD 0.4150138 / EPISODE LENGTH 1205 / Q_MAX  60.78179\n",
      "EPISODE 84 TIMESTEP 21990 / ACTION [-1.0, 0.3] / REWARD 0.4693636 / EPISODE LENGTH 1235 / Q_MAX  68.370285\n",
      "EPISODE 84 TIMESTEP 22020 / ACTION [-1.0, 0.3] / REWARD 0.536048 / EPISODE LENGTH 1265 / Q_MAX  75.117485\n",
      "EPISODE 84 TIMESTEP 22050 / ACTION [0.2857142857142856, 0.3] / REWARD 0.795955 / EPISODE LENGTH 1295 / Q_MAX  63.76764\n",
      "EPISODE 84 TIMESTEP 22080 / ACTION [0.0, 0.3] / REWARD 0.87892298 / EPISODE LENGTH 1325 / Q_MAX  38.165367\n",
      "EPISODE 84 TIMESTEP 22110 / ACTION [-0.1428571428571429, 0.3] / REWARD 0.83967306 / EPISODE LENGTH 1355 / Q_MAX  67.50996\n",
      "EPISODE 84 TIMESTEP 22140 / ACTION [0.7142857142857142, 0.3] / REWARD 0.7912618 / EPISODE LENGTH 1385 / Q_MAX  71.04447\n",
      "EPISODE 84 TIMESTEP 22170 / ACTION [1.0, 0.3] / REWARD 0.7032008 / EPISODE LENGTH 1415 / Q_MAX  45.26534\n",
      "EPISODE 84 TIMESTEP 22200 / ACTION [-0.5714285714285714, 0.3] / REWARD 0.390489 / EPISODE LENGTH 1445 / Q_MAX  63.880295\n",
      "EPISODE 84 TIMESTEP 22230 / ACTION [0.5714285714285714, 0.3] / REWARD 0.8526992600000001 / EPISODE LENGTH 1475 / Q_MAX  75.55132\n",
      "EPISODE 84 TIMESTEP 22260 / ACTION [0.5714285714285714, 0.3] / REWARD 0.80383962 / EPISODE LENGTH 1505 / Q_MAX  79.12752\n",
      "EPISODE 84 TIMESTEP 22290 / ACTION [1.0, 0.3] / REWARD 0.7657092 / EPISODE LENGTH 1535 / Q_MAX  58.197296\n",
      "EPISODE 84 TIMESTEP 22320 / ACTION [-0.4285714285714286, 0.3] / REWARD 0.7739744 / EPISODE LENGTH 1565 / Q_MAX  76.662094\n",
      "episode: 84   memory length: 10000   epsilon: 0.01999999999983204  episode length: 1572\n",
      "Episode:  85\n",
      "connect  2dabc75f8ec6435d933469d321ca9c83\n",
      "ProtocolVersion  2dabc75f8ec6435d933469d321ca9c83\n",
      "Loading generated_road\n"
     ]
    },
    {
     "name": "stderr",
     "output_type": "stream",
     "text": [
      "(1924) accepted ('127.0.0.1', 4290)\n",
      "(1924) accepted ('127.0.0.1', 4291)\n"
     ]
    },
    {
     "name": "stdout",
     "output_type": "stream",
     "text": [
      "connect  ce4d1e33deb5434d8030b2983cdcb957\n"
     ]
    },
    {
     "name": "stderr",
     "output_type": "stream",
     "text": [
      "127.0.0.1 - - [13/Jun/2019 18:41:22] \"GET /socket.io/?EIO=4&transport=websocket HTTP/1.1\" 200 0 5090.495975\n",
      "127.0.0.1 - - [13/Jun/2019 18:41:28] \"GET /socket.io/?EIO=4&transport=websocket HTTP/1.1\" 200 0 63.073574\n"
     ]
    },
    {
     "name": "stdout",
     "output_type": "stream",
     "text": [
      "EPISODE 85 TIMESTEP 22350 / ACTION [-0.2857142857142858, 0.3] / REWARD 0.93315132 / EPISODE LENGTH 23 / Q_MAX  74.734665\n",
      "EPISODE 85 TIMESTEP 22380 / ACTION [-1.0, 0.3] / REWARD 0.6564288 / EPISODE LENGTH 53 / Q_MAX  77.05347\n",
      "EPISODE 85 TIMESTEP 22410 / ACTION [1.0, 0.3] / REWARD 0.35609159999999995 / EPISODE LENGTH 83 / Q_MAX  75.45352\n",
      "EPISODE 85 TIMESTEP 22440 / ACTION [-0.1428571428571429, 0.3] / REWARD 0.4018674 / EPISODE LENGTH 113 / Q_MAX  77.2216\n",
      "EPISODE 85 TIMESTEP 22470 / ACTION [-0.1428571428571429, 0.3] / REWARD 0.3947292 / EPISODE LENGTH 143 / Q_MAX  66.42701\n",
      "EPISODE 85 TIMESTEP 22500 / ACTION [1.0, 0.3] / REWARD 0.64467 / EPISODE LENGTH 173 / Q_MAX  64.44545\n",
      "EPISODE 85 TIMESTEP 22530 / ACTION [-0.5714285714285714, 0.3] / REWARD 0.83107346 / EPISODE LENGTH 203 / Q_MAX  77.83267\n",
      "EPISODE 85 TIMESTEP 22560 / ACTION [0.5714285714285714, 0.3] / REWARD 0.776063 / EPISODE LENGTH 233 / Q_MAX  74.40269\n",
      "EPISODE 85 TIMESTEP 22590 / ACTION [0.5714285714285714, 0.3] / REWARD 0.7910744000000001 / EPISODE LENGTH 263 / Q_MAX  67.58659\n",
      "EPISODE 85 TIMESTEP 22620 / ACTION [-0.1428571428571429, 0.3] / REWARD 0.8455169 / EPISODE LENGTH 293 / Q_MAX  66.93076\n",
      "EPISODE 85 TIMESTEP 22650 / ACTION [0.4285714285714284, 0.3] / REWARD 0.7062494 / EPISODE LENGTH 323 / Q_MAX  60.256603\n",
      "EPISODE 85 TIMESTEP 22680 / ACTION [-0.7142857142857143, 0.3] / REWARD 0.89286314 / EPISODE LENGTH 353 / Q_MAX  70.204865\n",
      "EPISODE 85 TIMESTEP 22710 / ACTION [0.2857142857142856, 0.3] / REWARD 0.45753620000000006 / EPISODE LENGTH 383 / Q_MAX  37.11088\n",
      "EPISODE 85 TIMESTEP 22740 / ACTION [0.2857142857142856, 0.3] / REWARD 0.88119286 / EPISODE LENGTH 413 / Q_MAX  72.81488\n",
      "EPISODE 85 TIMESTEP 22770 / ACTION [0.5714285714285714, 0.3] / REWARD 0.83041202 / EPISODE LENGTH 443 / Q_MAX  42.67828\n",
      "EPISODE 85 TIMESTEP 22800 / ACTION [-0.2857142857142858, 0.3] / REWARD 0.6588624 / EPISODE LENGTH 473 / Q_MAX  74.61198\n",
      "EPISODE 85 TIMESTEP 22830 / ACTION [-0.1428571428571429, 0.3] / REWARD 0.82936918 / EPISODE LENGTH 503 / Q_MAX  68.38113\n",
      "EPISODE 85 TIMESTEP 22860 / ACTION [0.5714285714285714, 0.3] / REWARD 0.8309016 / EPISODE LENGTH 533 / Q_MAX  72.755974\n",
      "EPISODE 85 TIMESTEP 22890 / ACTION [-0.1428571428571429, 0.3] / REWARD 0.83260812 / EPISODE LENGTH 563 / Q_MAX  71.314445\n",
      "EPISODE 85 TIMESTEP 22920 / ACTION [-0.7142857142857143, 0.3] / REWARD 0.8485085 / EPISODE LENGTH 593 / Q_MAX  68.222115\n",
      "EPISODE 85 TIMESTEP 22950 / ACTION [0.2857142857142856, 0.3] / REWARD 0.80177866 / EPISODE LENGTH 623 / Q_MAX  79.12426\n",
      "EPISODE 85 TIMESTEP 22980 / ACTION [0.5714285714285714, 0.3] / REWARD 0.82726502 / EPISODE LENGTH 653 / Q_MAX  48.624874\n",
      "EPISODE 85 TIMESTEP 23010 / ACTION [0.4285714285714284, 0.3] / REWARD 0.80145568 / EPISODE LENGTH 683 / Q_MAX  69.90576\n",
      "EPISODE 85 TIMESTEP 23040 / ACTION [0.7142857142857142, 0.3] / REWARD 0.86768486 / EPISODE LENGTH 713 / Q_MAX  73.04604\n",
      "EPISODE 85 TIMESTEP 23070 / ACTION [-0.5714285714285714, 0.3] / REWARD 0.763602 / EPISODE LENGTH 743 / Q_MAX  46.021286\n",
      "EPISODE 85 TIMESTEP 23100 / ACTION [0.7142857142857142, 0.3] / REWARD 0.740639 / EPISODE LENGTH 773 / Q_MAX  75.38641\n",
      "EPISODE 85 TIMESTEP 23130 / ACTION [0.857142857142857, 0.3] / REWARD 0.617928 / EPISODE LENGTH 803 / Q_MAX  73.911995\n",
      "EPISODE 85 TIMESTEP 23160 / ACTION [-0.5714285714285714, 0.3] / REWARD 0.5260614 / EPISODE LENGTH 833 / Q_MAX  64.81006\n",
      "EPISODE 85 TIMESTEP 23190 / ACTION [0.0, 0.3] / REWARD 0.36397519999999994 / EPISODE LENGTH 863 / Q_MAX  77.158226\n",
      "EPISODE 85 TIMESTEP 23220 / ACTION [-0.5714285714285714, 0.3] / REWARD 0.4120644 / EPISODE LENGTH 893 / Q_MAX  61.96283\n",
      "EPISODE 85 TIMESTEP 23250 / ACTION [-0.8571428571428572, 0.3] / REWARD 0.4856346 / EPISODE LENGTH 923 / Q_MAX  68.37945\n",
      "EPISODE 85 TIMESTEP 23280 / ACTION [-0.5714285714285714, 0.3] / REWARD 0.7925244 / EPISODE LENGTH 953 / Q_MAX  52.391266\n",
      "EPISODE 85 TIMESTEP 23310 / ACTION [1.0, 0.3] / REWARD 0.6208118 / EPISODE LENGTH 983 / Q_MAX  74.15162\n",
      "EPISODE 85 TIMESTEP 23340 / ACTION [0.857142857142857, 0.3] / REWARD 0.326079 / EPISODE LENGTH 1013 / Q_MAX  50.315346\n",
      "EPISODE 85 TIMESTEP 23370 / ACTION [-0.2857142857142858, 0.3] / REWARD 0.4996836 / EPISODE LENGTH 1043 / Q_MAX  61.95636\n",
      "EPISODE 85 TIMESTEP 23400 / ACTION [-0.8571428571428572, 0.3] / REWARD 0.6402228 / EPISODE LENGTH 1073 / Q_MAX  78.51079\n",
      "EPISODE 85 TIMESTEP 23430 / ACTION [0.1428571428571428, 0.3] / REWARD 0.83752502 / EPISODE LENGTH 1103 / Q_MAX  67.624886\n",
      "EPISODE 85 TIMESTEP 23460 / ACTION [-0.5714285714285714, 0.3] / REWARD 0.8266661200000001 / EPISODE LENGTH 1133 / Q_MAX  78.48354\n",
      "EPISODE 85 TIMESTEP 23490 / ACTION [-0.8571428571428572, 0.3] / REWARD 0.69547 / EPISODE LENGTH 1163 / Q_MAX  76.792984\n",
      "EPISODE 85 TIMESTEP 23520 / ACTION [0.857142857142857, 0.3] / REWARD 0.6989834 / EPISODE LENGTH 1193 / Q_MAX  76.36526\n",
      "EPISODE 85 TIMESTEP 23550 / ACTION [0.1428571428571428, 0.3] / REWARD 0.85848324 / EPISODE LENGTH 1223 / Q_MAX  75.89605\n",
      "EPISODE 85 TIMESTEP 23580 / ACTION [0.857142857142857, 0.3] / REWARD 0.7972252 / EPISODE LENGTH 1253 / Q_MAX  52.560455\n",
      "EPISODE 85 TIMESTEP 23610 / ACTION [0.1428571428571428, 0.3] / REWARD 0.6522252 / EPISODE LENGTH 1283 / Q_MAX  69.26845\n",
      "EPISODE 85 TIMESTEP 23640 / ACTION [-0.8571428571428572, 0.3] / REWARD 0.6023314 / EPISODE LENGTH 1313 / Q_MAX  64.82418\n",
      "EPISODE 85 TIMESTEP 23670 / ACTION [-0.2857142857142858, 0.3] / REWARD 0.3439514 / EPISODE LENGTH 1343 / Q_MAX  76.769905\n",
      "EPISODE 85 TIMESTEP 23700 / ACTION [0.5714285714285714, 0.3] / REWARD 0.43884140000000005 / EPISODE LENGTH 1373 / Q_MAX  66.07582\n",
      "EPISODE 85 TIMESTEP 23730 / ACTION [0.5714285714285714, 0.3] / REWARD 0.9237691 / EPISODE LENGTH 1403 / Q_MAX  51.60304\n",
      "EPISODE 85 TIMESTEP 23760 / ACTION [-0.8571428571428572, 0.3] / REWARD 0.7693236 / EPISODE LENGTH 1433 / Q_MAX  51.44074\n",
      "EPISODE 85 TIMESTEP 23790 / ACTION [0.2857142857142856, 0.3] / REWARD 0.6860564 / EPISODE LENGTH 1463 / Q_MAX  68.08038\n",
      "EPISODE 85 TIMESTEP 23820 / ACTION [-1.0, 0.3] / REWARD 0.87061454 / EPISODE LENGTH 1493 / Q_MAX  53.7918\n",
      "EPISODE 85 TIMESTEP 23850 / ACTION [-1.0, 0.3] / REWARD 0.81377326 / EPISODE LENGTH 1523 / Q_MAX  76.82212\n",
      "episode: 85   memory length: 10000   epsilon: 0.01999999999983204  episode length: 1545\n",
      "Episode:  86\n",
      "connect  8438322e7376491aa1ac1b0cc9aae785\n",
      "ProtocolVersion  8438322e7376491aa1ac1b0cc9aae785\n",
      "Loading generated_road\n"
     ]
    },
    {
     "name": "stderr",
     "output_type": "stream",
     "text": [
      "(1924) accepted ('127.0.0.1', 4533)\n",
      "(1924) accepted ('127.0.0.1', 4534)\n"
     ]
    },
    {
     "name": "stdout",
     "output_type": "stream",
     "text": [
      "connect  826d62786eaa4a84b46d185329773c96\n",
      "EPISODE 86 TIMESTEP 23880 / ACTION [-0.7526632912168378, 0.3] / REWARD 0.991355254 / EPISODE LENGTH 8 / Q_MAX  51.664303\n"
     ]
    },
    {
     "name": "stderr",
     "output_type": "stream",
     "text": [
      "127.0.0.1 - - [13/Jun/2019 19:59:52] \"GET /socket.io/?EIO=4&transport=websocket HTTP/1.1\" 200 0 4766.635399\n",
      "127.0.0.1 - - [13/Jun/2019 19:59:52] \"GET /socket.io/?EIO=4&transport=websocket HTTP/1.1\" 200 0 60.102795\n"
     ]
    },
    {
     "name": "stdout",
     "output_type": "stream",
     "text": [
      "EPISODE 86 TIMESTEP 23910 / ACTION [-0.4285714285714286, 0.3] / REWARD 0.7241436 / EPISODE LENGTH 38 / Q_MAX  57.188793\n",
      "EPISODE 86 TIMESTEP 23940 / ACTION [-0.1428571428571429, 0.3] / REWARD 0.371437 / EPISODE LENGTH 68 / Q_MAX  58.652046\n",
      "EPISODE 86 TIMESTEP 23970 / ACTION [-0.5714285714285714, 0.3] / REWARD 0.374722 / EPISODE LENGTH 98 / Q_MAX  57.30686\n",
      "EPISODE 86 TIMESTEP 24000 / ACTION [-0.7142857142857143, 0.3] / REWARD 0.29698060000000004 / EPISODE LENGTH 128 / Q_MAX  71.62628\n",
      "EPISODE 86 TIMESTEP 24030 / ACTION [1.0, 0.3] / REWARD 0.981313008 / EPISODE LENGTH 158 / Q_MAX  55.717243\n",
      "EPISODE 86 TIMESTEP 24060 / ACTION [1.0, 0.3] / REWARD 0.95773774 / EPISODE LENGTH 188 / Q_MAX  76.72136\n",
      "EPISODE 86 TIMESTEP 24090 / ACTION [-0.4285714285714286, 0.3] / REWARD 0.6776686000000001 / EPISODE LENGTH 218 / Q_MAX  67.20639\n",
      "EPISODE 86 TIMESTEP 24120 / ACTION [-0.2857142857142858, 0.3] / REWARD 0.4299208 / EPISODE LENGTH 248 / Q_MAX  73.11661\n",
      "EPISODE 86 TIMESTEP 24150 / ACTION [0.1428571428571428, 0.3] / REWARD 0.6364012 / EPISODE LENGTH 278 / Q_MAX  60.002235\n",
      "EPISODE 86 TIMESTEP 24180 / ACTION [0.1428571428571428, 0.3] / REWARD 0.9498596 / EPISODE LENGTH 308 / Q_MAX  67.5336\n",
      "EPISODE 86 TIMESTEP 24210 / ACTION [0.1428571428571428, 0.3] / REWARD 0.88376216 / EPISODE LENGTH 338 / Q_MAX  76.01818\n",
      "EPISODE 86 TIMESTEP 24240 / ACTION [0.4285714285714284, 0.3] / REWARD 0.7591656 / EPISODE LENGTH 368 / Q_MAX  72.41491\n",
      "EPISODE 86 TIMESTEP 24270 / ACTION [0.4285714285714284, 0.3] / REWARD 0.7522904 / EPISODE LENGTH 398 / Q_MAX  79.78141\n",
      "EPISODE 86 TIMESTEP 24300 / ACTION [0.5714285714285714, 0.3] / REWARD 0.397227 / EPISODE LENGTH 428 / Q_MAX  76.58946\n",
      "EPISODE 86 TIMESTEP 24330 / ACTION [-0.1428571428571429, 0.3] / REWARD 0.3269164 / EPISODE LENGTH 458 / Q_MAX  43.481083\n",
      "EPISODE 86 TIMESTEP 24360 / ACTION [-0.4285714285714286, 0.3] / REWARD 0.5379792 / EPISODE LENGTH 488 / Q_MAX  72.40574\n",
      "EPISODE 86 TIMESTEP 24390 / ACTION [-0.8571428571428572, 0.3] / REWARD 0.83936086 / EPISODE LENGTH 518 / Q_MAX  53.15403\n",
      "EPISODE 86 TIMESTEP 24420 / ACTION [0.5714285714285714, 0.3] / REWARD 0.7675102 / EPISODE LENGTH 548 / Q_MAX  75.590065\n",
      "EPISODE 86 TIMESTEP 24450 / ACTION [0.7142857142857142, 0.3] / REWARD 0.597592 / EPISODE LENGTH 578 / Q_MAX  67.8738\n",
      "EPISODE 86 TIMESTEP 24480 / ACTION [-0.1428571428571429, 0.3] / REWARD 0.32927839999999997 / EPISODE LENGTH 608 / Q_MAX  75.96174\n",
      "EPISODE 86 TIMESTEP 24510 / ACTION [0.7142857142857142, 0.3] / REWARD 0.5620864 / EPISODE LENGTH 638 / Q_MAX  51.34198\n",
      "EPISODE 86 TIMESTEP 24540 / ACTION [0.5714285714285714, 0.3] / REWARD 0.49005999999999994 / EPISODE LENGTH 668 / Q_MAX  65.19435\n",
      "EPISODE 86 TIMESTEP 24570 / ACTION [0.2857142857142856, 0.3] / REWARD 0.7296812 / EPISODE LENGTH 698 / Q_MAX  73.943214\n",
      "EPISODE 86 TIMESTEP 24600 / ACTION [-1.0, 0.3] / REWARD 0.731546 / EPISODE LENGTH 728 / Q_MAX  60.660313\n",
      "EPISODE 86 TIMESTEP 24630 / ACTION [-1.0, 0.3] / REWARD 0.96515578 / EPISODE LENGTH 758 / Q_MAX  72.15899\n",
      "EPISODE 86 TIMESTEP 24660 / ACTION [0.2857142857142856, 0.3] / REWARD 0.93585012 / EPISODE LENGTH 788 / Q_MAX  61.25711\n",
      "EPISODE 86 TIMESTEP 24690 / ACTION [0.2857142857142856, 0.3] / REWARD 0.4545604 / EPISODE LENGTH 818 / Q_MAX  72.69835\n",
      "EPISODE 86 TIMESTEP 24720 / ACTION [0.2857142857142856, 0.3] / REWARD 0.4919068 / EPISODE LENGTH 848 / Q_MAX  51.947002\n",
      "EPISODE 86 TIMESTEP 24750 / ACTION [0.2857142857142856, 0.3] / REWARD 0.483028 / EPISODE LENGTH 878 / Q_MAX  69.37082\n",
      "EPISODE 86 TIMESTEP 24780 / ACTION [0.2857142857142856, 0.3] / REWARD 0.5830252 / EPISODE LENGTH 908 / Q_MAX  40.792225\n",
      "EPISODE 86 TIMESTEP 24810 / ACTION [0.2857142857142856, 0.3] / REWARD 0.5582942 / EPISODE LENGTH 938 / Q_MAX  46.046207\n",
      "EPISODE 86 TIMESTEP 24840 / ACTION [-0.8571428571428572, 0.3] / REWARD 0.332623 / EPISODE LENGTH 968 / Q_MAX  63.992077\n",
      "EPISODE 86 TIMESTEP 24870 / ACTION [0.4285714285714284, 0.3] / REWARD 0.6171018 / EPISODE LENGTH 998 / Q_MAX  78.33993\n",
      "EPISODE 86 TIMESTEP 24900 / ACTION [-0.4285714285714286, 0.3] / REWARD 0.5264822 / EPISODE LENGTH 1028 / Q_MAX  55.998234\n",
      "EPISODE 86 TIMESTEP 24930 / ACTION [0.4285714285714284, 0.3] / REWARD 0.6000946 / EPISODE LENGTH 1058 / Q_MAX  63.0504\n",
      "EPISODE 86 TIMESTEP 24960 / ACTION [-0.4285714285714286, 0.3] / REWARD 0.5514204 / EPISODE LENGTH 1088 / Q_MAX  75.98869\n",
      "EPISODE 86 TIMESTEP 24990 / ACTION [0.2857142857142856, 0.3] / REWARD 0.6507458 / EPISODE LENGTH 1118 / Q_MAX  65.424515\n",
      "EPISODE 86 TIMESTEP 25020 / ACTION [-0.7142857142857143, 0.3] / REWARD 0.6393128 / EPISODE LENGTH 1148 / Q_MAX  75.00923\n",
      "EPISODE 86 TIMESTEP 25050 / ACTION [0.2857142857142856, 0.3] / REWARD 0.6381998 / EPISODE LENGTH 1178 / Q_MAX  55.054955\n",
      "EPISODE 86 TIMESTEP 25080 / ACTION [-0.7142857142857143, 0.3] / REWARD 0.6399684 / EPISODE LENGTH 1208 / Q_MAX  74.766525\n",
      "EPISODE 86 TIMESTEP 25110 / ACTION [-0.4285714285714286, 0.3] / REWARD 0.37680100000000005 / EPISODE LENGTH 1238 / Q_MAX  62.223648\n",
      "EPISODE 86 TIMESTEP 25140 / ACTION [-0.8571428571428572, 0.3] / REWARD 0.4148756 / EPISODE LENGTH 1268 / Q_MAX  76.86712\n",
      "EPISODE 86 TIMESTEP 25170 / ACTION [0.2857142857142856, 0.3] / REWARD 0.7329057999999999 / EPISODE LENGTH 1298 / Q_MAX  73.56941\n",
      "EPISODE 86 TIMESTEP 25200 / ACTION [0.1428571428571428, 0.3] / REWARD 0.7901714 / EPISODE LENGTH 1328 / Q_MAX  79.40802\n",
      "EPISODE 86 TIMESTEP 25230 / ACTION [0.0, 0.3] / REWARD 0.4412366 / EPISODE LENGTH 1358 / Q_MAX  65.46117\n",
      "EPISODE 86 TIMESTEP 25260 / ACTION [-0.8571428571428572, 0.3] / REWARD 0.9088312199999999 / EPISODE LENGTH 1388 / Q_MAX  69.578354\n",
      "EPISODE 86 TIMESTEP 25290 / ACTION [-0.8571428571428572, 0.3] / REWARD 0.329646 / EPISODE LENGTH 1418 / Q_MAX  75.86159\n",
      "EPISODE 86 TIMESTEP 25320 / ACTION [-0.8571428571428572, 0.3] / REWARD 0.4180767999999999 / EPISODE LENGTH 1448 / Q_MAX  75.96913\n",
      "EPISODE 86 TIMESTEP 25350 / ACTION [0.1428571428571428, 0.3] / REWARD 0.9550414 / EPISODE LENGTH 1478 / Q_MAX  71.69556\n",
      "EPISODE 86 TIMESTEP 25380 / ACTION [0.5714285714285714, 0.3] / REWARD 0.6326786 / EPISODE LENGTH 1508 / Q_MAX  76.80117\n",
      "EPISODE 86 TIMESTEP 25410 / ACTION [-0.1428571428571429, 0.3] / REWARD 0.4071602000000001 / EPISODE LENGTH 1538 / Q_MAX  47.83636\n",
      "episode: 86   memory length: 10000   epsilon: 0.01999999999983204  episode length: 1559\n",
      "Episode:  87\n",
      "connect  7798fd883e004e11bd02523c0919fc76\n",
      "ProtocolVersion  7798fd883e004e11bd02523c0919fc76\n",
      "Loading generated_road\n"
     ]
    },
    {
     "name": "stderr",
     "output_type": "stream",
     "text": [
      "(1924) accepted ('127.0.0.1', 4773)\n",
      "(1924) accepted ('127.0.0.1', 4774)\n"
     ]
    },
    {
     "name": "stdout",
     "output_type": "stream",
     "text": [
      "connect  67015f8b6fed4816b672afc05f38cd05\n",
      "EPISODE 87 TIMESTEP 25440 / ACTION [-0.7142857142857143, 0.3] / REWARD 0.988528486 / EPISODE LENGTH 9 / Q_MAX  74.19915\n"
     ]
    },
    {
     "name": "stderr",
     "output_type": "stream",
     "text": [
      "127.0.0.1 - - [13/Jun/2019 21:18:34] \"GET /socket.io/?EIO=4&transport=websocket HTTP/1.1\" 200 0 4781.996758\n",
      "127.0.0.1 - - [13/Jun/2019 21:18:37] \"GET /socket.io/?EIO=4&transport=websocket HTTP/1.1\" 200 0 61.790089\n"
     ]
    },
    {
     "name": "stdout",
     "output_type": "stream",
     "text": [
      "EPISODE 87 TIMESTEP 25470 / ACTION [-0.8571428571428572, 0.3] / REWARD 0.81434702 / EPISODE LENGTH 39 / Q_MAX  59.63273\n",
      "EPISODE 87 TIMESTEP 25500 / ACTION [0.4285714285714284, 0.3] / REWARD 0.7823734 / EPISODE LENGTH 69 / Q_MAX  75.99237\n",
      "EPISODE 87 TIMESTEP 25530 / ACTION [0.5714285714285714, 0.3] / REWARD 0.930642 / EPISODE LENGTH 99 / Q_MAX  62.85947\n",
      "EPISODE 87 TIMESTEP 25560 / ACTION [0.1428571428571428, 0.3] / REWARD 0.91115236 / EPISODE LENGTH 129 / Q_MAX  63.03982\n",
      "EPISODE 87 TIMESTEP 25590 / ACTION [0.1428571428571428, 0.3] / REWARD 0.93626062 / EPISODE LENGTH 159 / Q_MAX  69.442894\n",
      "EPISODE 87 TIMESTEP 25620 / ACTION [-0.2857142857142858, 0.3] / REWARD 0.6600412 / EPISODE LENGTH 189 / Q_MAX  73.385956\n",
      "EPISODE 87 TIMESTEP 25650 / ACTION [0.2857142857142856, 0.3] / REWARD 0.6601228 / EPISODE LENGTH 219 / Q_MAX  73.00101\n",
      "EPISODE 87 TIMESTEP 25680 / ACTION [-0.8571428571428572, 0.3] / REWARD 0.27797460000000007 / EPISODE LENGTH 249 / Q_MAX  54.977993\n",
      "EPISODE 87 TIMESTEP 25710 / ACTION [-0.7142857142857143, 0.3] / REWARD 0.53115 / EPISODE LENGTH 279 / Q_MAX  73.93111\n",
      "EPISODE 87 TIMESTEP 25740 / ACTION [0.1428571428571428, 0.3] / REWARD 0.90280244 / EPISODE LENGTH 309 / Q_MAX  72.50748\n",
      "EPISODE 87 TIMESTEP 25770 / ACTION [0.1428571428571428, 0.3] / REWARD 0.93305618 / EPISODE LENGTH 339 / Q_MAX  72.85057\n",
      "EPISODE 87 TIMESTEP 25800 / ACTION [-0.5714285714285714, 0.3] / REWARD 0.7416472000000001 / EPISODE LENGTH 369 / Q_MAX  42.99623\n",
      "EPISODE 87 TIMESTEP 25830 / ACTION [1.0, 0.3] / REWARD 0.21848979999999996 / EPISODE LENGTH 399 / Q_MAX  71.10931\n",
      "EPISODE 87 TIMESTEP 25860 / ACTION [-0.8571428571428572, 0.3] / REWARD 0.6465604 / EPISODE LENGTH 429 / Q_MAX  60.330784\n",
      "EPISODE 87 TIMESTEP 25890 / ACTION [-0.2857142857142858, 0.3] / REWARD 0.6844758 / EPISODE LENGTH 459 / Q_MAX  50.834194\n",
      "EPISODE 87 TIMESTEP 25920 / ACTION [-1.0, 0.3] / REWARD 0.81779428 / EPISODE LENGTH 489 / Q_MAX  68.45958\n",
      "EPISODE 87 TIMESTEP 25950 / ACTION [-0.8571428571428572, 0.3] / REWARD 0.6524196 / EPISODE LENGTH 519 / Q_MAX  68.719246\n",
      "EPISODE 87 TIMESTEP 25980 / ACTION [-0.4285714285714286, 0.3] / REWARD 0.8115445800000001 / EPISODE LENGTH 549 / Q_MAX  71.142784\n",
      "EPISODE 87 TIMESTEP 26010 / ACTION [0.5714285714285714, 0.3] / REWARD 0.7544358 / EPISODE LENGTH 579 / Q_MAX  63.39231\n",
      "EPISODE 87 TIMESTEP 26040 / ACTION [-0.7142857142857143, 0.3] / REWARD 0.31761039999999996 / EPISODE LENGTH 609 / Q_MAX  71.47847\n",
      "EPISODE 87 TIMESTEP 26070 / ACTION [-0.9945119044729007, 0.3] / REWARD 0.23467559999999998 / EPISODE LENGTH 639 / Q_MAX  79.09578\n",
      "EPISODE 87 TIMESTEP 26100 / ACTION [0.7142857142857142, 0.3] / REWARD 0.6667658 / EPISODE LENGTH 669 / Q_MAX  60.029884\n",
      "EPISODE 87 TIMESTEP 26130 / ACTION [0.7142857142857142, 0.3] / REWARD 0.7723296 / EPISODE LENGTH 699 / Q_MAX  61.90938\n",
      "EPISODE 87 TIMESTEP 26160 / ACTION [0.857142857142857, 0.3] / REWARD 0.6756272 / EPISODE LENGTH 729 / Q_MAX  60.134296\n",
      "EPISODE 87 TIMESTEP 26190 / ACTION [0.2857142857142856, 0.3] / REWARD 0.7183816000000001 / EPISODE LENGTH 759 / Q_MAX  74.08892\n",
      "EPISODE 87 TIMESTEP 26220 / ACTION [0.2857142857142856, 0.3] / REWARD 0.94408572 / EPISODE LENGTH 789 / Q_MAX  72.6846\n",
      "EPISODE 87 TIMESTEP 26250 / ACTION [0.5714285714285714, 0.3] / REWARD 0.6412274 / EPISODE LENGTH 819 / Q_MAX  77.858\n",
      "EPISODE 87 TIMESTEP 26280 / ACTION [0.5714285714285714, 0.3] / REWARD 0.95643866 / EPISODE LENGTH 849 / Q_MAX  56.945248\n",
      "EPISODE 87 TIMESTEP 26310 / ACTION [-1.0, 0.3] / REWARD 0.719541 / EPISODE LENGTH 879 / Q_MAX  76.3799\n",
      "EPISODE 87 TIMESTEP 26340 / ACTION [-0.2857142857142858, 0.3] / REWARD 0.7224844 / EPISODE LENGTH 909 / Q_MAX  68.19863\n",
      "EPISODE 87 TIMESTEP 26370 / ACTION [-0.8571428571428572, 0.3] / REWARD 0.3407646 / EPISODE LENGTH 939 / Q_MAX  73.69237\n",
      "EPISODE 87 TIMESTEP 26400 / ACTION [-0.7142857142857143, 0.3] / REWARD 0.8030135 / EPISODE LENGTH 969 / Q_MAX  73.153435\n",
      "EPISODE 87 TIMESTEP 26430 / ACTION [0.4285714285714284, 0.3] / REWARD 0.7518228 / EPISODE LENGTH 999 / Q_MAX  70.88727\n",
      "EPISODE 87 TIMESTEP 26460 / ACTION [-0.7142857142857143, 0.3] / REWARD 0.36328779999999994 / EPISODE LENGTH 1029 / Q_MAX  75.64006\n",
      "episode: 87   memory length: 10000   epsilon: 0.01999999999983204  episode length: 1046\n",
      "Episode:  88\n",
      "connect  d206c86df25f4f01a46cdbe969c97fac\n",
      "ProtocolVersion  d206c86df25f4f01a46cdbe969c97fac\n",
      "Loading generated_road\n"
     ]
    },
    {
     "name": "stderr",
     "output_type": "stream",
     "text": [
      "(1924) accepted ('127.0.0.1', 4887)\n",
      "(1924) accepted ('127.0.0.1', 4889)\n"
     ]
    },
    {
     "name": "stdout",
     "output_type": "stream",
     "text": [
      "connect  e1487aa98bd74c5ca33c216995ab6b4a\n",
      "EPISODE 88 TIMESTEP 26490 / ACTION [-0.8571428571428572, 0.3] / REWARD 0.97857292 / EPISODE LENGTH 13 / Q_MAX  74.4196\n"
     ]
    },
    {
     "name": "stderr",
     "output_type": "stream",
     "text": [
      "127.0.0.1 - - [13/Jun/2019 22:11:19] \"GET /socket.io/?EIO=4&transport=websocket HTTP/1.1\" 200 0 3223.289551\n",
      "127.0.0.1 - - [13/Jun/2019 22:11:22] \"GET /socket.io/?EIO=4&transport=websocket HTTP/1.1\" 200 0 61.296739\n"
     ]
    },
    {
     "name": "stdout",
     "output_type": "stream",
     "text": [
      "EPISODE 88 TIMESTEP 26520 / ACTION [0.2857142857142856, 0.3] / REWARD 0.84896986 / EPISODE LENGTH 43 / Q_MAX  67.19125\n",
      "EPISODE 88 TIMESTEP 26550 / ACTION [-0.4285714285714286, 0.3] / REWARD 0.88710576 / EPISODE LENGTH 73 / Q_MAX  68.322624\n",
      "EPISODE 88 TIMESTEP 26580 / ACTION [1.0, 0.3] / REWARD 0.87092046 / EPISODE LENGTH 103 / Q_MAX  58.678425\n",
      "EPISODE 88 TIMESTEP 26610 / ACTION [-0.7142857142857143, 0.3] / REWARD 0.7739161999999999 / EPISODE LENGTH 133 / Q_MAX  73.18695\n",
      "EPISODE 88 TIMESTEP 26640 / ACTION [-0.7142857142857143, 0.3] / REWARD 0.29516280000000006 / EPISODE LENGTH 163 / Q_MAX  67.97605\n",
      "EPISODE 88 TIMESTEP 26670 / ACTION [-0.8571428571428572, 0.3] / REWARD 0.46211520000000006 / EPISODE LENGTH 193 / Q_MAX  46.2474\n",
      "EPISODE 88 TIMESTEP 26700 / ACTION [1.0, 0.3] / REWARD 0.6402558 / EPISODE LENGTH 223 / Q_MAX  55.717976\n",
      "EPISODE 88 TIMESTEP 26730 / ACTION [-0.4285714285714286, 0.3] / REWARD 0.5043926 / EPISODE LENGTH 253 / Q_MAX  48.546764\n",
      "EPISODE 88 TIMESTEP 26760 / ACTION [0.4285714285714284, 0.3] / REWARD 0.46526080000000003 / EPISODE LENGTH 283 / Q_MAX  73.827255\n",
      "EPISODE 88 TIMESTEP 26790 / ACTION [-0.1428571428571429, 0.3] / REWARD 0.7981768 / EPISODE LENGTH 313 / Q_MAX  70.389114\n",
      "EPISODE 88 TIMESTEP 26820 / ACTION [0.2857142857142856, 0.3] / REWARD 0.7995158 / EPISODE LENGTH 343 / Q_MAX  75.51665\n",
      "episode: 88   memory length: 10000   epsilon: 0.01999999999983204  episode length: 361\n",
      "Episode:  89\n",
      "connect  e13edd19b7774cf8ad7ff2bb515574f0\n",
      "ProtocolVersion  e13edd19b7774cf8ad7ff2bb515574f0\n",
      "Loading generated_road\n"
     ]
    },
    {
     "name": "stderr",
     "output_type": "stream",
     "text": [
      "(1924) accepted ('127.0.0.1', 4954)\n",
      "(1924) accepted ('127.0.0.1', 4955)\n"
     ]
    },
    {
     "name": "stdout",
     "output_type": "stream",
     "text": [
      "connect  892de7c31ff647728ccb65a1d5398585\n",
      "EPISODE 89 TIMESTEP 26850 / ACTION [-0.4285714285714286, 0.3] / REWARD 0.97571214 / EPISODE LENGTH 12 / Q_MAX  74.67463\n"
     ]
    },
    {
     "name": "stderr",
     "output_type": "stream",
     "text": [
      "127.0.0.1 - - [13/Jun/2019 22:29:40] \"GET /socket.io/?EIO=4&transport=websocket HTTP/1.1\" 200 0 1158.952163\n",
      "127.0.0.1 - - [13/Jun/2019 22:29:40] \"GET /socket.io/?EIO=4&transport=websocket HTTP/1.1\" 200 0 60.500247\n"
     ]
    },
    {
     "name": "stdout",
     "output_type": "stream",
     "text": [
      "EPISODE 89 TIMESTEP 26880 / ACTION [0.1428571428571428, 0.3] / REWARD 0.765722 / EPISODE LENGTH 42 / Q_MAX  62.17976\n",
      "EPISODE 89 TIMESTEP 26910 / ACTION [0.7142857142857142, 0.3] / REWARD 0.6877382 / EPISODE LENGTH 72 / Q_MAX  76.062836\n",
      "EPISODE 89 TIMESTEP 26940 / ACTION [0.30898753104496324, 0.3] / REWARD 0.8540985999999999 / EPISODE LENGTH 102 / Q_MAX  75.614944\n",
      "EPISODE 89 TIMESTEP 26970 / ACTION [1.0, 0.3] / REWARD 0.7657152 / EPISODE LENGTH 132 / Q_MAX  58.4743\n",
      "EPISODE 89 TIMESTEP 27000 / ACTION [0.1428571428571428, 0.3] / REWARD 0.33586119999999997 / EPISODE LENGTH 162 / Q_MAX  70.08891\n",
      "EPISODE 89 TIMESTEP 27030 / ACTION [0.7142857142857142, 0.3] / REWARD 0.981245768 / EPISODE LENGTH 192 / Q_MAX  72.64894\n",
      "EPISODE 89 TIMESTEP 27060 / ACTION [1.0, 0.3] / REWARD 0.87121038 / EPISODE LENGTH 222 / Q_MAX  76.69162\n",
      "EPISODE 89 TIMESTEP 27090 / ACTION [0.5714285714285714, 0.3] / REWARD 0.6141202 / EPISODE LENGTH 252 / Q_MAX  75.3298\n",
      "EPISODE 89 TIMESTEP 27120 / ACTION [-1.0, 0.3] / REWARD 0.7344418 / EPISODE LENGTH 282 / Q_MAX  60.019836\n",
      "EPISODE 89 TIMESTEP 27150 / ACTION [-0.8571428571428572, 0.3] / REWARD 0.6548655999999999 / EPISODE LENGTH 312 / Q_MAX  46.742493\n",
      "EPISODE 89 TIMESTEP 27180 / ACTION [-0.7142857142857143, 0.3] / REWARD 0.8311810399999999 / EPISODE LENGTH 342 / Q_MAX  73.16797\n",
      "EPISODE 89 TIMESTEP 27210 / ACTION [1.0, 0.3] / REWARD 0.8083444200000001 / EPISODE LENGTH 372 / Q_MAX  75.324005\n",
      "EPISODE 89 TIMESTEP 27240 / ACTION [0.1428571428571428, 0.3] / REWARD 0.7971644 / EPISODE LENGTH 402 / Q_MAX  71.88069\n",
      "EPISODE 89 TIMESTEP 27270 / ACTION [0.2857142857142856, 0.3] / REWARD 0.36865040000000004 / EPISODE LENGTH 432 / Q_MAX  74.32413\n",
      "EPISODE 89 TIMESTEP 27300 / ACTION [0.2857142857142856, 0.3] / REWARD 0.33489420000000003 / EPISODE LENGTH 462 / Q_MAX  69.86421\n",
      "EPISODE 89 TIMESTEP 27330 / ACTION [-0.7142857142857143, 0.3] / REWARD 0.48799099999999995 / EPISODE LENGTH 492 / Q_MAX  80.45362\n",
      "EPISODE 89 TIMESTEP 27360 / ACTION [0.7142857142857142, 0.3] / REWARD 0.6 / EPISODE LENGTH 522 / Q_MAX  68.97566\n",
      "EPISODE 89 TIMESTEP 27390 / ACTION [-1.0, 0.3] / REWARD 0.991407048 / EPISODE LENGTH 552 / Q_MAX  73.12072\n",
      "EPISODE 89 TIMESTEP 27420 / ACTION [0.2857142857142856, 0.3] / REWARD 0.3918906 / EPISODE LENGTH 582 / Q_MAX  54.3023\n",
      "EPISODE 89 TIMESTEP 27450 / ACTION [0.2857142857142856, 0.3] / REWARD 0.3696302 / EPISODE LENGTH 612 / Q_MAX  72.31073\n",
      "EPISODE 89 TIMESTEP 27480 / ACTION [0.2857142857142856, 0.3] / REWARD 0.7810608 / EPISODE LENGTH 642 / Q_MAX  70.1931\n",
      "EPISODE 89 TIMESTEP 27510 / ACTION [0.4285714285714284, 0.3] / REWARD 0.7995314 / EPISODE LENGTH 672 / Q_MAX  50.196083\n",
      "EPISODE 89 TIMESTEP 27540 / ACTION [0.5714285714285714, 0.3] / REWARD 0.80754936 / EPISODE LENGTH 702 / Q_MAX  61.423878\n",
      "EPISODE 89 TIMESTEP 27570 / ACTION [0.0, 0.3] / REWARD 0.5278164000000001 / EPISODE LENGTH 732 / Q_MAX  69.81059\n",
      "episode: 89   memory length: 10000   epsilon: 0.01999999999983204  episode length: 737\n",
      "Episode:  90\n",
      "connect  c6a46dca2de647cab7efda1dd6e9b7fc\n",
      "ProtocolVersion  c6a46dca2de647cab7efda1dd6e9b7fc\n",
      "Loading generated_road\n"
     ]
    },
    {
     "name": "stderr",
     "output_type": "stream",
     "text": [
      "(1924) accepted ('127.0.0.1', 5206)\n",
      "(1924) accepted ('127.0.0.1', 5207)\n"
     ]
    },
    {
     "name": "stdout",
     "output_type": "stream",
     "text": [
      "connect  29267898a3c645ccbdaff9d6ae30b2c7\n"
     ]
    },
    {
     "name": "stderr",
     "output_type": "stream",
     "text": [
      "127.0.0.1 - - [13/Jun/2019 23:09:43] \"GET /socket.io/?EIO=4&transport=websocket HTTP/1.1\" 200 0 2463.308874\n",
      "127.0.0.1 - - [13/Jun/2019 23:09:46] \"GET /socket.io/?EIO=4&transport=websocket HTTP/1.1\" 200 0 61.603407\n"
     ]
    },
    {
     "name": "stdout",
     "output_type": "stream",
     "text": [
      "EPISODE 90 TIMESTEP 27600 / ACTION [-0.7142857142857143, 0.3] / REWARD 0.9982437328 / EPISODE LENGTH 25 / Q_MAX  78.84829\n",
      "EPISODE 90 TIMESTEP 27630 / ACTION [0.857142857142857, 0.3] / REWARD 0.8100365199999999 / EPISODE LENGTH 55 / Q_MAX  72.21349\n",
      "EPISODE 90 TIMESTEP 27660 / ACTION [-0.7142857142857143, 0.3] / REWARD 0.7401794 / EPISODE LENGTH 85 / Q_MAX  75.26524\n",
      "EPISODE 90 TIMESTEP 27690 / ACTION [-0.8571428571428572, 0.3] / REWARD 0.6616236 / EPISODE LENGTH 115 / Q_MAX  53.985962\n",
      "EPISODE 90 TIMESTEP 27720 / ACTION [-0.5714285714285714, 0.3] / REWARD 0.47130320000000003 / EPISODE LENGTH 145 / Q_MAX  74.09455\n",
      "EPISODE 90 TIMESTEP 27750 / ACTION [0.0, 0.3] / REWARD 0.3685988 / EPISODE LENGTH 175 / Q_MAX  77.60896\n",
      "EPISODE 90 TIMESTEP 27780 / ACTION [-0.8571428571428572, 0.3] / REWARD 0.2871254000000001 / EPISODE LENGTH 205 / Q_MAX  48.66468\n",
      "EPISODE 90 TIMESTEP 27810 / ACTION [0.7142857142857142, 0.3] / REWARD 0.7787626 / EPISODE LENGTH 235 / Q_MAX  72.5066\n",
      "EPISODE 90 TIMESTEP 27840 / ACTION [0.1428571428571428, 0.3] / REWARD 0.80808876 / EPISODE LENGTH 265 / Q_MAX  63.957985\n",
      "EPISODE 90 TIMESTEP 27870 / ACTION [-0.8571428571428572, 0.3] / REWARD 0.2629498 / EPISODE LENGTH 295 / Q_MAX  68.86093\n",
      "EPISODE 90 TIMESTEP 27900 / ACTION [0.2857142857142856, 0.3] / REWARD 0.47375639999999997 / EPISODE LENGTH 325 / Q_MAX  58.812332\n",
      "EPISODE 90 TIMESTEP 27930 / ACTION [0.1428571428571428, 0.3] / REWARD 0.7393457999999999 / EPISODE LENGTH 355 / Q_MAX  49.891914\n",
      "EPISODE 90 TIMESTEP 27960 / ACTION [0.1428571428571428, 0.3] / REWARD 0.7694314 / EPISODE LENGTH 385 / Q_MAX  59.3852\n",
      "episode: 90   memory length: 10000   epsilon: 0.01999999999983204  episode length: 403\n",
      "Episode:  91\n",
      "connect  c8d45ccb2dbd4b0e9689de49d26cc630\n",
      "ProtocolVersion  c8d45ccb2dbd4b0e9689de49d26cc630\n",
      "Loading generated_road\n"
     ]
    },
    {
     "name": "stderr",
     "output_type": "stream",
     "text": [
      "(1924) accepted ('127.0.0.1', 5305)\n",
      "(1924) accepted ('127.0.0.1', 5306)\n"
     ]
    },
    {
     "name": "stdout",
     "output_type": "stream",
     "text": [
      "connect  effc389277764879bc3f91f115ebe041\n",
      "EPISODE 91 TIMESTEP 27990 / ACTION [-0.2857142857142858, 0.3] / REWARD 0.980281582 / EPISODE LENGTH 12 / Q_MAX  71.44079\n"
     ]
    },
    {
     "name": "stderr",
     "output_type": "stream",
     "text": [
      "127.0.0.1 - - [13/Jun/2019 23:30:49] \"GET /socket.io/?EIO=4&transport=websocket HTTP/1.1\" 200 0 1323.550871\n",
      "127.0.0.1 - - [13/Jun/2019 23:30:52] \"GET /socket.io/?EIO=4&transport=websocket HTTP/1.1\" 200 0 60.421332\n"
     ]
    },
    {
     "name": "stdout",
     "output_type": "stream",
     "text": [
      "EPISODE 91 TIMESTEP 28020 / ACTION [0.857142857142857, 0.3] / REWARD 0.7402238 / EPISODE LENGTH 42 / Q_MAX  84.15626\n",
      "EPISODE 91 TIMESTEP 28050 / ACTION [-0.3708343837043022, 0.3] / REWARD 0.6528822 / EPISODE LENGTH 72 / Q_MAX  71.38354\n",
      "EPISODE 91 TIMESTEP 28080 / ACTION [-0.5714285714285714, 0.3] / REWARD 0.3064502 / EPISODE LENGTH 102 / Q_MAX  76.80591\n",
      "EPISODE 91 TIMESTEP 28110 / ACTION [0.1428571428571428, 0.3] / REWARD 0.33404220000000007 / EPISODE LENGTH 132 / Q_MAX  81.01132\n",
      "EPISODE 91 TIMESTEP 28140 / ACTION [-0.5714285714285714, 0.3] / REWARD 0.3458462 / EPISODE LENGTH 162 / Q_MAX  74.67736\n",
      "EPISODE 91 TIMESTEP 28170 / ACTION [-1.0, 0.3] / REWARD 0.9509832 / EPISODE LENGTH 192 / Q_MAX  81.0342\n",
      "EPISODE 91 TIMESTEP 28200 / ACTION [1.0, 0.3] / REWARD 0.88868614 / EPISODE LENGTH 222 / Q_MAX  71.0629\n",
      "EPISODE 91 TIMESTEP 28230 / ACTION [0.857142857142857, 0.3] / REWARD 0.7289102000000001 / EPISODE LENGTH 252 / Q_MAX  75.68648\n",
      "EPISODE 91 TIMESTEP 28260 / ACTION [0.857142857142857, 0.3] / REWARD 0.6361441999999999 / EPISODE LENGTH 282 / Q_MAX  71.767525\n",
      "EPISODE 91 TIMESTEP 28290 / ACTION [-0.5714285714285714, 0.3] / REWARD 0.316229 / EPISODE LENGTH 312 / Q_MAX  76.81565\n",
      "EPISODE 91 TIMESTEP 28320 / ACTION [-0.4285714285714286, 0.3] / REWARD 0.300651 / EPISODE LENGTH 342 / Q_MAX  65.6784\n",
      "EPISODE 91 TIMESTEP 28350 / ACTION [-0.5714285714285714, 0.3] / REWARD 0.3520466 / EPISODE LENGTH 372 / Q_MAX  74.006325\n",
      "EPISODE 91 TIMESTEP 28380 / ACTION [0.2857142857142856, 0.3] / REWARD 0.424022 / EPISODE LENGTH 402 / Q_MAX  59.8922\n",
      "EPISODE 91 TIMESTEP 28410 / ACTION [0.5714285714285714, 0.3] / REWARD 0.87764884 / EPISODE LENGTH 432 / Q_MAX  63.738895\n",
      "EPISODE 91 TIMESTEP 28440 / ACTION [1.0, 0.3] / REWARD 0.89112262 / EPISODE LENGTH 462 / Q_MAX  69.43061\n",
      "EPISODE 91 TIMESTEP 28470 / ACTION [0.2857142857142856, 0.3] / REWARD 0.2596982 / EPISODE LENGTH 492 / Q_MAX  63.92921\n",
      "EPISODE 91 TIMESTEP 28500 / ACTION [-0.7142857142857143, 0.3] / REWARD 0.3227702 / EPISODE LENGTH 522 / Q_MAX  76.41166\n",
      "EPISODE 91 TIMESTEP 28530 / ACTION [0.857142857142857, 0.3] / REWARD 0.8043789800000001 / EPISODE LENGTH 552 / Q_MAX  77.499756\n",
      "EPISODE 91 TIMESTEP 28560 / ACTION [0.0, 0.3] / REWARD 0.92924908 / EPISODE LENGTH 582 / Q_MAX  77.77032\n",
      "EPISODE 91 TIMESTEP 28590 / ACTION [0.0, 0.3] / REWARD 0.8387754199999999 / EPISODE LENGTH 612 / Q_MAX  67.31574\n",
      "EPISODE 91 TIMESTEP 28620 / ACTION [0.5714285714285714, 0.3] / REWARD 0.6346284 / EPISODE LENGTH 642 / Q_MAX  65.66055\n",
      "EPISODE 91 TIMESTEP 28650 / ACTION [0.0, 0.3] / REWARD 0.3477686 / EPISODE LENGTH 672 / Q_MAX  76.64419\n",
      "EPISODE 91 TIMESTEP 28680 / ACTION [-0.5714285714285714, 0.3] / REWARD 0.5138309999999999 / EPISODE LENGTH 702 / Q_MAX  80.747\n",
      "EPISODE 91 TIMESTEP 28710 / ACTION [0.857142857142857, 0.3] / REWARD 0.7641674 / EPISODE LENGTH 732 / Q_MAX  76.44672\n",
      "EPISODE 91 TIMESTEP 28740 / ACTION [1.0, 0.3] / REWARD 0.7488248 / EPISODE LENGTH 762 / Q_MAX  74.600525\n",
      "EPISODE 91 TIMESTEP 28770 / ACTION [0.7142857142857142, 0.3] / REWARD 0.5492574 / EPISODE LENGTH 792 / Q_MAX  71.40959\n",
      "episode: 91   memory length: 10000   epsilon: 0.01999999999983204  episode length: 820\n",
      "Episode:  92\n",
      "connect  87c8fac9ead74870947331fb30bc3098\n",
      "ProtocolVersion  87c8fac9ead74870947331fb30bc3098\n",
      "Loading generated_road\n"
     ]
    },
    {
     "name": "stderr",
     "output_type": "stream",
     "text": [
      "(1924) accepted ('127.0.0.1', 5440)\n",
      "(1924) accepted ('127.0.0.1', 5441)\n"
     ]
    },
    {
     "name": "stdout",
     "output_type": "stream",
     "text": [
      "connect  c05d49ffc9e3433eb542cb4f260f447c\n",
      "EPISODE 92 TIMESTEP 28800 / ACTION [-1.0, 0.3] / REWARD 0.9996873768 / EPISODE LENGTH 2 / Q_MAX  75.15389\n"
     ]
    },
    {
     "name": "stderr",
     "output_type": "stream",
     "text": [
      "127.0.0.1 - - [14/Jun/2019 00:12:20] \"GET /socket.io/?EIO=4&transport=websocket HTTP/1.1\" 200 0 2548.598323\n",
      "127.0.0.1 - - [14/Jun/2019 00:12:23] \"GET /socket.io/?EIO=4&transport=websocket HTTP/1.1\" 200 0 60.343445\n"
     ]
    },
    {
     "name": "stdout",
     "output_type": "stream",
     "text": [
      "EPISODE 92 TIMESTEP 28830 / ACTION [-0.1428571428571429, 0.3] / REWARD 0.88064746 / EPISODE LENGTH 32 / Q_MAX  75.10866\n",
      "EPISODE 92 TIMESTEP 28860 / ACTION [-1.0, 0.3] / REWARD 0.46718799999999994 / EPISODE LENGTH 62 / Q_MAX  56.69146\n",
      "EPISODE 92 TIMESTEP 28890 / ACTION [-0.7142857142857143, 0.3] / REWARD 0.2553546 / EPISODE LENGTH 92 / Q_MAX  76.79146\n",
      "EPISODE 92 TIMESTEP 28920 / ACTION [-0.8571428571428572, 0.3] / REWARD 0.25474240000000004 / EPISODE LENGTH 122 / Q_MAX  65.5404\n",
      "EPISODE 92 TIMESTEP 28950 / ACTION [0.4285714285714284, 0.3] / REWARD 0.2595746 / EPISODE LENGTH 152 / Q_MAX  73.97752\n",
      "EPISODE 92 TIMESTEP 28980 / ACTION [-0.7142857142857143, 0.3] / REWARD 0.36552319999999994 / EPISODE LENGTH 182 / Q_MAX  76.92564\n",
      "EPISODE 92 TIMESTEP 29010 / ACTION [0.2857142857142856, 0.3] / REWARD 0.7062242 / EPISODE LENGTH 212 / Q_MAX  74.4895\n",
      "EPISODE 92 TIMESTEP 29040 / ACTION [0.857142857142857, 0.3] / REWARD 0.8561270400000001 / EPISODE LENGTH 242 / Q_MAX  74.71175\n",
      "EPISODE 92 TIMESTEP 29070 / ACTION [-0.1428571428571429, 0.3] / REWARD 0.93377478 / EPISODE LENGTH 272 / Q_MAX  70.879395\n",
      "EPISODE 92 TIMESTEP 29100 / ACTION [-0.2857142857142858, 0.3] / REWARD 0.7755954 / EPISODE LENGTH 302 / Q_MAX  76.32539\n",
      "EPISODE 92 TIMESTEP 29130 / ACTION [-0.7142857142857143, 0.3] / REWARD 0.7854474 / EPISODE LENGTH 332 / Q_MAX  71.3143\n",
      "EPISODE 92 TIMESTEP 29160 / ACTION [0.0, 0.3] / REWARD 0.7601178 / EPISODE LENGTH 362 / Q_MAX  73.8548\n",
      "EPISODE 92 TIMESTEP 29190 / ACTION [0.1428571428571428, 0.3] / REWARD 0.46532419999999997 / EPISODE LENGTH 392 / Q_MAX  76.42461\n",
      "EPISODE 92 TIMESTEP 29220 / ACTION [-0.7142857142857143, 0.3] / REWARD 0.32040979999999997 / EPISODE LENGTH 422 / Q_MAX  63.305626\n",
      "EPISODE 92 TIMESTEP 29250 / ACTION [1.0, 0.3] / REWARD 0.31793740000000004 / EPISODE LENGTH 452 / Q_MAX  72.02255\n",
      "EPISODE 92 TIMESTEP 29280 / ACTION [-1.0, 0.3] / REWARD 0.19745620000000008 / EPISODE LENGTH 482 / Q_MAX  78.10115\n",
      "EPISODE 92 TIMESTEP 29310 / ACTION [1.0, 0.3] / REWARD 0.24465500000000007 / EPISODE LENGTH 512 / Q_MAX  57.149418\n",
      "EPISODE 92 TIMESTEP 29340 / ACTION [-1.0, 0.3] / REWARD 0.5396788 / EPISODE LENGTH 542 / Q_MAX  71.69504\n",
      "EPISODE 92 TIMESTEP 29370 / ACTION [0.5714285714285714, 0.3] / REWARD 0.25048899999999996 / EPISODE LENGTH 572 / Q_MAX  74.718636\n",
      "EPISODE 92 TIMESTEP 29400 / ACTION [0.4285714285714284, 0.3] / REWARD 0.28787739999999995 / EPISODE LENGTH 602 / Q_MAX  70.907936\n",
      "EPISODE 92 TIMESTEP 29430 / ACTION [0.2857142857142856, 0.3] / REWARD 0.23550019999999994 / EPISODE LENGTH 632 / Q_MAX  69.45612\n",
      "EPISODE 92 TIMESTEP 29460 / ACTION [-0.4285714285714286, 0.3] / REWARD 0.6727782 / EPISODE LENGTH 662 / Q_MAX  52.3361\n",
      "EPISODE 92 TIMESTEP 29490 / ACTION [-0.5714285714285714, 0.3] / REWARD 0.7686916 / EPISODE LENGTH 692 / Q_MAX  80.66026\n",
      "EPISODE 92 TIMESTEP 29520 / ACTION [-1.0, 0.3] / REWARD 0.81185138 / EPISODE LENGTH 722 / Q_MAX  72.99912\n",
      "EPISODE 92 TIMESTEP 29550 / ACTION [0.2857142857142856, 0.3] / REWARD 0.6683129999999999 / EPISODE LENGTH 752 / Q_MAX  68.56111\n",
      "episode: 92   memory length: 10000   epsilon: 0.01999999999983204  episode length: 768\n",
      "Episode:  93\n",
      "connect  160eb264fd8a48d298bffa169d02aad9\n",
      "ProtocolVersion  160eb264fd8a48d298bffa169d02aad9\n",
      "Loading generated_road\n"
     ]
    },
    {
     "name": "stderr",
     "output_type": "stream",
     "text": [
      "(1924) accepted ('127.0.0.1', 5549)\n",
      "(1924) accepted ('127.0.0.1', 5550)\n"
     ]
    },
    {
     "name": "stdout",
     "output_type": "stream",
     "text": [
      "connect  5e20101423ce45ba84f0e10fa3ca33da\n",
      "EPISODE 93 TIMESTEP 29580 / ACTION [0.0, 0.3] / REWARD 0.984357086 / EPISODE LENGTH 14 / Q_MAX  48.117683\n"
     ]
    },
    {
     "name": "stderr",
     "output_type": "stream",
     "text": [
      "127.0.0.1 - - [14/Jun/2019 00:50:33] \"GET /socket.io/?EIO=4&transport=websocket HTTP/1.1\" 200 0 2349.558440\n",
      "127.0.0.1 - - [14/Jun/2019 00:50:36] \"GET /socket.io/?EIO=4&transport=websocket HTTP/1.1\" 200 0 62.792001\n"
     ]
    },
    {
     "name": "stdout",
     "output_type": "stream",
     "text": [
      "EPISODE 93 TIMESTEP 29610 / ACTION [0.0, 0.3] / REWARD 0.938261 / EPISODE LENGTH 44 / Q_MAX  69.01038\n",
      "EPISODE 93 TIMESTEP 29640 / ACTION [-0.1428571428571429, 0.3] / REWARD 0.91251506 / EPISODE LENGTH 74 / Q_MAX  75.71724\n",
      "EPISODE 93 TIMESTEP 29670 / ACTION [0.1428571428571428, 0.3] / REWARD 0.984363508 / EPISODE LENGTH 104 / Q_MAX  73.12628\n",
      "EPISODE 93 TIMESTEP 29700 / ACTION [0.2857142857142856, 0.3] / REWARD 0.95953518 / EPISODE LENGTH 134 / Q_MAX  76.528725\n",
      "EPISODE 93 TIMESTEP 29730 / ACTION [-0.1428571428571429, 0.3] / REWARD 0.37101340000000005 / EPISODE LENGTH 164 / Q_MAX  73.75529\n",
      "EPISODE 93 TIMESTEP 29760 / ACTION [0.1428571428571428, 0.3] / REWARD 0.96308814 / EPISODE LENGTH 194 / Q_MAX  50.768482\n",
      "EPISODE 93 TIMESTEP 29790 / ACTION [1.0, 0.3] / REWARD 0.9369298 / EPISODE LENGTH 224 / Q_MAX  52.656593\n",
      "EPISODE 93 TIMESTEP 29820 / ACTION [-0.8571428571428572, 0.3] / REWARD 0.2868368 / EPISODE LENGTH 254 / Q_MAX  68.30524\n",
      "EPISODE 93 TIMESTEP 29850 / ACTION [0.5714285714285714, 0.3] / REWARD 0.19704200000000005 / EPISODE LENGTH 284 / Q_MAX  74.593155\n",
      "EPISODE 93 TIMESTEP 29880 / ACTION [-0.7142857142857143, 0.3] / REWARD 0.48312239999999995 / EPISODE LENGTH 314 / Q_MAX  77.64341\n",
      "EPISODE 93 TIMESTEP 29910 / ACTION [1.0, 0.3] / REWARD 0.35218459999999996 / EPISODE LENGTH 344 / Q_MAX  71.385025\n",
      "EPISODE 93 TIMESTEP 29940 / ACTION [-1.0, 0.3] / REWARD 0.94368488 / EPISODE LENGTH 374 / Q_MAX  77.74229\n",
      "EPISODE 93 TIMESTEP 29970 / ACTION [0.5714285714285714, 0.3] / REWARD 0.982329718 / EPISODE LENGTH 404 / Q_MAX  58.238937\n",
      "EPISODE 93 TIMESTEP 30000 / ACTION [0.5714285714285714, 0.3] / REWARD 0.6255634 / EPISODE LENGTH 434 / Q_MAX  68.89663\n",
      "EPISODE 93 TIMESTEP 30030 / ACTION [-0.7142857142857143, 0.3] / REWARD 0.3423448 / EPISODE LENGTH 464 / Q_MAX  67.52353\n",
      "EPISODE 93 TIMESTEP 30060 / ACTION [0.7142857142857142, 0.3] / REWARD 0.4768274 / EPISODE LENGTH 494 / Q_MAX  64.513756\n",
      "EPISODE 93 TIMESTEP 30090 / ACTION [0.2857142857142856, 0.3] / REWARD 0.32055179999999994 / EPISODE LENGTH 524 / Q_MAX  67.30802\n",
      "EPISODE 93 TIMESTEP 30120 / ACTION [-0.1428571428571429, 0.3] / REWARD 0.27057359999999997 / EPISODE LENGTH 554 / Q_MAX  71.36811\n",
      "EPISODE 93 TIMESTEP 30150 / ACTION [0.7142857142857142, 0.3] / REWARD 0.2766552 / EPISODE LENGTH 584 / Q_MAX  76.07513\n",
      "EPISODE 93 TIMESTEP 30180 / ACTION [1.0, 0.3] / REWARD 0.34428080000000005 / EPISODE LENGTH 614 / Q_MAX  61.187416\n",
      "EPISODE 93 TIMESTEP 30210 / ACTION [0.1428571428571428, 0.3] / REWARD 0.96157886 / EPISODE LENGTH 644 / Q_MAX  77.49473\n",
      "EPISODE 93 TIMESTEP 30240 / ACTION [-0.4285714285714286, 0.3] / REWARD 0.9158631 / EPISODE LENGTH 674 / Q_MAX  74.67146\n",
      "EPISODE 93 TIMESTEP 30270 / ACTION [1.0, 0.3] / REWARD 0.714447 / EPISODE LENGTH 704 / Q_MAX  74.39217\n",
      "episode: 93   memory length: 10000   epsilon: 0.01999999999983204  episode length: 718\n",
      "Episode:  94\n",
      "connect  4ba50cdc749648b985d24df593fd83d8\n",
      "ProtocolVersion  4ba50cdc749648b985d24df593fd83d8\n",
      "Loading generated_road\n"
     ]
    },
    {
     "name": "stderr",
     "output_type": "stream",
     "text": [
      "(1924) accepted ('127.0.0.1', 5617)\n",
      "(1924) accepted ('127.0.0.1', 5618)\n"
     ]
    },
    {
     "name": "stdout",
     "output_type": "stream",
     "text": [
      "connect  7a6644af44e0450c985db9e6ee744fe7\n",
      "EPISODE 94 TIMESTEP 30300 / ACTION [-0.7142857142857143, 0.3] / REWARD 0.985453014 / EPISODE LENGTH 16 / Q_MAX  67.13174\n"
     ]
    },
    {
     "name": "stderr",
     "output_type": "stream",
     "text": [
      "127.0.0.1 - - [14/Jun/2019 01:25:52] \"GET /socket.io/?EIO=4&transport=websocket HTTP/1.1\" 200 0 2178.825319\n",
      "127.0.0.1 - - [14/Jun/2019 01:25:55] \"GET /socket.io/?EIO=4&transport=websocket HTTP/1.1\" 200 0 61.542936\n"
     ]
    },
    {
     "name": "stdout",
     "output_type": "stream",
     "text": [
      "EPISODE 94 TIMESTEP 30330 / ACTION [0.4285714285714284, 0.3] / REWARD 0.8201455200000001 / EPISODE LENGTH 46 / Q_MAX  74.65345\n",
      "EPISODE 94 TIMESTEP 30360 / ACTION [0.4285714285714284, 0.3] / REWARD 0.7536488 / EPISODE LENGTH 76 / Q_MAX  73.89351\n",
      "EPISODE 94 TIMESTEP 30390 / ACTION [0.5714285714285714, 0.3] / REWARD 0.5858288 / EPISODE LENGTH 106 / Q_MAX  63.70298\n",
      "EPISODE 94 TIMESTEP 30420 / ACTION [0.4285714285714284, 0.3] / REWARD 0.5325796 / EPISODE LENGTH 136 / Q_MAX  75.09266\n",
      "EPISODE 94 TIMESTEP 30450 / ACTION [0.2857142857142856, 0.3] / REWARD 0.7578228 / EPISODE LENGTH 166 / Q_MAX  68.14083\n",
      "EPISODE 94 TIMESTEP 30480 / ACTION [-0.1428571428571429, 0.3] / REWARD 0.91913282 / EPISODE LENGTH 196 / Q_MAX  66.48307\n",
      "episode: 94   memory length: 10000   epsilon: 0.01999999999983204  episode length: 219\n",
      "Episode:  95\n",
      "connect  bf0d62ba276743779c633eb49af763ec\n",
      "ProtocolVersion  bf0d62ba276743779c633eb49af763ec\n",
      "Loading generated_road\n"
     ]
    },
    {
     "name": "stderr",
     "output_type": "stream",
     "text": [
      "(1924) accepted ('127.0.0.1', 5634)\n",
      "(1924) accepted ('127.0.0.1', 5635)\n"
     ]
    },
    {
     "name": "stdout",
     "output_type": "stream",
     "text": [
      "connect  d17120df99fd46d68228a8ef7f579edd\n",
      "EPISODE 95 TIMESTEP 30510 / ACTION [0.1428571428571428, 0.3] / REWARD 0.9986349568 / EPISODE LENGTH 7 / Q_MAX  75.47468\n"
     ]
    },
    {
     "name": "stderr",
     "output_type": "stream",
     "text": [
      "127.0.0.1 - - [14/Jun/2019 01:36:55] \"GET /socket.io/?EIO=4&transport=websocket HTTP/1.1\" 200 0 720.507707\n",
      "127.0.0.1 - - [14/Jun/2019 01:36:58] \"GET /socket.io/?EIO=4&transport=websocket HTTP/1.1\" 200 0 62.872808\n"
     ]
    },
    {
     "name": "stdout",
     "output_type": "stream",
     "text": [
      "EPISODE 95 TIMESTEP 30540 / ACTION [0.0, 0.3] / REWARD 0.90539674 / EPISODE LENGTH 37 / Q_MAX  75.8562\n",
      "EPISODE 95 TIMESTEP 30570 / ACTION [0.0, 0.3] / REWARD 0.81790584 / EPISODE LENGTH 67 / Q_MAX  61.030067\n",
      "EPISODE 95 TIMESTEP 30600 / ACTION [-0.4285714285714286, 0.3] / REWARD 0.85492894 / EPISODE LENGTH 97 / Q_MAX  68.13238\n",
      "EPISODE 95 TIMESTEP 30630 / ACTION [0.5714285714285714, 0.3] / REWARD 0.93732234 / EPISODE LENGTH 127 / Q_MAX  78.32396\n",
      "EPISODE 95 TIMESTEP 30660 / ACTION [0.7142857142857142, 0.3] / REWARD 0.87081666 / EPISODE LENGTH 157 / Q_MAX  79.87169\n",
      "EPISODE 95 TIMESTEP 30690 / ACTION [-0.8571428571428572, 0.3] / REWARD 0.7154942 / EPISODE LENGTH 187 / Q_MAX  78.41921\n",
      "EPISODE 95 TIMESTEP 30720 / ACTION [0.5714285714285714, 0.3] / REWARD 0.24549759999999998 / EPISODE LENGTH 217 / Q_MAX  78.62962\n",
      "EPISODE 95 TIMESTEP 30750 / ACTION [0.1428571428571428, 0.3] / REWARD 0.3380558 / EPISODE LENGTH 247 / Q_MAX  80.39594\n",
      "EPISODE 95 TIMESTEP 30780 / ACTION [-0.8571428571428572, 0.3] / REWARD 0.4736252000000001 / EPISODE LENGTH 277 / Q_MAX  73.24561\n",
      "EPISODE 95 TIMESTEP 30810 / ACTION [-0.5714285714285714, 0.3] / REWARD 0.5919177999999999 / EPISODE LENGTH 307 / Q_MAX  75.95952\n",
      "EPISODE 95 TIMESTEP 30840 / ACTION [0.0, 0.3] / REWARD 0.8407666 / EPISODE LENGTH 337 / Q_MAX  72.79795\n",
      "EPISODE 95 TIMESTEP 30870 / ACTION [-0.7142857142857143, 0.3] / REWARD 0.82609142 / EPISODE LENGTH 367 / Q_MAX  81.87337\n",
      "EPISODE 95 TIMESTEP 30900 / ACTION [-0.8571428571428572, 0.3] / REWARD 0.84174628 / EPISODE LENGTH 397 / Q_MAX  74.561745\n",
      "EPISODE 95 TIMESTEP 30930 / ACTION [0.5714285714285714, 0.3] / REWARD 0.90219836 / EPISODE LENGTH 427 / Q_MAX  49.2185\n",
      "EPISODE 95 TIMESTEP 30960 / ACTION [-0.1428571428571429, 0.3] / REWARD 0.7183732 / EPISODE LENGTH 457 / Q_MAX  59.02902\n",
      "EPISODE 95 TIMESTEP 30990 / ACTION [0.5714285714285714, 0.3] / REWARD 0.7473026 / EPISODE LENGTH 487 / Q_MAX  78.662964\n",
      "EPISODE 95 TIMESTEP 31020 / ACTION [-1.0, 0.3] / REWARD 0.6660586 / EPISODE LENGTH 517 / Q_MAX  53.378563\n",
      "EPISODE 95 TIMESTEP 31050 / ACTION [-1.0, 0.3] / REWARD 0.1847939999999999 / EPISODE LENGTH 547 / Q_MAX  66.30363\n",
      "EPISODE 95 TIMESTEP 31080 / ACTION [0.1428571428571428, 0.3] / REWARD 0.9395431 / EPISODE LENGTH 577 / Q_MAX  73.58382\n",
      "EPISODE 95 TIMESTEP 31110 / ACTION [1.0, 0.3] / REWARD 0.93013442 / EPISODE LENGTH 607 / Q_MAX  76.79069\n",
      "EPISODE 95 TIMESTEP 31140 / ACTION [-1.0, 0.3] / REWARD 0.95631632 / EPISODE LENGTH 637 / Q_MAX  76.78908\n",
      "EPISODE 95 TIMESTEP 31170 / ACTION [0.0, 0.3] / REWARD 0.8223392199999999 / EPISODE LENGTH 667 / Q_MAX  75.896454\n",
      "EPISODE 95 TIMESTEP 31200 / ACTION [-0.7142857142857143, 0.3] / REWARD 0.7175996 / EPISODE LENGTH 697 / Q_MAX  73.66365\n",
      "EPISODE 95 TIMESTEP 31230 / ACTION [-0.7142857142857143, 0.3] / REWARD 0.6810468000000001 / EPISODE LENGTH 727 / Q_MAX  66.08009\n",
      "EPISODE 95 TIMESTEP 31260 / ACTION [1.0, 0.3] / REWARD 0.7449102 / EPISODE LENGTH 757 / Q_MAX  72.336205\n",
      "EPISODE 95 TIMESTEP 31290 / ACTION [0.2857142857142856, 0.3] / REWARD 0.88165422 / EPISODE LENGTH 787 / Q_MAX  60.68365\n",
      "EPISODE 95 TIMESTEP 31320 / ACTION [-0.2857142857142858, 0.3] / REWARD 0.6002868 / EPISODE LENGTH 817 / Q_MAX  69.52869\n",
      "EPISODE 95 TIMESTEP 31350 / ACTION [0.5714285714285714, 0.3] / REWARD 0.2590648 / EPISODE LENGTH 847 / Q_MAX  78.599236\n",
      "EPISODE 95 TIMESTEP 31380 / ACTION [-0.7142857142857143, 0.3] / REWARD 0.2765702 / EPISODE LENGTH 877 / Q_MAX  67.82513\n",
      "EPISODE 95 TIMESTEP 31410 / ACTION [1.0, 0.3] / REWARD 0.36389099999999996 / EPISODE LENGTH 907 / Q_MAX  75.456474\n",
      "EPISODE 95 TIMESTEP 31440 / ACTION [1.0, 0.3] / REWARD 0.81526762 / EPISODE LENGTH 937 / Q_MAX  74.59527\n",
      "EPISODE 95 TIMESTEP 31470 / ACTION [0.5714285714285714, 0.3] / REWARD 0.86936366 / EPISODE LENGTH 967 / Q_MAX  55.769886\n",
      "EPISODE 95 TIMESTEP 31500 / ACTION [0.2857142857142856, 0.3] / REWARD 0.2802966 / EPISODE LENGTH 997 / Q_MAX  73.90979\n",
      "EPISODE 95 TIMESTEP 31530 / ACTION [-0.7142857142857143, 0.3] / REWARD 0.29554159999999996 / EPISODE LENGTH 1027 / Q_MAX  74.27629\n",
      "EPISODE 95 TIMESTEP 31560 / ACTION [-1.0, 0.3] / REWARD 0.2786016 / EPISODE LENGTH 1057 / Q_MAX  69.57483\n",
      "EPISODE 95 TIMESTEP 31590 / ACTION [0.5714285714285714, 0.3] / REWARD 0.94929506 / EPISODE LENGTH 1087 / Q_MAX  75.86585\n",
      "EPISODE 95 TIMESTEP 31620 / ACTION [1.0, 0.3] / REWARD 0.7113012 / EPISODE LENGTH 1117 / Q_MAX  74.3972\n",
      "EPISODE 95 TIMESTEP 31650 / ACTION [1.0, 0.3] / REWARD 0.7930574 / EPISODE LENGTH 1147 / Q_MAX  78.76662\n",
      "EPISODE 95 TIMESTEP 31680 / ACTION [-1.0, 0.3] / REWARD 0.412795 / EPISODE LENGTH 1177 / Q_MAX  57.818665\n",
      "EPISODE 95 TIMESTEP 31710 / ACTION [-0.7142857142857143, 0.3] / REWARD 0.3735484 / EPISODE LENGTH 1207 / Q_MAX  73.727005\n",
      "EPISODE 95 TIMESTEP 31740 / ACTION [0.1428571428571428, 0.3] / REWARD 0.97487008 / EPISODE LENGTH 1237 / Q_MAX  70.882095\n",
      "EPISODE 95 TIMESTEP 31770 / ACTION [-0.2857142857142858, 0.3] / REWARD 0.9170887 / EPISODE LENGTH 1267 / Q_MAX  52.54016\n",
      "EPISODE 95 TIMESTEP 31800 / ACTION [0.1428571428571428, 0.3] / REWARD 0.6711142 / EPISODE LENGTH 1297 / Q_MAX  76.25053\n",
      "EPISODE 95 TIMESTEP 31830 / ACTION [-0.2857142857142858, 0.3] / REWARD 0.744985 / EPISODE LENGTH 1327 / Q_MAX  64.18942\n",
      "EPISODE 95 TIMESTEP 31860 / ACTION [-0.1428571428571429, 0.3] / REWARD 0.3191598 / EPISODE LENGTH 1357 / Q_MAX  70.4345\n",
      "EPISODE 95 TIMESTEP 31890 / ACTION [0.4285714285714284, 0.3] / REWARD 0.85865026 / EPISODE LENGTH 1387 / Q_MAX  82.02676\n",
      "EPISODE 95 TIMESTEP 31920 / ACTION [-0.7142857142857143, 0.3] / REWARD 0.4649706 / EPISODE LENGTH 1417 / Q_MAX  76.40196\n",
      "EPISODE 95 TIMESTEP 31950 / ACTION [0.7142857142857142, 0.3] / REWARD 0.30988839999999995 / EPISODE LENGTH 1447 / Q_MAX  73.407425\n",
      "EPISODE 95 TIMESTEP 31980 / ACTION [0.4285714285714284, 0.3] / REWARD 0.36642640000000004 / EPISODE LENGTH 1477 / Q_MAX  72.800255\n",
      "EPISODE 95 TIMESTEP 32010 / ACTION [-0.8571428571428572, 0.3] / REWARD 0.95735668 / EPISODE LENGTH 1507 / Q_MAX  74.393616\n",
      "EPISODE 95 TIMESTEP 32040 / ACTION [0.5714285714285714, 0.3] / REWARD 0.80194834 / EPISODE LENGTH 1537 / Q_MAX  66.02024\n",
      "EPISODE 95 TIMESTEP 32070 / ACTION [0.1428571428571428, 0.3] / REWARD 0.97688412 / EPISODE LENGTH 1567 / Q_MAX  78.194405\n",
      "EPISODE 95 TIMESTEP 32100 / ACTION [0.2857142857142856, 0.3] / REWARD 0.6707339999999999 / EPISODE LENGTH 1597 / Q_MAX  76.15253\n",
      "episode: 95   memory length: 10000   epsilon: 0.01999999999983204  episode length: 1621\n",
      "Episode:  96\n",
      "connect  d85a65aaa7a3445c8ca15d78aad84212\n",
      "ProtocolVersion  d85a65aaa7a3445c8ca15d78aad84212\n",
      "Loading generated_road\n"
     ]
    },
    {
     "name": "stderr",
     "output_type": "stream",
     "text": [
      "(1924) accepted ('127.0.0.1', 5821)\n",
      "(1924) accepted ('127.0.0.1', 5822)\n"
     ]
    },
    {
     "name": "stdout",
     "output_type": "stream",
     "text": [
      "connect  9ed07570e7fe497d96a8cb6deb9bb6dc\n",
      "EPISODE 96 TIMESTEP 32130 / ACTION [0.1428571428571428, 0.3] / REWARD 0.9990383598 / EPISODE LENGTH 6 / Q_MAX  78.02416\n"
     ]
    },
    {
     "name": "stderr",
     "output_type": "stream",
     "text": [
      "127.0.0.1 - - [14/Jun/2019 02:57:08] \"GET /socket.io/?EIO=4&transport=websocket HTTP/1.1\" 200 0 4873.157523\n",
      "127.0.0.1 - - [14/Jun/2019 02:57:14] \"GET /socket.io/?EIO=4&transport=websocket HTTP/1.1\" 200 0 62.730717\n"
     ]
    },
    {
     "name": "stdout",
     "output_type": "stream",
     "text": [
      "EPISODE 96 TIMESTEP 32160 / ACTION [-0.2857142857142858, 0.3] / REWARD 0.90541068 / EPISODE LENGTH 36 / Q_MAX  74.33096\n",
      "EPISODE 96 TIMESTEP 32190 / ACTION [0.0, 0.3] / REWARD 0.7995542 / EPISODE LENGTH 66 / Q_MAX  51.878273\n",
      "EPISODE 96 TIMESTEP 32220 / ACTION [-0.1428571428571429, 0.3] / REWARD 0.750352 / EPISODE LENGTH 96 / Q_MAX  79.77807\n",
      "EPISODE 96 TIMESTEP 32250 / ACTION [-0.7142857142857143, 0.3] / REWARD 0.7408284 / EPISODE LENGTH 126 / Q_MAX  72.2158\n",
      "EPISODE 96 TIMESTEP 32280 / ACTION [-0.7142857142857143, 0.3] / REWARD 0.349591 / EPISODE LENGTH 156 / Q_MAX  62.226017\n",
      "EPISODE 96 TIMESTEP 32310 / ACTION [-0.5714285714285714, 0.3] / REWARD 0.8061681 / EPISODE LENGTH 186 / Q_MAX  56.78096\n",
      "EPISODE 96 TIMESTEP 32340 / ACTION [-0.5714285714285714, 0.3] / REWARD 0.746825 / EPISODE LENGTH 216 / Q_MAX  60.02169\n",
      "EPISODE 96 TIMESTEP 32370 / ACTION [0.7142857142857142, 0.3] / REWARD 0.89438882 / EPISODE LENGTH 246 / Q_MAX  71.1292\n",
      "EPISODE 96 TIMESTEP 32400 / ACTION [0.5714285714285714, 0.3] / REWARD 0.8248984 / EPISODE LENGTH 276 / Q_MAX  68.42073\n",
      "EPISODE 96 TIMESTEP 32430 / ACTION [-0.8571428571428572, 0.3] / REWARD 0.6214226 / EPISODE LENGTH 306 / Q_MAX  57.61975\n",
      "EPISODE 96 TIMESTEP 32460 / ACTION [0.2857142857142856, 0.3] / REWARD 0.5222368000000001 / EPISODE LENGTH 336 / Q_MAX  71.27642\n",
      "EPISODE 96 TIMESTEP 32490 / ACTION [0.5714285714285714, 0.3] / REWARD 0.3100208 / EPISODE LENGTH 366 / Q_MAX  62.77731\n",
      "EPISODE 96 TIMESTEP 32520 / ACTION [0.5714285714285714, 0.3] / REWARD 0.3280322 / EPISODE LENGTH 396 / Q_MAX  71.89135\n",
      "episode: 96   memory length: 10000   epsilon: 0.01999999999983204  episode length: 419\n",
      "Episode:  97\n",
      "connect  fcd812a9db704520bb9d0136780ecc62\n",
      "ProtocolVersion  fcd812a9db704520bb9d0136780ecc62\n",
      "Loading generated_road\n"
     ]
    },
    {
     "name": "stderr",
     "output_type": "stream",
     "text": [
      "(1924) accepted ('127.0.0.1', 5871)\n",
      "(1924) accepted ('127.0.0.1', 5872)\n"
     ]
    },
    {
     "name": "stdout",
     "output_type": "stream",
     "text": [
      "connect  e4106697a74445a7b263bf48686d9d66\n",
      "EPISODE 97 TIMESTEP 32550 / ACTION [-0.7142857142857143, 0.3] / REWARD 0.999216707 / EPISODE LENGTH 7 / Q_MAX  60.38333\n"
     ]
    },
    {
     "name": "stderr",
     "output_type": "stream",
     "text": [
      "127.0.0.1 - - [14/Jun/2019 03:18:31] \"GET /socket.io/?EIO=4&transport=websocket HTTP/1.1\" 200 0 1339.281686\n",
      "127.0.0.1 - - [14/Jun/2019 03:18:34] \"GET /socket.io/?EIO=4&transport=websocket HTTP/1.1\" 200 0 61.904332\n"
     ]
    },
    {
     "name": "stdout",
     "output_type": "stream",
     "text": [
      "EPISODE 97 TIMESTEP 32580 / ACTION [0.4285714285714284, 0.3] / REWARD 0.93119284 / EPISODE LENGTH 37 / Q_MAX  62.64237\n",
      "EPISODE 97 TIMESTEP 32610 / ACTION [0.4285714285714284, 0.3] / REWARD 0.8982319 / EPISODE LENGTH 67 / Q_MAX  61.02694\n",
      "EPISODE 97 TIMESTEP 32640 / ACTION [0.2857142857142856, 0.3] / REWARD 0.95258722 / EPISODE LENGTH 97 / Q_MAX  72.75557\n",
      "EPISODE 97 TIMESTEP 32670 / ACTION [0.7142857142857142, 0.3] / REWARD 0.8992006 / EPISODE LENGTH 127 / Q_MAX  76.877014\n",
      "EPISODE 97 TIMESTEP 32700 / ACTION [-1.0, 0.3] / REWARD 0.22931460000000004 / EPISODE LENGTH 157 / Q_MAX  66.51868\n",
      "EPISODE 97 TIMESTEP 32730 / ACTION [-0.1428571428571429, 0.3] / REWARD 0.20084000000000002 / EPISODE LENGTH 187 / Q_MAX  75.760765\n",
      "EPISODE 97 TIMESTEP 32760 / ACTION [0.857142857142857, 0.3] / REWARD 0.8075319 / EPISODE LENGTH 217 / Q_MAX  75.734215\n",
      "EPISODE 97 TIMESTEP 32790 / ACTION [0.2857142857142856, 0.3] / REWARD 0.7094895999999999 / EPISODE LENGTH 247 / Q_MAX  78.829735\n",
      "EPISODE 97 TIMESTEP 32820 / ACTION [0.0, 0.3] / REWARD 0.6881198 / EPISODE LENGTH 277 / Q_MAX  64.820274\n",
      "EPISODE 97 TIMESTEP 32850 / ACTION [-0.7142857142857143, 0.3] / REWARD 0.7399131999999999 / EPISODE LENGTH 307 / Q_MAX  65.12123\n",
      "EPISODE 97 TIMESTEP 32880 / ACTION [0.4285714285714284, 0.3] / REWARD 0.6489496 / EPISODE LENGTH 337 / Q_MAX  66.63101\n",
      "EPISODE 97 TIMESTEP 32910 / ACTION [0.857142857142857, 0.3] / REWARD 0.4316586 / EPISODE LENGTH 367 / Q_MAX  75.327644\n",
      "EPISODE 97 TIMESTEP 32940 / ACTION [-0.4285714285714286, 0.3] / REWARD 0.7006154 / EPISODE LENGTH 397 / Q_MAX  63.791348\n",
      "EPISODE 97 TIMESTEP 32970 / ACTION [-1.0, 0.3] / REWARD 0.82504512 / EPISODE LENGTH 427 / Q_MAX  75.1245\n",
      "EPISODE 97 TIMESTEP 33000 / ACTION [-0.8571428571428572, 0.3] / REWARD 0.38591200000000003 / EPISODE LENGTH 457 / Q_MAX  48.013943\n",
      "EPISODE 97 TIMESTEP 33030 / ACTION [-0.1428571428571429, 0.3] / REWARD 0.8092779 / EPISODE LENGTH 487 / Q_MAX  69.21626\n",
      "EPISODE 97 TIMESTEP 33060 / ACTION [0.7142857142857142, 0.3] / REWARD 0.7497962 / EPISODE LENGTH 517 / Q_MAX  65.39312\n",
      "EPISODE 97 TIMESTEP 33090 / ACTION [0.5714285714285714, 0.3] / REWARD 0.45344759999999995 / EPISODE LENGTH 547 / Q_MAX  53.518623\n",
      "EPISODE 97 TIMESTEP 33120 / ACTION [-1.0, 0.3] / REWARD 0.915313 / EPISODE LENGTH 577 / Q_MAX  58.837677\n",
      "EPISODE 97 TIMESTEP 33150 / ACTION [0.4285714285714284, 0.3] / REWARD 0.8915241 / EPISODE LENGTH 607 / Q_MAX  77.66185\n",
      "EPISODE 97 TIMESTEP 33180 / ACTION [-0.5714285714285714, 0.3] / REWARD 0.5199304 / EPISODE LENGTH 637 / Q_MAX  61.20439\n",
      "EPISODE 97 TIMESTEP 33210 / ACTION [-0.8571428571428572, 0.3] / REWARD 0.947006 / EPISODE LENGTH 667 / Q_MAX  70.78658\n",
      "EPISODE 97 TIMESTEP 33240 / ACTION [-0.1428571428571429, 0.3] / REWARD 0.87756576 / EPISODE LENGTH 697 / Q_MAX  76.66824\n",
      "EPISODE 97 TIMESTEP 33270 / ACTION [0.4285714285714284, 0.3] / REWARD 0.81866802 / EPISODE LENGTH 727 / Q_MAX  58.376293\n",
      "EPISODE 97 TIMESTEP 33300 / ACTION [0.857142857142857, 0.3] / REWARD 0.8964964 / EPISODE LENGTH 757 / Q_MAX  59.662914\n",
      "EPISODE 97 TIMESTEP 33330 / ACTION [0.4285714285714284, 0.3] / REWARD 0.97148336 / EPISODE LENGTH 787 / Q_MAX  71.12896\n",
      "EPISODE 97 TIMESTEP 33360 / ACTION [0.4285714285714284, 0.3] / REWARD 0.8569833 / EPISODE LENGTH 817 / Q_MAX  70.678024\n",
      "EPISODE 97 TIMESTEP 33390 / ACTION [0.0, 0.3] / REWARD 0.85847496 / EPISODE LENGTH 847 / Q_MAX  62.915188\n",
      "EPISODE 97 TIMESTEP 33420 / ACTION [-0.7142857142857143, 0.3] / REWARD 0.99607821 / EPISODE LENGTH 877 / Q_MAX  74.352394\n",
      "EPISODE 97 TIMESTEP 33450 / ACTION [0.1428571428571428, 0.3] / REWARD 0.90016556 / EPISODE LENGTH 907 / Q_MAX  71.38513\n",
      "EPISODE 97 TIMESTEP 33480 / ACTION [0.2857142857142856, 0.3] / REWARD 0.4412024 / EPISODE LENGTH 937 / Q_MAX  53.982452\n",
      "EPISODE 97 TIMESTEP 33510 / ACTION [0.857142857142857, 0.3] / REWARD 0.4450012 / EPISODE LENGTH 967 / Q_MAX  76.8084\n",
      "EPISODE 97 TIMESTEP 33540 / ACTION [0.857142857142857, 0.3] / REWARD 0.4792404 / EPISODE LENGTH 997 / Q_MAX  74.5558\n",
      "EPISODE 97 TIMESTEP 33570 / ACTION [0.5714285714285714, 0.3] / REWARD 0.7452920000000001 / EPISODE LENGTH 1027 / Q_MAX  61.450138\n",
      "EPISODE 97 TIMESTEP 33600 / ACTION [-0.8571428571428572, 0.3] / REWARD 0.5415292 / EPISODE LENGTH 1057 / Q_MAX  62.97506\n",
      "EPISODE 97 TIMESTEP 33630 / ACTION [0.1428571428571428, 0.3] / REWARD 0.7140181999999999 / EPISODE LENGTH 1087 / Q_MAX  77.645996\n",
      "EPISODE 97 TIMESTEP 33660 / ACTION [0.7142857142857142, 0.3] / REWARD 0.8204813200000001 / EPISODE LENGTH 1117 / Q_MAX  50.74639\n",
      "EPISODE 97 TIMESTEP 33690 / ACTION [0.1428571428571428, 0.3] / REWARD 0.85255098 / EPISODE LENGTH 1147 / Q_MAX  74.898155\n",
      "EPISODE 97 TIMESTEP 33720 / ACTION [0.2857142857142856, 0.3] / REWARD 0.94873546 / EPISODE LENGTH 1177 / Q_MAX  75.04705\n",
      "EPISODE 97 TIMESTEP 33750 / ACTION [0.2857142857142856, 0.3] / REWARD 0.4549168 / EPISODE LENGTH 1207 / Q_MAX  70.83742\n",
      "EPISODE 97 TIMESTEP 33780 / ACTION [0.2857142857142856, 0.3] / REWARD 0.4297366 / EPISODE LENGTH 1237 / Q_MAX  78.3916\n",
      "EPISODE 97 TIMESTEP 33810 / ACTION [0.5714285714285714, 0.3] / REWARD 0.85018162 / EPISODE LENGTH 1267 / Q_MAX  78.598274\n",
      "EPISODE 97 TIMESTEP 33840 / ACTION [0.0, 0.3] / REWARD 0.7618254 / EPISODE LENGTH 1297 / Q_MAX  79.18971\n",
      "EPISODE 97 TIMESTEP 33870 / ACTION [0.0, 0.3] / REWARD 0.91158108 / EPISODE LENGTH 1327 / Q_MAX  55.492836\n",
      "EPISODE 97 TIMESTEP 33900 / ACTION [-0.8571428571428572, 0.3] / REWARD 0.7846272 / EPISODE LENGTH 1357 / Q_MAX  69.9707\n",
      "EPISODE 97 TIMESTEP 33930 / ACTION [0.1428571428571428, 0.3] / REWARD 0.82145862 / EPISODE LENGTH 1387 / Q_MAX  53.55063\n",
      "EPISODE 97 TIMESTEP 33960 / ACTION [-1.0, 0.3] / REWARD 1.0 / EPISODE LENGTH 1417 / Q_MAX  42.310352\n",
      "episode: 97   memory length: 10000   epsilon: 0.01999999999983204  episode length: 1418\n",
      "Episode:  98\n",
      "connect  a92d084d128046a685e0df668edff386\n",
      "ProtocolVersion  a92d084d128046a685e0df668edff386\n",
      "Loading generated_road\n"
     ]
    },
    {
     "name": "stderr",
     "output_type": "stream",
     "text": [
      "(1924) accepted ('127.0.0.1', 5995)\n",
      "(1924) accepted ('127.0.0.1', 5996)\n"
     ]
    },
    {
     "name": "stdout",
     "output_type": "stream",
     "text": [
      "connect  fdcedbe153414d939a7ee328f2581739\n"
     ]
    },
    {
     "name": "stderr",
     "output_type": "stream",
     "text": [
      "127.0.0.1 - - [14/Jun/2019 04:29:40] \"GET /socket.io/?EIO=4&transport=websocket HTTP/1.1\" 200 0 4327.704867\n",
      "127.0.0.1 - - [14/Jun/2019 04:29:44] \"GET /socket.io/?EIO=4&transport=websocket HTTP/1.1\" 200 0 62.638177\n"
     ]
    },
    {
     "name": "stdout",
     "output_type": "stream",
     "text": [
      "EPISODE 98 TIMESTEP 33990 / ACTION [0.2857142857142856, 0.3] / REWARD 0.96834522 / EPISODE LENGTH 29 / Q_MAX  62.407608\n",
      "EPISODE 98 TIMESTEP 34020 / ACTION [0.2857142857142856, 0.3] / REWARD 0.949404 / EPISODE LENGTH 59 / Q_MAX  65.43953\n",
      "EPISODE 98 TIMESTEP 34050 / ACTION [0.4285714285714284, 0.3] / REWARD 0.97628552 / EPISODE LENGTH 89 / Q_MAX  68.74236\n",
      "EPISODE 98 TIMESTEP 34080 / ACTION [0.857142857142857, 0.3] / REWARD 0.92056242 / EPISODE LENGTH 119 / Q_MAX  56.839386\n",
      "EPISODE 98 TIMESTEP 34110 / ACTION [-0.7142857142857143, 0.3] / REWARD 0.7698534 / EPISODE LENGTH 149 / Q_MAX  54.85028\n",
      "EPISODE 98 TIMESTEP 34140 / ACTION [-0.1428571428571429, 0.3] / REWARD 0.81133506 / EPISODE LENGTH 179 / Q_MAX  78.60808\n",
      "EPISODE 98 TIMESTEP 34170 / ACTION [-0.7142857142857143, 0.3] / REWARD 0.88971596 / EPISODE LENGTH 209 / Q_MAX  72.716675\n",
      "EPISODE 98 TIMESTEP 34200 / ACTION [0.2857142857142856, 0.3] / REWARD 0.2983108 / EPISODE LENGTH 239 / Q_MAX  73.68354\n",
      "EPISODE 98 TIMESTEP 34230 / ACTION [0.1428571428571428, 0.3] / REWARD 0.7188708 / EPISODE LENGTH 269 / Q_MAX  71.96833\n",
      "EPISODE 98 TIMESTEP 34260 / ACTION [-0.4285714285714286, 0.3] / REWARD 0.96944734 / EPISODE LENGTH 299 / Q_MAX  72.17206\n",
      "EPISODE 98 TIMESTEP 34290 / ACTION [0.857142857142857, 0.3] / REWARD 0.7884594 / EPISODE LENGTH 329 / Q_MAX  69.630066\n",
      "EPISODE 98 TIMESTEP 34320 / ACTION [-1.0, 0.3] / REWARD 0.96129484 / EPISODE LENGTH 359 / Q_MAX  65.485825\n",
      "EPISODE 98 TIMESTEP 34350 / ACTION [0.5714285714285714, 0.3] / REWARD 0.90362918 / EPISODE LENGTH 389 / Q_MAX  63.07202\n",
      "EPISODE 98 TIMESTEP 34380 / ACTION [0.8626401497252774, 0.3] / REWARD 0.5709898 / EPISODE LENGTH 419 / Q_MAX  71.83243\n",
      "EPISODE 98 TIMESTEP 34410 / ACTION [-1.0, 0.3] / REWARD 0.4992476 / EPISODE LENGTH 449 / Q_MAX  59.36452\n",
      "EPISODE 98 TIMESTEP 34440 / ACTION [0.857142857142857, 0.3] / REWARD 0.40453799999999995 / EPISODE LENGTH 479 / Q_MAX  62.02722\n",
      "EPISODE 98 TIMESTEP 34470 / ACTION [0.4285714285714284, 0.3] / REWARD 0.92878576 / EPISODE LENGTH 509 / Q_MAX  67.47072\n",
      "EPISODE 98 TIMESTEP 34500 / ACTION [0.5714285714285714, 0.3] / REWARD 0.90190148 / EPISODE LENGTH 539 / Q_MAX  31.471357\n",
      "EPISODE 98 TIMESTEP 34530 / ACTION [-0.8571428571428572, 0.3] / REWARD 0.455705 / EPISODE LENGTH 569 / Q_MAX  68.45393\n",
      "EPISODE 98 TIMESTEP 34560 / ACTION [-0.8571428571428572, 0.3] / REWARD 0.36558440000000003 / EPISODE LENGTH 599 / Q_MAX  79.2848\n",
      "EPISODE 98 TIMESTEP 34590 / ACTION [0.2857142857142856, 0.3] / REWARD 0.6049866 / EPISODE LENGTH 629 / Q_MAX  68.72013\n",
      "EPISODE 98 TIMESTEP 34620 / ACTION [-0.9039113981319675, 0.3] / REWARD 0.727971 / EPISODE LENGTH 659 / Q_MAX  64.52924\n",
      "EPISODE 98 TIMESTEP 34650 / ACTION [-0.7142857142857143, 0.3] / REWARD 0.80129554 / EPISODE LENGTH 689 / Q_MAX  70.781136\n",
      "EPISODE 98 TIMESTEP 34680 / ACTION [-0.4285714285714286, 0.3] / REWARD 0.8680595799999999 / EPISODE LENGTH 719 / Q_MAX  72.9087\n",
      "EPISODE 98 TIMESTEP 34710 / ACTION [-1.0, 0.3] / REWARD 0.7982904 / EPISODE LENGTH 749 / Q_MAX  69.89328\n",
      "EPISODE 98 TIMESTEP 34740 / ACTION [0.1428571428571428, 0.3] / REWARD 0.9095866 / EPISODE LENGTH 779 / Q_MAX  73.78715\n",
      "EPISODE 98 TIMESTEP 34770 / ACTION [-0.1428571428571429, 0.3] / REWARD 0.91799064 / EPISODE LENGTH 809 / Q_MAX  46.42284\n",
      "EPISODE 98 TIMESTEP 34800 / ACTION [0.857142857142857, 0.3] / REWARD 0.84004056 / EPISODE LENGTH 839 / Q_MAX  75.45185\n",
      "EPISODE 98 TIMESTEP 34830 / ACTION [0.857142857142857, 0.3] / REWARD 0.86412448 / EPISODE LENGTH 869 / Q_MAX  53.03838\n",
      "EPISODE 98 TIMESTEP 34860 / ACTION [0.7142857142857142, 0.3] / REWARD 0.989581118 / EPISODE LENGTH 899 / Q_MAX  71.99081\n",
      "EPISODE 98 TIMESTEP 34890 / ACTION [0.1428571428571428, 0.3] / REWARD 0.8518743 / EPISODE LENGTH 929 / Q_MAX  71.98055\n",
      "EPISODE 98 TIMESTEP 34920 / ACTION [-0.5714285714285714, 0.3] / REWARD 0.8895927 / EPISODE LENGTH 959 / Q_MAX  71.57321\n",
      "EPISODE 98 TIMESTEP 34950 / ACTION [0.1428571428571428, 0.3] / REWARD 0.89319928 / EPISODE LENGTH 989 / Q_MAX  64.02849\n",
      "EPISODE 98 TIMESTEP 34980 / ACTION [0.4285714285714284, 0.3] / REWARD 0.8897279 / EPISODE LENGTH 1019 / Q_MAX  75.133286\n",
      "EPISODE 98 TIMESTEP 35010 / ACTION [-0.09606017561055835, 0.3] / REWARD 0.9776595 / EPISODE LENGTH 1049 / Q_MAX  81.03542\n",
      "EPISODE 98 TIMESTEP 35040 / ACTION [-0.1428571428571429, 0.3] / REWARD 0.8518633 / EPISODE LENGTH 1079 / Q_MAX  61.461464\n",
      "EPISODE 98 TIMESTEP 35070 / ACTION [0.5714285714285714, 0.3] / REWARD 0.6707736 / EPISODE LENGTH 1109 / Q_MAX  70.736374\n",
      "EPISODE 98 TIMESTEP 35100 / ACTION [0.857142857142857, 0.3] / REWARD 0.72543 / EPISODE LENGTH 1139 / Q_MAX  58.504173\n",
      "EPISODE 98 TIMESTEP 35130 / ACTION [0.2857142857142856, 0.3] / REWARD 0.94083508 / EPISODE LENGTH 1169 / Q_MAX  67.09238\n",
      "EPISODE 98 TIMESTEP 35160 / ACTION [-0.7142857142857143, 0.3] / REWARD 0.96349176 / EPISODE LENGTH 1199 / Q_MAX  55.13846\n",
      "EPISODE 98 TIMESTEP 35190 / ACTION [-0.5750414468190959, 0.3] / REWARD 0.7259574 / EPISODE LENGTH 1229 / Q_MAX  61.834957\n",
      "EPISODE 98 TIMESTEP 35220 / ACTION [-0.7142857142857143, 0.3] / REWARD 0.524187 / EPISODE LENGTH 1259 / Q_MAX  72.040474\n",
      "EPISODE 98 TIMESTEP 35250 / ACTION [1.0, 0.3] / REWARD 0.7133696 / EPISODE LENGTH 1289 / Q_MAX  74.910034\n",
      "EPISODE 98 TIMESTEP 35280 / ACTION [1.0, 0.3] / REWARD 0.96064032 / EPISODE LENGTH 1319 / Q_MAX  77.30594\n",
      "EPISODE 98 TIMESTEP 35310 / ACTION [-0.7142857142857143, 0.3] / REWARD 0.6183584 / EPISODE LENGTH 1349 / Q_MAX  66.486084\n",
      "EPISODE 98 TIMESTEP 35340 / ACTION [0.4285714285714284, 0.3] / REWARD 0.37875519999999996 / EPISODE LENGTH 1379 / Q_MAX  70.607155\n",
      "EPISODE 98 TIMESTEP 35370 / ACTION [0.35614935264821845, 0.3] / REWARD 0.715066 / EPISODE LENGTH 1409 / Q_MAX  68.485664\n",
      "EPISODE 98 TIMESTEP 35400 / ACTION [1.0, 0.3] / REWARD 0.6602032 / EPISODE LENGTH 1439 / Q_MAX  56.22715\n",
      "EPISODE 98 TIMESTEP 35430 / ACTION [-0.8571428571428572, 0.3] / REWARD 0.5923506 / EPISODE LENGTH 1469 / Q_MAX  79.533485\n",
      "EPISODE 98 TIMESTEP 35460 / ACTION [-1.0, 0.3] / REWARD 0.376066 / EPISODE LENGTH 1499 / Q_MAX  72.11566\n",
      "episode: 98   memory length: 10000   epsilon: 0.01999999999983204  episode length: 1502\n",
      "Episode:  99\n",
      "connect  1e3395f54d904f56abce90e4bcc162ed\n",
      "ProtocolVersion  1e3395f54d904f56abce90e4bcc162ed\n",
      "Loading generated_road\n"
     ]
    },
    {
     "name": "stderr",
     "output_type": "stream",
     "text": [
      "(1924) accepted ('127.0.0.1', 6116)\n",
      "(1924) accepted ('127.0.0.1', 6117)\n"
     ]
    },
    {
     "name": "stdout",
     "output_type": "stream",
     "text": [
      "connect  5954c4e0a5c742f9ad4cf5fc27f7d46d\n"
     ]
    },
    {
     "name": "stderr",
     "output_type": "stream",
     "text": [
      "127.0.0.1 - - [14/Jun/2019 05:44:04] \"GET /socket.io/?EIO=4&transport=websocket HTTP/1.1\" 200 0 4523.068820\n",
      "127.0.0.1 - - [14/Jun/2019 05:44:07] \"GET /socket.io/?EIO=4&transport=websocket HTTP/1.1\" 200 0 60.177603\n"
     ]
    },
    {
     "name": "stdout",
     "output_type": "stream",
     "text": [
      "EPISODE 99 TIMESTEP 35490 / ACTION [0.0, 0.3] / REWARD 0.991789946 / EPISODE LENGTH 27 / Q_MAX  81.19757\n",
      "EPISODE 99 TIMESTEP 35520 / ACTION [-1.0, 0.3] / REWARD 0.99499068 / EPISODE LENGTH 57 / Q_MAX  67.263405\n",
      "EPISODE 99 TIMESTEP 35550 / ACTION [0.1428571428571428, 0.3] / REWARD 0.908881 / EPISODE LENGTH 87 / Q_MAX  78.55588\n",
      "EPISODE 99 TIMESTEP 35580 / ACTION [-0.2857142857142858, 0.3] / REWARD 0.83526956 / EPISODE LENGTH 117 / Q_MAX  57.60295\n",
      "EPISODE 99 TIMESTEP 35610 / ACTION [-0.7142857142857143, 0.3] / REWARD 0.7464402 / EPISODE LENGTH 147 / Q_MAX  74.14958\n",
      "EPISODE 99 TIMESTEP 35640 / ACTION [-0.8571428571428572, 0.3] / REWARD 0.5260808 / EPISODE LENGTH 177 / Q_MAX  64.01291\n",
      "EPISODE 99 TIMESTEP 35670 / ACTION [-0.2857142857142858, 0.3] / REWARD 0.5116064 / EPISODE LENGTH 207 / Q_MAX  58.321327\n",
      "EPISODE 99 TIMESTEP 35700 / ACTION [-0.8571428571428572, 0.3] / REWARD 0.48631140000000006 / EPISODE LENGTH 237 / Q_MAX  77.62903\n",
      "EPISODE 99 TIMESTEP 35730 / ACTION [0.7142857142857142, 0.3] / REWARD 0.49672400000000005 / EPISODE LENGTH 267 / Q_MAX  72.4617\n",
      "EPISODE 99 TIMESTEP 35760 / ACTION [0.4285714285714284, 0.3] / REWARD 0.93314808 / EPISODE LENGTH 297 / Q_MAX  60.93186\n",
      "EPISODE 99 TIMESTEP 35790 / ACTION [0.5714285714285714, 0.3] / REWARD 0.9295826 / EPISODE LENGTH 327 / Q_MAX  74.78598\n",
      "EPISODE 99 TIMESTEP 35820 / ACTION [0.5714285714285714, 0.3] / REWARD 0.9109866600000001 / EPISODE LENGTH 357 / Q_MAX  70.467705\n",
      "EPISODE 99 TIMESTEP 35850 / ACTION [-0.4285714285714286, 0.3] / REWARD 0.88343622 / EPISODE LENGTH 387 / Q_MAX  52.037014\n",
      "EPISODE 99 TIMESTEP 35880 / ACTION [0.4285714285714284, 0.3] / REWARD 0.86227034 / EPISODE LENGTH 417 / Q_MAX  82.21006\n",
      "EPISODE 99 TIMESTEP 35910 / ACTION [0.4285714285714284, 0.3] / REWARD 0.88582246 / EPISODE LENGTH 447 / Q_MAX  52.87404\n",
      "EPISODE 99 TIMESTEP 35940 / ACTION [1.0, 0.3] / REWARD 0.8801709 / EPISODE LENGTH 477 / Q_MAX  71.117805\n",
      "EPISODE 99 TIMESTEP 35970 / ACTION [0.7142857142857142, 0.3] / REWARD 0.93829396 / EPISODE LENGTH 507 / Q_MAX  73.6518\n",
      "EPISODE 99 TIMESTEP 36000 / ACTION [0.857142857142857, 0.3] / REWARD 0.80561616 / EPISODE LENGTH 537 / Q_MAX  60.113426\n",
      "EPISODE 99 TIMESTEP 36030 / ACTION [0.2857142857142856, 0.3] / REWARD 0.94412298 / EPISODE LENGTH 567 / Q_MAX  75.313416\n",
      "EPISODE 99 TIMESTEP 36060 / ACTION [-0.7142857142857143, 0.3] / REWARD 0.9414299 / EPISODE LENGTH 597 / Q_MAX  61.069233\n",
      "EPISODE 99 TIMESTEP 36090 / ACTION [-0.7142857142857143, 0.3] / REWARD 0.86228202 / EPISODE LENGTH 627 / Q_MAX  73.39812\n",
      "EPISODE 99 TIMESTEP 36120 / ACTION [0.2857142857142856, 0.3] / REWARD 0.7407404 / EPISODE LENGTH 657 / Q_MAX  61.31715\n",
      "EPISODE 99 TIMESTEP 36150 / ACTION [0.1428571428571428, 0.3] / REWARD 0.874757 / EPISODE LENGTH 687 / Q_MAX  75.626045\n",
      "EPISODE 99 TIMESTEP 36180 / ACTION [0.7142857142857142, 0.3] / REWARD 0.89827886 / EPISODE LENGTH 717 / Q_MAX  60.807484\n",
      "EPISODE 99 TIMESTEP 36210 / ACTION [0.4285714285714284, 0.3] / REWARD 0.6166454 / EPISODE LENGTH 747 / Q_MAX  69.911934\n",
      "EPISODE 99 TIMESTEP 36240 / ACTION [-1.0, 0.3] / REWARD 0.92220872 / EPISODE LENGTH 777 / Q_MAX  67.866516\n",
      "EPISODE 99 TIMESTEP 36270 / ACTION [0.5633045056668788, 0.3] / REWARD 0.86933086 / EPISODE LENGTH 807 / Q_MAX  69.83501\n",
      "EPISODE 99 TIMESTEP 36300 / ACTION [0.857142857142857, 0.3] / REWARD 0.7777076 / EPISODE LENGTH 837 / Q_MAX  68.89665\n",
      "EPISODE 99 TIMESTEP 36330 / ACTION [0.5714285714285714, 0.3] / REWARD 0.3142948 / EPISODE LENGTH 867 / Q_MAX  16.041475\n",
      "EPISODE 99 TIMESTEP 36360 / ACTION [0.857142857142857, 0.3] / REWARD 0.7757492 / EPISODE LENGTH 897 / Q_MAX  63.968464\n",
      "EPISODE 99 TIMESTEP 36390 / ACTION [0.857142857142857, 0.3] / REWARD 0.7934816 / EPISODE LENGTH 927 / Q_MAX  64.99435\n",
      "EPISODE 99 TIMESTEP 36420 / ACTION [-0.8571428571428572, 0.3] / REWARD 0.3139434 / EPISODE LENGTH 957 / Q_MAX  70.371216\n",
      "EPISODE 99 TIMESTEP 36450 / ACTION [-0.4285714285714286, 0.3] / REWARD 0.95373696 / EPISODE LENGTH 987 / Q_MAX  56.947987\n",
      "EPISODE 99 TIMESTEP 36480 / ACTION [0.1428571428571428, 0.3] / REWARD 0.94137044 / EPISODE LENGTH 1017 / Q_MAX  72.57863\n",
      "EPISODE 99 TIMESTEP 36510 / ACTION [-0.7142857142857143, 0.3] / REWARD 0.7334084 / EPISODE LENGTH 1047 / Q_MAX  72.954895\n",
      "EPISODE 99 TIMESTEP 36540 / ACTION [-0.8571428571428572, 0.3] / REWARD 0.4392796 / EPISODE LENGTH 1077 / Q_MAX  73.770226\n",
      "EPISODE 99 TIMESTEP 36570 / ACTION [0.4285714285714284, 0.3] / REWARD 0.5427154 / EPISODE LENGTH 1107 / Q_MAX  67.77742\n",
      "EPISODE 99 TIMESTEP 36600 / ACTION [0.1428571428571428, 0.3] / REWARD 0.95424374 / EPISODE LENGTH 1137 / Q_MAX  71.636116\n",
      "EPISODE 99 TIMESTEP 36630 / ACTION [0.7142857142857142, 0.3] / REWARD 0.96748114 / EPISODE LENGTH 1167 / Q_MAX  58.823334\n",
      "EPISODE 99 TIMESTEP 36660 / ACTION [-0.7142857142857143, 0.3] / REWARD 0.984455096 / EPISODE LENGTH 1197 / Q_MAX  71.69287\n",
      "EPISODE 99 TIMESTEP 36690 / ACTION [-0.5714285714285714, 0.3] / REWARD 0.792791 / EPISODE LENGTH 1227 / Q_MAX  59.624737\n",
      "EPISODE 99 TIMESTEP 36720 / ACTION [-0.8571428571428572, 0.3] / REWARD 0.6675534 / EPISODE LENGTH 1257 / Q_MAX  74.95463\n",
      "EPISODE 99 TIMESTEP 36750 / ACTION [0.2857142857142856, 0.3] / REWARD 0.46627419999999997 / EPISODE LENGTH 1287 / Q_MAX  72.88444\n",
      "EPISODE 99 TIMESTEP 36780 / ACTION [0.4285714285714284, 0.3] / REWARD 0.97468384 / EPISODE LENGTH 1317 / Q_MAX  78.08074\n",
      "EPISODE 99 TIMESTEP 36810 / ACTION [1.0, 0.3] / REWARD 0.7104204000000001 / EPISODE LENGTH 1347 / Q_MAX  68.59889\n",
      "EPISODE 99 TIMESTEP 36840 / ACTION [0.1428571428571428, 0.3] / REWARD 0.9328582 / EPISODE LENGTH 1377 / Q_MAX  75.73914\n",
      "EPISODE 99 TIMESTEP 36870 / ACTION [0.857142857142857, 0.3] / REWARD 0.85366236 / EPISODE LENGTH 1407 / Q_MAX  56.773685\n",
      "EPISODE 99 TIMESTEP 36900 / ACTION [0.5205859185047588, 0.3] / REWARD 0.98637049 / EPISODE LENGTH 1437 / Q_MAX  58.823933\n",
      "EPISODE 99 TIMESTEP 36930 / ACTION [0.7142857142857142, 0.3] / REWARD 0.9606179 / EPISODE LENGTH 1467 / Q_MAX  72.55997\n",
      "EPISODE 99 TIMESTEP 36960 / ACTION [-0.8571428571428572, 0.3] / REWARD 0.94296224 / EPISODE LENGTH 1497 / Q_MAX  69.19547\n",
      "EPISODE 99 TIMESTEP 36990 / ACTION [-1.0, 0.3] / REWARD 0.88997298 / EPISODE LENGTH 1527 / Q_MAX  55.729923\n",
      "EPISODE 99 TIMESTEP 37020 / ACTION [0.2857142857142856, 0.3] / REWARD 0.97816284 / EPISODE LENGTH 1557 / Q_MAX  72.11094\n",
      "episode: 99   memory length: 10000   epsilon: 0.01999999999983204  episode length: 1573\n"
     ]
    }
   ],
   "source": [
    "config = tf.ConfigProto()\n",
    "config.gpu_options.allow_growth = True\n",
    "sess = tf.Session(config=config)\n",
    "K.set_session(sess)\n",
    "\n",
    "env = gym.make(\"donkey-generated-roads-v0\")\n",
    "\n",
    "# Get size of state and action from environment\n",
    "state_size = (img_rows, img_cols, img_channels)\n",
    "action_size = env.action_space.n # Steering and Throttle\n",
    "\n",
    "agent = DQNAgent(state_size, action_size)\n",
    "\n",
    "throttle = 0.3 # Set throttle as constant value\n",
    "\n",
    "episodes = []\n",
    "\n",
    "if not agent.train:\n",
    "    print(\"Now we load the saved model\")\n",
    "    agent.load_model(\"./save_model/save_model.h5\")\n",
    "\n",
    "for e in range(EPISODES):\n",
    "\n",
    "    print(\"Episode: \", e)\n",
    "\n",
    "    done = False\n",
    "    obs = env.reset()\n",
    "\n",
    "    episode_len = 0\n",
    "\n",
    "    x_t = agent.process_image(obs)\n",
    "\n",
    "    s_t = np.stack((x_t,x_t,x_t,x_t),axis=2)\n",
    "    # In Keras, need to reshape\n",
    "    s_t = s_t.reshape(1, s_t.shape[0], s_t.shape[1], s_t.shape[2]) #1*80*80*4       \n",
    "\n",
    "    while not done:\n",
    "\n",
    "        # Get action for the current state and go one step in environment\n",
    "        steering = agent.get_action(s_t)\n",
    "        action = [steering, throttle]\n",
    "        next_obs, reward, done, info = env.step(action)\n",
    "\n",
    "        x_t1 = agent.process_image(next_obs)\n",
    "\n",
    "        x_t1 = x_t1.reshape(1, x_t1.shape[0], x_t1.shape[1], 1) #1x80x80x1\n",
    "        s_t1 = np.append(x_t1, s_t[:, :, :, :3], axis=3) #1x80x80x4\n",
    "\n",
    "        # Save the sample <s, a, r, s'> to the replay memory\n",
    "        agent.replay_memory(s_t, np.argmax(linear_bin(steering)), reward, s_t1, done)\n",
    "\n",
    "        if agent.train:\n",
    "            agent.train_replay()\n",
    "\n",
    "        s_t = s_t1\n",
    "        agent.t = agent.t + 1\n",
    "        episode_len = episode_len + 1\n",
    "        if agent.t % 30 == 0:\n",
    "            print(\"EPISODE\",  e, \"TIMESTEP\", agent.t,\"/ ACTION\", action, \"/ REWARD\", reward, \"/ EPISODE LENGTH\", episode_len, \"/ Q_MAX \" , agent.max_Q)\n",
    "\n",
    "        if done:\n",
    "\n",
    "            # Every episode update the target model to be same with model\n",
    "            agent.update_target_model()\n",
    "\n",
    "            episodes.append(e)\n",
    "\n",
    "\n",
    "            # Save model for each episode\n",
    "            if agent.train:\n",
    "                agent.save_model(\"save_model/save_model.h5\")\n",
    "\n",
    "            print(\"episode:\", e, \"  memory length:\", len(agent.memory),\n",
    "                  \"  epsilon:\", agent.epsilon, \" episode length:\", episode_len)"
   ]
  },
  {
   "cell_type": "code",
   "execution_count": null,
   "metadata": {},
   "outputs": [],
   "source": []
  },
  {
   "cell_type": "code",
   "execution_count": null,
   "metadata": {},
   "outputs": [],
   "source": []
  },
  {
   "cell_type": "code",
   "execution_count": null,
   "metadata": {},
   "outputs": [],
   "source": []
  }
 ],
 "metadata": {
  "kernelspec": {
   "display_name": "Python 3",
   "language": "python",
   "name": "python3"
  },
  "language_info": {
   "codemirror_mode": {
    "name": "ipython",
    "version": 3
   },
   "file_extension": ".py",
   "mimetype": "text/x-python",
   "name": "python",
   "nbconvert_exporter": "python",
   "pygments_lexer": "ipython3",
   "version": "3.6.7"
  },
  "widgets": {
   "state": {},
   "version": "1.1.2"
  }
 },
 "nbformat": 4,
 "nbformat_minor": 2
}
